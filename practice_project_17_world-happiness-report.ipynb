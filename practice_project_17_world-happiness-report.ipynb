{
 "cells": [
  {
   "cell_type": "markdown",
   "metadata": {},
   "source": [
    "# World Happiness Report"
   ]
  },
  {
   "cell_type": "markdown",
   "metadata": {},
   "source": [
    "#### context"
   ]
  },
  {
   "cell_type": "markdown",
   "metadata": {},
   "source": [
    "\n",
    "The World Happiness Report is a landmark survey of the state of global happiness. The first report was published in 2012, the second in 2013, the third in 2015, and the fourth in the 2016 Update. The World Happiness 2017, which ranks 155 countries by their happiness levels, was released at the United Nations at an event celebrating International Day of Happiness on March 20th. The report continues to gain global recognition as governments, organizations and civil society increasingly use happiness indicators to inform their policy-making decisions. Leading experts across fields – economics, psychology, survey analysis, national statistics, health, public policy and more – describe how measurements of well-being can be used effectively to assess the progress of nations. The reports review the state of happiness in the world today and show how the new science of happiness explains personal and national variations in happiness.\n"
   ]
  },
  {
   "cell_type": "markdown",
   "metadata": {},
   "source": [
    "# Data Description and analysis"
   ]
  },
  {
   "cell_type": "code",
   "execution_count": 205,
   "metadata": {},
   "outputs": [
    {
     "data": {
      "text/html": [
       "<div>\n",
       "<style scoped>\n",
       "    .dataframe tbody tr th:only-of-type {\n",
       "        vertical-align: middle;\n",
       "    }\n",
       "\n",
       "    .dataframe tbody tr th {\n",
       "        vertical-align: top;\n",
       "    }\n",
       "\n",
       "    .dataframe thead th {\n",
       "        text-align: right;\n",
       "    }\n",
       "</style>\n",
       "<table border=\"1\" class=\"dataframe\">\n",
       "  <thead>\n",
       "    <tr style=\"text-align: right;\">\n",
       "      <th></th>\n",
       "      <th>Country</th>\n",
       "      <th>Region</th>\n",
       "      <th>Happiness Rank</th>\n",
       "      <th>Happiness Score</th>\n",
       "      <th>Standard Error</th>\n",
       "      <th>Economy (GDP per Capita)</th>\n",
       "      <th>Family</th>\n",
       "      <th>Health (Life Expectancy)</th>\n",
       "      <th>Freedom</th>\n",
       "      <th>Trust (Government Corruption)</th>\n",
       "      <th>Generosity</th>\n",
       "      <th>Dystopia Residual</th>\n",
       "    </tr>\n",
       "  </thead>\n",
       "  <tbody>\n",
       "    <tr>\n",
       "      <th>0</th>\n",
       "      <td>Switzerland</td>\n",
       "      <td>Western Europe</td>\n",
       "      <td>1</td>\n",
       "      <td>7.587</td>\n",
       "      <td>0.03411</td>\n",
       "      <td>1.39651</td>\n",
       "      <td>1.34951</td>\n",
       "      <td>0.94143</td>\n",
       "      <td>0.66557</td>\n",
       "      <td>0.41978</td>\n",
       "      <td>0.29678</td>\n",
       "      <td>2.51738</td>\n",
       "    </tr>\n",
       "    <tr>\n",
       "      <th>1</th>\n",
       "      <td>Iceland</td>\n",
       "      <td>Western Europe</td>\n",
       "      <td>2</td>\n",
       "      <td>7.561</td>\n",
       "      <td>0.04884</td>\n",
       "      <td>1.30232</td>\n",
       "      <td>1.40223</td>\n",
       "      <td>0.94784</td>\n",
       "      <td>0.62877</td>\n",
       "      <td>0.14145</td>\n",
       "      <td>0.43630</td>\n",
       "      <td>2.70201</td>\n",
       "    </tr>\n",
       "    <tr>\n",
       "      <th>2</th>\n",
       "      <td>Denmark</td>\n",
       "      <td>Western Europe</td>\n",
       "      <td>3</td>\n",
       "      <td>7.527</td>\n",
       "      <td>0.03328</td>\n",
       "      <td>1.32548</td>\n",
       "      <td>1.36058</td>\n",
       "      <td>0.87464</td>\n",
       "      <td>0.64938</td>\n",
       "      <td>0.48357</td>\n",
       "      <td>0.34139</td>\n",
       "      <td>2.49204</td>\n",
       "    </tr>\n",
       "    <tr>\n",
       "      <th>3</th>\n",
       "      <td>Norway</td>\n",
       "      <td>Western Europe</td>\n",
       "      <td>4</td>\n",
       "      <td>7.522</td>\n",
       "      <td>0.03880</td>\n",
       "      <td>1.45900</td>\n",
       "      <td>1.33095</td>\n",
       "      <td>0.88521</td>\n",
       "      <td>0.66973</td>\n",
       "      <td>0.36503</td>\n",
       "      <td>0.34699</td>\n",
       "      <td>2.46531</td>\n",
       "    </tr>\n",
       "    <tr>\n",
       "      <th>4</th>\n",
       "      <td>Canada</td>\n",
       "      <td>North America</td>\n",
       "      <td>5</td>\n",
       "      <td>7.427</td>\n",
       "      <td>0.03553</td>\n",
       "      <td>1.32629</td>\n",
       "      <td>1.32261</td>\n",
       "      <td>0.90563</td>\n",
       "      <td>0.63297</td>\n",
       "      <td>0.32957</td>\n",
       "      <td>0.45811</td>\n",
       "      <td>2.45176</td>\n",
       "    </tr>\n",
       "  </tbody>\n",
       "</table>\n",
       "</div>"
      ],
      "text/plain": [
       "       Country          Region  Happiness Rank  Happiness Score  \\\n",
       "0  Switzerland  Western Europe               1            7.587   \n",
       "1      Iceland  Western Europe               2            7.561   \n",
       "2      Denmark  Western Europe               3            7.527   \n",
       "3       Norway  Western Europe               4            7.522   \n",
       "4       Canada   North America               5            7.427   \n",
       "\n",
       "   Standard Error  Economy (GDP per Capita)   Family  \\\n",
       "0         0.03411                   1.39651  1.34951   \n",
       "1         0.04884                   1.30232  1.40223   \n",
       "2         0.03328                   1.32548  1.36058   \n",
       "3         0.03880                   1.45900  1.33095   \n",
       "4         0.03553                   1.32629  1.32261   \n",
       "\n",
       "   Health (Life Expectancy)  Freedom  Trust (Government Corruption)  \\\n",
       "0                   0.94143  0.66557                        0.41978   \n",
       "1                   0.94784  0.62877                        0.14145   \n",
       "2                   0.87464  0.64938                        0.48357   \n",
       "3                   0.88521  0.66973                        0.36503   \n",
       "4                   0.90563  0.63297                        0.32957   \n",
       "\n",
       "   Generosity  Dystopia Residual  \n",
       "0     0.29678            2.51738  \n",
       "1     0.43630            2.70201  \n",
       "2     0.34139            2.49204  \n",
       "3     0.34699            2.46531  \n",
       "4     0.45811            2.45176  "
      ]
     },
     "execution_count": 205,
     "metadata": {},
     "output_type": "execute_result"
    }
   ],
   "source": [
    "import pandas as pd\n",
    "df=pd.read_csv(\"world_happiness_report.csv\")\n",
    "df.head()"
   ]
  },
  {
   "cell_type": "markdown",
   "metadata": {},
   "source": [
    "#### considering happiness score as our target variable"
   ]
  },
  {
   "cell_type": "code",
   "execution_count": 206,
   "metadata": {},
   "outputs": [
    {
     "data": {
      "text/plain": [
       "Index(['Country', 'Region', 'Happiness Rank', 'Happiness Score',\n",
       "       'Standard Error', 'Economy (GDP per Capita)', 'Family',\n",
       "       'Health (Life Expectancy)', 'Freedom', 'Trust (Government Corruption)',\n",
       "       'Generosity', 'Dystopia Residual'],\n",
       "      dtype='object')"
      ]
     },
     "execution_count": 206,
     "metadata": {},
     "output_type": "execute_result"
    }
   ],
   "source": [
    "df.columns"
   ]
  },
  {
   "cell_type": "code",
   "execution_count": 207,
   "metadata": {},
   "outputs": [
    {
     "name": "stdout",
     "output_type": "stream",
     "text": [
      "<class 'pandas.core.frame.DataFrame'>\n",
      "RangeIndex: 158 entries, 0 to 157\n",
      "Data columns (total 12 columns):\n",
      " #   Column                         Non-Null Count  Dtype  \n",
      "---  ------                         --------------  -----  \n",
      " 0   Country                        158 non-null    object \n",
      " 1   Region                         158 non-null    object \n",
      " 2   Happiness Rank                 158 non-null    int64  \n",
      " 3   Happiness Score                158 non-null    float64\n",
      " 4   Standard Error                 158 non-null    float64\n",
      " 5   Economy (GDP per Capita)       158 non-null    float64\n",
      " 6   Family                         158 non-null    float64\n",
      " 7   Health (Life Expectancy)       158 non-null    float64\n",
      " 8   Freedom                        158 non-null    float64\n",
      " 9   Trust (Government Corruption)  158 non-null    float64\n",
      " 10  Generosity                     158 non-null    float64\n",
      " 11  Dystopia Residual              158 non-null    float64\n",
      "dtypes: float64(9), int64(1), object(2)\n",
      "memory usage: 14.9+ KB\n"
     ]
    }
   ],
   "source": [
    "df.info()"
   ]
  },
  {
   "cell_type": "code",
   "execution_count": 208,
   "metadata": {},
   "outputs": [
    {
     "data": {
      "text/plain": [
       "Country                          0\n",
       "Region                           0\n",
       "Happiness Rank                   0\n",
       "Happiness Score                  0\n",
       "Standard Error                   0\n",
       "Economy (GDP per Capita)         0\n",
       "Family                           0\n",
       "Health (Life Expectancy)         0\n",
       "Freedom                          0\n",
       "Trust (Government Corruption)    0\n",
       "Generosity                       0\n",
       "Dystopia Residual                0\n",
       "dtype: int64"
      ]
     },
     "execution_count": 208,
     "metadata": {},
     "output_type": "execute_result"
    }
   ],
   "source": [
    "df.isnull().sum()"
   ]
  },
  {
   "cell_type": "markdown",
   "metadata": {},
   "source": [
    "There are no null values present in our dataset"
   ]
  },
  {
   "cell_type": "code",
   "execution_count": 209,
   "metadata": {},
   "outputs": [
    {
     "data": {
      "text/plain": [
       "(158, 12)"
      ]
     },
     "execution_count": 209,
     "metadata": {},
     "output_type": "execute_result"
    }
   ],
   "source": [
    "df.shape"
   ]
  },
  {
   "cell_type": "code",
   "execution_count": 210,
   "metadata": {},
   "outputs": [
    {
     "data": {
      "text/plain": [
       "Country                           object\n",
       "Region                            object\n",
       "Happiness Rank                     int64\n",
       "Happiness Score                  float64\n",
       "Standard Error                   float64\n",
       "Economy (GDP per Capita)         float64\n",
       "Family                           float64\n",
       "Health (Life Expectancy)         float64\n",
       "Freedom                          float64\n",
       "Trust (Government Corruption)    float64\n",
       "Generosity                       float64\n",
       "Dystopia Residual                float64\n",
       "dtype: object"
      ]
     },
     "execution_count": 210,
     "metadata": {},
     "output_type": "execute_result"
    }
   ],
   "source": [
    "df.dtypes"
   ]
  },
  {
   "cell_type": "markdown",
   "metadata": {},
   "source": [
    "The data set has 158 rows and 12 columns"
   ]
  },
  {
   "cell_type": "markdown",
   "metadata": {},
   "source": [
    "# EDA"
   ]
  },
  {
   "cell_type": "code",
   "execution_count": 211,
   "metadata": {},
   "outputs": [],
   "source": [
    "import matplotlib.pyplot as plt\n",
    "import seaborn as sns\n",
    "import warnings\n",
    "warnings.filterwarnings(\"ignore\")"
   ]
  },
  {
   "cell_type": "code",
   "execution_count": 212,
   "metadata": {},
   "outputs": [
    {
     "data": {
      "image/png": "[encoded data removed]",
      "text/plain": [
       "<Figure size 2520x1080 with 1 Axes>"
      ]
     },
     "metadata": {
      "needs_background": "light"
     },
     "output_type": "display_data"
    }
   ],
   "source": [
    "plt.figure(figsize=(35,15))\n",
    "sns.countplot(df[\"Region\"])\n",
    "plt.xticks(fontsize=12)  #setting the label sizes x tick is similar to x label\n",
    "plt.yticks(fontsize=12)\n",
    "plt.show()"
   ]
  },
  {
   "cell_type": "markdown",
   "metadata": {},
   "source": [
    "most of the data is drawn from sub-saharan-area"
   ]
  },
  {
   "cell_type": "code",
   "execution_count": 213,
   "metadata": {},
   "outputs": [
    {
     "data": {
      "image/png": "[encoded data removed]",
      "text/plain": [
       "<Figure size 432x288 with 1 Axes>"
      ]
     },
     "metadata": {
      "needs_background": "light"
     },
     "output_type": "display_data"
    }
   ],
   "source": [
    "sns.scatterplot(x='Happiness Score',y='Happiness Rank',data=df)\n",
    "plt.show()"
   ]
  },
  {
   "cell_type": "markdown",
   "metadata": {},
   "source": [
    "As the happiness score is decresaing the happiness rank increases"
   ]
  },
  {
   "cell_type": "code",
   "execution_count": 214,
   "metadata": {},
   "outputs": [
    {
     "data": {
      "image/png": "[encoded data removed]",
      "text/plain": [
       "<Figure size 432x288 with 1 Axes>"
      ]
     },
     "metadata": {
      "needs_background": "light"
     },
     "output_type": "display_data"
    }
   ],
   "source": [
    "sns.scatterplot(y='Happiness Score',x='Standard Error',data=df)\n",
    "plt.show()"
   ]
  },
  {
   "cell_type": "markdown",
   "metadata": {},
   "source": [
    "The standard error densely lies between 0.03 to 0.05"
   ]
  },
  {
   "cell_type": "markdown",
   "metadata": {},
   "source": [
    "As the economy is increasing the happiness score is also increasing linearly and is dense for GDP=1.25 to 1.50"
   ]
  },
  {
   "cell_type": "code",
   "execution_count": 215,
   "metadata": {},
   "outputs": [
    {
     "data": {
      "image/png": "[encoded data removed]",
      "text/plain": [
       "<Figure size 432x288 with 1 Axes>"
      ]
     },
     "metadata": {
      "needs_background": "light"
     },
     "output_type": "display_data"
    }
   ],
   "source": [
    "sns.scatterplot(y='Happiness Score',x='Family',data=df)\n",
    "plt.show()"
   ]
  },
  {
   "cell_type": "markdown",
   "metadata": {},
   "source": [
    "it shows how social relationships (family, friends, etc.) contribute to happiness. \n",
    "\n",
    "when the social relationships are good the happiness score is good ,family is dense for 1 to 1.4 range\n"
   ]
  },
  {
   "cell_type": "code",
   "execution_count": 216,
   "metadata": {},
   "outputs": [
    {
     "data": {
      "image/png": "[encoded data removed]",
      "text/plain": [
       "<Figure size 432x288 with 1 Axes>"
      ]
     },
     "metadata": {
      "needs_background": "light"
     },
     "output_type": "display_data"
    }
   ],
   "source": [
    "sns.scatterplot(y='Happiness Score',x='Health (Life Expectancy)',data=df)\n",
    "plt.show()"
   ]
  },
  {
   "cell_type": "markdown",
   "metadata": {},
   "source": [
    "the health(Life Expectancy) is good/dense in the range 0.6 to 1 where happiness score is greater than 5"
   ]
  },
  {
   "cell_type": "markdown",
   "metadata": {},
   "source": [
    "when the health is good it contributes to better happiness scores.\n",
    "\n",
    "Health is dense between 0.7 to 1.0"
   ]
  },
  {
   "cell_type": "code",
   "execution_count": 217,
   "metadata": {},
   "outputs": [
    {
     "data": {
      "image/png": "[encoded data removed]",
      "text/plain": [
       "<Figure size 432x288 with 1 Axes>"
      ]
     },
     "metadata": {
      "needs_background": "light"
     },
     "output_type": "display_data"
    }
   ],
   "source": [
    "sns.scatterplot(y='Happiness Score',x='Freedom',data=df)\n",
    "plt.show()"
   ]
  },
  {
   "cell_type": "markdown",
   "metadata": {},
   "source": [
    "shows linear relationship more the freedom more the happiness"
   ]
  },
  {
   "cell_type": "code",
   "execution_count": 218,
   "metadata": {},
   "outputs": [
    {
     "data": {
      "image/png": "[encoded data removed]",
      "text/plain": [
       "<Figure size 432x288 with 1 Axes>"
      ]
     },
     "metadata": {
      "needs_background": "light"
     },
     "output_type": "display_data"
    }
   ],
   "source": [
    "sns.scatterplot(y='Happiness Score',x='Trust (Government Corruption)',data=df)\n",
    "plt.show()"
   ]
  },
  {
   "cell_type": "markdown",
   "metadata": {},
   "source": [
    "Trust is dense in the region 0.0 to 0.2"
   ]
  },
  {
   "cell_type": "code",
   "execution_count": 219,
   "metadata": {},
   "outputs": [
    {
     "data": {
      "image/png": "[encoded data removed]",
      "text/plain": [
       "<Figure size 432x288 with 1 Axes>"
      ]
     },
     "metadata": {
      "needs_background": "light"
     },
     "output_type": "display_data"
    }
   ],
   "source": [
    "sns.scatterplot(y='Happiness Score',x='Generosity',data=df)\n",
    "plt.show()"
   ]
  },
  {
   "cell_type": "markdown",
   "metadata": {},
   "source": [
    "with increasing generosity the happiness score also increases,dense in the region .1 to 0.3"
   ]
  },
  {
   "cell_type": "code",
   "execution_count": 220,
   "metadata": {},
   "outputs": [
    {
     "data": {
      "image/png": "[encoded data removed]",
      "text/plain": [
       "<Figure size 432x288 with 1 Axes>"
      ]
     },
     "metadata": {
      "needs_background": "light"
     },
     "output_type": "display_data"
    }
   ],
   "source": [
    "sns.scatterplot(x='Happiness Score',y='Dystopia Residual',data=df)\n",
    "plt.show()"
   ]
  },
  {
   "cell_type": "markdown",
   "metadata": {},
   "source": [
    "the dystopia residual is dense where happiness score is between 4.5 and 5.5"
   ]
  },
  {
   "cell_type": "markdown",
   "metadata": {},
   "source": [
    "# Statistical Analysis"
   ]
  },
  {
   "cell_type": "markdown",
   "metadata": {},
   "source": [
    "columns [\"Country\",\"Region\",\"Happiness Rank\"] do not have much effect on our target variable i.e \"Happiness score\" .\n",
    "\n",
    "Hence we should prefer dropping them."
   ]
  },
  {
   "cell_type": "code",
   "execution_count": 221,
   "metadata": {},
   "outputs": [
    {
     "data": {
      "text/html": [
       "<div>\n",
       "<style scoped>\n",
       "    .dataframe tbody tr th:only-of-type {\n",
       "        vertical-align: middle;\n",
       "    }\n",
       "\n",
       "    .dataframe tbody tr th {\n",
       "        vertical-align: top;\n",
       "    }\n",
       "\n",
       "    .dataframe thead th {\n",
       "        text-align: right;\n",
       "    }\n",
       "</style>\n",
       "<table border=\"1\" class=\"dataframe\">\n",
       "  <thead>\n",
       "    <tr style=\"text-align: right;\">\n",
       "      <th></th>\n",
       "      <th>Happiness Score</th>\n",
       "      <th>Standard Error</th>\n",
       "      <th>Economy (GDP per Capita)</th>\n",
       "      <th>Family</th>\n",
       "      <th>Health (Life Expectancy)</th>\n",
       "      <th>Freedom</th>\n",
       "      <th>Trust (Government Corruption)</th>\n",
       "      <th>Generosity</th>\n",
       "      <th>Dystopia Residual</th>\n",
       "    </tr>\n",
       "  </thead>\n",
       "  <tbody>\n",
       "    <tr>\n",
       "      <th>73</th>\n",
       "      <td>5.399</td>\n",
       "      <td>0.02596</td>\n",
       "      <td>0.82827</td>\n",
       "      <td>1.08708</td>\n",
       "      <td>0.63793</td>\n",
       "      <td>0.46611</td>\n",
       "      <td>0.0</td>\n",
       "      <td>0.51535</td>\n",
       "      <td>1.86399</td>\n",
       "    </tr>\n",
       "  </tbody>\n",
       "</table>\n",
       "</div>"
      ],
      "text/plain": [
       "    Happiness Score  Standard Error  Economy (GDP per Capita)   Family  \\\n",
       "73            5.399         0.02596                   0.82827  1.08708   \n",
       "\n",
       "    Health (Life Expectancy)  Freedom  Trust (Government Corruption)  \\\n",
       "73                   0.63793  0.46611                            0.0   \n",
       "\n",
       "    Generosity  Dystopia Residual  \n",
       "73     0.51535            1.86399  "
      ]
     },
     "execution_count": 221,
     "metadata": {},
     "output_type": "execute_result"
    }
   ],
   "source": [
    "#dropping the unneccesary features\n",
    "df.drop(['Country','Region','Happiness Rank'],axis=1,inplace=True)\n",
    "df.sample()"
   ]
  },
  {
   "cell_type": "code",
   "execution_count": 222,
   "metadata": {},
   "outputs": [
    {
     "data": {
      "text/html": [
       "<div>\n",
       "<style scoped>\n",
       "    .dataframe tbody tr th:only-of-type {\n",
       "        vertical-align: middle;\n",
       "    }\n",
       "\n",
       "    .dataframe tbody tr th {\n",
       "        vertical-align: top;\n",
       "    }\n",
       "\n",
       "    .dataframe thead th {\n",
       "        text-align: right;\n",
       "    }\n",
       "</style>\n",
       "<table border=\"1\" class=\"dataframe\">\n",
       "  <thead>\n",
       "    <tr style=\"text-align: right;\">\n",
       "      <th></th>\n",
       "      <th>Happiness Score</th>\n",
       "      <th>Standard Error</th>\n",
       "      <th>Economy (GDP per Capita)</th>\n",
       "      <th>Family</th>\n",
       "      <th>Health (Life Expectancy)</th>\n",
       "      <th>Freedom</th>\n",
       "      <th>Trust (Government Corruption)</th>\n",
       "      <th>Generosity</th>\n",
       "      <th>Dystopia Residual</th>\n",
       "    </tr>\n",
       "  </thead>\n",
       "  <tbody>\n",
       "    <tr>\n",
       "      <th>Happiness Score</th>\n",
       "      <td>1.000000</td>\n",
       "      <td>-0.177254</td>\n",
       "      <td>0.780966</td>\n",
       "      <td>0.740605</td>\n",
       "      <td>0.724200</td>\n",
       "      <td>0.568211</td>\n",
       "      <td>0.395199</td>\n",
       "      <td>0.180319</td>\n",
       "      <td>0.530474</td>\n",
       "    </tr>\n",
       "    <tr>\n",
       "      <th>Standard Error</th>\n",
       "      <td>-0.177254</td>\n",
       "      <td>1.000000</td>\n",
       "      <td>-0.217651</td>\n",
       "      <td>-0.120728</td>\n",
       "      <td>-0.310287</td>\n",
       "      <td>-0.129773</td>\n",
       "      <td>-0.178325</td>\n",
       "      <td>-0.088439</td>\n",
       "      <td>0.083981</td>\n",
       "    </tr>\n",
       "    <tr>\n",
       "      <th>Economy (GDP per Capita)</th>\n",
       "      <td>0.780966</td>\n",
       "      <td>-0.217651</td>\n",
       "      <td>1.000000</td>\n",
       "      <td>0.645299</td>\n",
       "      <td>0.816478</td>\n",
       "      <td>0.370300</td>\n",
       "      <td>0.307885</td>\n",
       "      <td>-0.010465</td>\n",
       "      <td>0.040059</td>\n",
       "    </tr>\n",
       "    <tr>\n",
       "      <th>Family</th>\n",
       "      <td>0.740605</td>\n",
       "      <td>-0.120728</td>\n",
       "      <td>0.645299</td>\n",
       "      <td>1.000000</td>\n",
       "      <td>0.531104</td>\n",
       "      <td>0.441518</td>\n",
       "      <td>0.205605</td>\n",
       "      <td>0.087513</td>\n",
       "      <td>0.148117</td>\n",
       "    </tr>\n",
       "    <tr>\n",
       "      <th>Health (Life Expectancy)</th>\n",
       "      <td>0.724200</td>\n",
       "      <td>-0.310287</td>\n",
       "      <td>0.816478</td>\n",
       "      <td>0.531104</td>\n",
       "      <td>1.000000</td>\n",
       "      <td>0.360477</td>\n",
       "      <td>0.248335</td>\n",
       "      <td>0.108335</td>\n",
       "      <td>0.018979</td>\n",
       "    </tr>\n",
       "    <tr>\n",
       "      <th>Freedom</th>\n",
       "      <td>0.568211</td>\n",
       "      <td>-0.129773</td>\n",
       "      <td>0.370300</td>\n",
       "      <td>0.441518</td>\n",
       "      <td>0.360477</td>\n",
       "      <td>1.000000</td>\n",
       "      <td>0.493524</td>\n",
       "      <td>0.373916</td>\n",
       "      <td>0.062783</td>\n",
       "    </tr>\n",
       "    <tr>\n",
       "      <th>Trust (Government Corruption)</th>\n",
       "      <td>0.395199</td>\n",
       "      <td>-0.178325</td>\n",
       "      <td>0.307885</td>\n",
       "      <td>0.205605</td>\n",
       "      <td>0.248335</td>\n",
       "      <td>0.493524</td>\n",
       "      <td>1.000000</td>\n",
       "      <td>0.276123</td>\n",
       "      <td>-0.033105</td>\n",
       "    </tr>\n",
       "    <tr>\n",
       "      <th>Generosity</th>\n",
       "      <td>0.180319</td>\n",
       "      <td>-0.088439</td>\n",
       "      <td>-0.010465</td>\n",
       "      <td>0.087513</td>\n",
       "      <td>0.108335</td>\n",
       "      <td>0.373916</td>\n",
       "      <td>0.276123</td>\n",
       "      <td>1.000000</td>\n",
       "      <td>-0.101301</td>\n",
       "    </tr>\n",
       "    <tr>\n",
       "      <th>Dystopia Residual</th>\n",
       "      <td>0.530474</td>\n",
       "      <td>0.083981</td>\n",
       "      <td>0.040059</td>\n",
       "      <td>0.148117</td>\n",
       "      <td>0.018979</td>\n",
       "      <td>0.062783</td>\n",
       "      <td>-0.033105</td>\n",
       "      <td>-0.101301</td>\n",
       "      <td>1.000000</td>\n",
       "    </tr>\n",
       "  </tbody>\n",
       "</table>\n",
       "</div>"
      ],
      "text/plain": [
       "                               Happiness Score  Standard Error  \\\n",
       "Happiness Score                       1.000000       -0.177254   \n",
       "Standard Error                       -0.177254        1.000000   \n",
       "Economy (GDP per Capita)              0.780966       -0.217651   \n",
       "Family                                0.740605       -0.120728   \n",
       "Health (Life Expectancy)              0.724200       -0.310287   \n",
       "Freedom                               0.568211       -0.129773   \n",
       "Trust (Government Corruption)         0.395199       -0.178325   \n",
       "Generosity                            0.180319       -0.088439   \n",
       "Dystopia Residual                     0.530474        0.083981   \n",
       "\n",
       "                               Economy (GDP per Capita)    Family  \\\n",
       "Happiness Score                                0.780966  0.740605   \n",
       "Standard Error                                -0.217651 -0.120728   \n",
       "Economy (GDP per Capita)                       1.000000  0.645299   \n",
       "Family                                         0.645299  1.000000   \n",
       "Health (Life Expectancy)                       0.816478  0.531104   \n",
       "Freedom                                        0.370300  0.441518   \n",
       "Trust (Government Corruption)                  0.307885  0.205605   \n",
       "Generosity                                    -0.010465  0.087513   \n",
       "Dystopia Residual                              0.040059  0.148117   \n",
       "\n",
       "                               Health (Life Expectancy)   Freedom  \\\n",
       "Happiness Score                                0.724200  0.568211   \n",
       "Standard Error                                -0.310287 -0.129773   \n",
       "Economy (GDP per Capita)                       0.816478  0.370300   \n",
       "Family                                         0.531104  0.441518   \n",
       "Health (Life Expectancy)                       1.000000  0.360477   \n",
       "Freedom                                        0.360477  1.000000   \n",
       "Trust (Government Corruption)                  0.248335  0.493524   \n",
       "Generosity                                     0.108335  0.373916   \n",
       "Dystopia Residual                              0.018979  0.062783   \n",
       "\n",
       "                               Trust (Government Corruption)  Generosity  \\\n",
       "Happiness Score                                     0.395199    0.180319   \n",
       "Standard Error                                     -0.178325   -0.088439   \n",
       "Economy (GDP per Capita)                            0.307885   -0.010465   \n",
       "Family                                              0.205605    0.087513   \n",
       "Health (Life Expectancy)                            0.248335    0.108335   \n",
       "Freedom                                             0.493524    0.373916   \n",
       "Trust (Government Corruption)                       1.000000    0.276123   \n",
       "Generosity                                          0.276123    1.000000   \n",
       "Dystopia Residual                                  -0.033105   -0.101301   \n",
       "\n",
       "                               Dystopia Residual  \n",
       "Happiness Score                         0.530474  \n",
       "Standard Error                          0.083981  \n",
       "Economy (GDP per Capita)                0.040059  \n",
       "Family                                  0.148117  \n",
       "Health (Life Expectancy)                0.018979  \n",
       "Freedom                                 0.062783  \n",
       "Trust (Government Corruption)          -0.033105  \n",
       "Generosity                             -0.101301  \n",
       "Dystopia Residual                       1.000000  "
      ]
     },
     "execution_count": 222,
     "metadata": {},
     "output_type": "execute_result"
    }
   ],
   "source": [
    "#checking the correlation of features with target variable\n",
    "df.corr()"
   ]
  },
  {
   "cell_type": "code",
   "execution_count": 223,
   "metadata": {},
   "outputs": [
    {
     "data": {
      "image/png": "[encoded data removed]",
      "text/plain": [
       "<Figure size 1080x504 with 2 Axes>"
      ]
     },
     "metadata": {
      "needs_background": "light"
     },
     "output_type": "display_data"
    }
   ],
   "source": [
    "plt.figure(figsize=(15,7))\n",
    "sns.heatmap(df.corr(),annot=True,fmt='0.2f',linewidth=5,linecolor='black')\n",
    "plt.show()"
   ]
  },
  {
   "cell_type": "markdown",
   "metadata": {},
   "source": [
    "#### observations"
   ]
  },
  {
   "cell_type": "markdown",
   "metadata": {},
   "source": [
    "All the features have positive correlation except for \"standard error\"\n",
    "\n",
    "Columns[\"Economy(GDP per capita)\",\"Family\",\"Health(Life Expectancy)\"] have very strong positive correlation with the target variable.\n",
    "\n",
    "generosity and standard error have very low corelation with the target variable(0.18 and -0.18 respectively)\n",
    "\n",
    "Dystopia have a positive correlation(0.53)"
   ]
  },
  {
   "cell_type": "code",
   "execution_count": 224,
   "metadata": {},
   "outputs": [
    {
     "data": {
      "text/html": [
       "<div>\n",
       "<style scoped>\n",
       "    .dataframe tbody tr th:only-of-type {\n",
       "        vertical-align: middle;\n",
       "    }\n",
       "\n",
       "    .dataframe tbody tr th {\n",
       "        vertical-align: top;\n",
       "    }\n",
       "\n",
       "    .dataframe thead th {\n",
       "        text-align: right;\n",
       "    }\n",
       "</style>\n",
       "<table border=\"1\" class=\"dataframe\">\n",
       "  <thead>\n",
       "    <tr style=\"text-align: right;\">\n",
       "      <th></th>\n",
       "      <th>Happiness Score</th>\n",
       "      <th>Standard Error</th>\n",
       "      <th>Economy (GDP per Capita)</th>\n",
       "      <th>Family</th>\n",
       "      <th>Health (Life Expectancy)</th>\n",
       "      <th>Freedom</th>\n",
       "      <th>Trust (Government Corruption)</th>\n",
       "      <th>Generosity</th>\n",
       "      <th>Dystopia Residual</th>\n",
       "    </tr>\n",
       "  </thead>\n",
       "  <tbody>\n",
       "    <tr>\n",
       "      <th>count</th>\n",
       "      <td>158.000000</td>\n",
       "      <td>158.000000</td>\n",
       "      <td>158.000000</td>\n",
       "      <td>158.000000</td>\n",
       "      <td>158.000000</td>\n",
       "      <td>158.000000</td>\n",
       "      <td>158.000000</td>\n",
       "      <td>158.000000</td>\n",
       "      <td>158.000000</td>\n",
       "    </tr>\n",
       "    <tr>\n",
       "      <th>mean</th>\n",
       "      <td>5.375734</td>\n",
       "      <td>0.047885</td>\n",
       "      <td>0.846137</td>\n",
       "      <td>0.991046</td>\n",
       "      <td>0.630259</td>\n",
       "      <td>0.428615</td>\n",
       "      <td>0.143422</td>\n",
       "      <td>0.237296</td>\n",
       "      <td>2.098977</td>\n",
       "    </tr>\n",
       "    <tr>\n",
       "      <th>std</th>\n",
       "      <td>1.145010</td>\n",
       "      <td>0.017146</td>\n",
       "      <td>0.403121</td>\n",
       "      <td>0.272369</td>\n",
       "      <td>0.247078</td>\n",
       "      <td>0.150693</td>\n",
       "      <td>0.120034</td>\n",
       "      <td>0.126685</td>\n",
       "      <td>0.553550</td>\n",
       "    </tr>\n",
       "    <tr>\n",
       "      <th>min</th>\n",
       "      <td>2.839000</td>\n",
       "      <td>0.018480</td>\n",
       "      <td>0.000000</td>\n",
       "      <td>0.000000</td>\n",
       "      <td>0.000000</td>\n",
       "      <td>0.000000</td>\n",
       "      <td>0.000000</td>\n",
       "      <td>0.000000</td>\n",
       "      <td>0.328580</td>\n",
       "    </tr>\n",
       "    <tr>\n",
       "      <th>25%</th>\n",
       "      <td>4.526000</td>\n",
       "      <td>0.037268</td>\n",
       "      <td>0.545808</td>\n",
       "      <td>0.856823</td>\n",
       "      <td>0.439185</td>\n",
       "      <td>0.328330</td>\n",
       "      <td>0.061675</td>\n",
       "      <td>0.150553</td>\n",
       "      <td>1.759410</td>\n",
       "    </tr>\n",
       "    <tr>\n",
       "      <th>50%</th>\n",
       "      <td>5.232500</td>\n",
       "      <td>0.043940</td>\n",
       "      <td>0.910245</td>\n",
       "      <td>1.029510</td>\n",
       "      <td>0.696705</td>\n",
       "      <td>0.435515</td>\n",
       "      <td>0.107220</td>\n",
       "      <td>0.216130</td>\n",
       "      <td>2.095415</td>\n",
       "    </tr>\n",
       "    <tr>\n",
       "      <th>75%</th>\n",
       "      <td>6.243750</td>\n",
       "      <td>0.052300</td>\n",
       "      <td>1.158448</td>\n",
       "      <td>1.214405</td>\n",
       "      <td>0.811013</td>\n",
       "      <td>0.549092</td>\n",
       "      <td>0.180255</td>\n",
       "      <td>0.309883</td>\n",
       "      <td>2.462415</td>\n",
       "    </tr>\n",
       "    <tr>\n",
       "      <th>max</th>\n",
       "      <td>7.587000</td>\n",
       "      <td>0.136930</td>\n",
       "      <td>1.690420</td>\n",
       "      <td>1.402230</td>\n",
       "      <td>1.025250</td>\n",
       "      <td>0.669730</td>\n",
       "      <td>0.551910</td>\n",
       "      <td>0.795880</td>\n",
       "      <td>3.602140</td>\n",
       "    </tr>\n",
       "  </tbody>\n",
       "</table>\n",
       "</div>"
      ],
      "text/plain": [
       "       Happiness Score  Standard Error  Economy (GDP per Capita)      Family  \\\n",
       "count       158.000000      158.000000                158.000000  158.000000   \n",
       "mean          5.375734        0.047885                  0.846137    0.991046   \n",
       "std           1.145010        0.017146                  0.403121    0.272369   \n",
       "min           2.839000        0.018480                  0.000000    0.000000   \n",
       "25%           4.526000        0.037268                  0.545808    0.856823   \n",
       "50%           5.232500        0.043940                  0.910245    1.029510   \n",
       "75%           6.243750        0.052300                  1.158448    1.214405   \n",
       "max           7.587000        0.136930                  1.690420    1.402230   \n",
       "\n",
       "       Health (Life Expectancy)     Freedom  Trust (Government Corruption)  \\\n",
       "count                158.000000  158.000000                     158.000000   \n",
       "mean                   0.630259    0.428615                       0.143422   \n",
       "std                    0.247078    0.150693                       0.120034   \n",
       "min                    0.000000    0.000000                       0.000000   \n",
       "25%                    0.439185    0.328330                       0.061675   \n",
       "50%                    0.696705    0.435515                       0.107220   \n",
       "75%                    0.811013    0.549092                       0.180255   \n",
       "max                    1.025250    0.669730                       0.551910   \n",
       "\n",
       "       Generosity  Dystopia Residual  \n",
       "count  158.000000         158.000000  \n",
       "mean     0.237296           2.098977  \n",
       "std      0.126685           0.553550  \n",
       "min      0.000000           0.328580  \n",
       "25%      0.150553           1.759410  \n",
       "50%      0.216130           2.095415  \n",
       "75%      0.309883           2.462415  \n",
       "max      0.795880           3.602140  "
      ]
     },
     "execution_count": 224,
     "metadata": {},
     "output_type": "execute_result"
    }
   ],
   "source": [
    "df.describe()"
   ]
  },
  {
   "cell_type": "markdown",
   "metadata": {},
   "source": [
    "#### observations"
   ]
  },
  {
   "cell_type": "markdown",
   "metadata": {},
   "source": [
    "1)Happiness Score:\n",
    "    \n",
    "    min=2.839000\n",
    "    max=7.587000\n",
    "    mean=5.375734\n",
    "    std_dev=1.145010\n",
    "\n",
    "2)Standard Error:\n",
    "    \n",
    "    min=0.018480\n",
    "    max=0.136930\n",
    "    mean=0.047885\n",
    "    std_dev=0.017146\n",
    "    \n",
    "3)Economy(GDP per capita):\n",
    "    \n",
    "    min=0.000000\n",
    "    max=1.690420\n",
    "    mean=0.846137\n",
    "    std_dev=0.403121\n",
    "    \n",
    "4)Family:\n",
    "    \n",
    "     min=0.000000\n",
    "    max=1.402230\n",
    "    mean=0.991046\n",
    "    std_dev=0.272369\n",
    "    \n",
    "5)Health(Life Expectancy):\n",
    "    \n",
    "    min=0.000000\n",
    "    max=1.025250\n",
    "    mean=0.630259\n",
    "    std_dev=0.247078\n",
    "    \n",
    "6)Freedom:\n",
    "    \n",
    "    min=0.000000\n",
    "    max=0.669730\t\n",
    "    mean=0.428615\t\n",
    "    std_dev=0.150693\n",
    " \n",
    "7)Trust:\n",
    "    \n",
    "    min=0.000000\n",
    "    max=0.551910\t\t\n",
    "    mean=0.143422\t\n",
    "    std_dev=0.120034\n",
    "    \n",
    "8):generosity\n",
    "    \n",
    "    min=0.000000\n",
    "    max=0.795880\t\t\n",
    "    mean=0.237296\t\n",
    "    std_dev=0.126685\n",
    "    \n",
    "9):Dystopia Residual\n",
    "    \n",
    "    min=0.000000\n",
    "    max=3.602140\t\t\n",
    "    mean=2.098977\t\n",
    "    std_dev=0.553550\n",
    "    \n",
    "    "
   ]
  },
  {
   "cell_type": "markdown",
   "metadata": {},
   "source": [
    "we can see that there is no much difference in the mean value and median(50%) value so we can conclude that there is no skewness in the data"
   ]
  },
  {
   "cell_type": "code",
   "execution_count": 225,
   "metadata": {},
   "outputs": [
    {
     "data": {
      "image/png": "[encoded data removed]",
      "text/plain": [
       "<Figure size 1080x576 with 2 Axes>"
      ]
     },
     "metadata": {
      "needs_background": "light"
     },
     "output_type": "display_data"
    }
   ],
   "source": [
    "#plotting the statistical summary of dataset\n",
    "plt.figure(figsize=(15,8))\n",
    "sns.heatmap(round(df.describe()[1:].transpose(),1),annot=True,fmt=\".2f\",linewidth=3)\n",
    "plt.title(\"statistical summary\")\n",
    "plt.show()"
   ]
  },
  {
   "cell_type": "markdown",
   "metadata": {},
   "source": [
    "# skewness"
   ]
  },
  {
   "cell_type": "code",
   "execution_count": 226,
   "metadata": {},
   "outputs": [
    {
     "data": {
      "text/plain": [
       "Happiness Score                  0.097769\n",
       "Standard Error                   1.983439\n",
       "Economy (GDP per Capita)        -0.317575\n",
       "Family                          -1.006893\n",
       "Health (Life Expectancy)        -0.705328\n",
       "Freedom                         -0.413462\n",
       "Trust (Government Corruption)    1.385463\n",
       "Generosity                       1.001961\n",
       "Dystopia Residual               -0.238911\n",
       "dtype: float64"
      ]
     },
     "execution_count": 226,
     "metadata": {},
     "output_type": "execute_result"
    }
   ],
   "source": [
    "#checking skewness\n",
    "df.skew()"
   ]
  },
  {
   "cell_type": "markdown",
   "metadata": {},
   "source": [
    "#### features with skewness:\n",
    "    \n",
    "1)standard error\n",
    "\n",
    "2)Family\n",
    "\n",
    "3)Health\n",
    "\n",
    "4)Trust\n",
    "\n",
    "5)Generosity"
   ]
  },
  {
   "cell_type": "markdown",
   "metadata": {},
   "source": [
    "#### visualizing distribution of various features"
   ]
  },
  {
   "cell_type": "code",
   "execution_count": 227,
   "metadata": {},
   "outputs": [
    {
     "data": {
      "image/png": "[encoded data removed]",
      "text/plain": [
       "<Figure size 432x288 with 1 Axes>"
      ]
     },
     "metadata": {
      "needs_background": "light"
     },
     "output_type": "display_data"
    }
   ],
   "source": [
    "sns.distplot(df['Happiness Score'])\n",
    "plt.show()"
   ]
  },
  {
   "cell_type": "markdown",
   "metadata": {},
   "source": [
    "The data is quite normally distributed"
   ]
  },
  {
   "cell_type": "code",
   "execution_count": 228,
   "metadata": {},
   "outputs": [
    {
     "data": {
      "image/png": "[encoded data removed]",
      "text/plain": [
       "<Figure size 432x288 with 1 Axes>"
      ]
     },
     "metadata": {
      "needs_background": "light"
     },
     "output_type": "display_data"
    }
   ],
   "source": [
    "sns.distplot(df['Standard Error'])\n",
    "plt.show()"
   ]
  },
  {
   "cell_type": "markdown",
   "metadata": {},
   "source": [
    "skewness is present"
   ]
  },
  {
   "cell_type": "code",
   "execution_count": 229,
   "metadata": {},
   "outputs": [
    {
     "data": {
      "image/png": "[encoded data removed]",
      "text/plain": [
       "<Figure size 432x288 with 1 Axes>"
      ]
     },
     "metadata": {
      "needs_background": "light"
     },
     "output_type": "display_data"
    }
   ],
   "source": [
    "sns.distplot(df['Economy (GDP per Capita)'])\n",
    "plt.show()"
   ]
  },
  {
   "cell_type": "markdown",
   "metadata": {},
   "source": [
    "slighty left skewed"
   ]
  },
  {
   "cell_type": "code",
   "execution_count": 230,
   "metadata": {},
   "outputs": [
    {
     "data": {
      "image/png": "[encoded data removed]",
      "text/plain": [
       "<Figure size 432x288 with 1 Axes>"
      ]
     },
     "metadata": {
      "needs_background": "light"
     },
     "output_type": "display_data"
    }
   ],
   "source": [
    "sns.distplot(df[\"Family\"])\n",
    "plt.show()"
   ]
  },
  {
   "cell_type": "markdown",
   "metadata": {},
   "source": [
    "The data is left skewed"
   ]
  },
  {
   "cell_type": "code",
   "execution_count": 231,
   "metadata": {},
   "outputs": [
    {
     "data": {
      "image/png": "[encoded data removed]",
      "text/plain": [
       "<Figure size 432x288 with 1 Axes>"
      ]
     },
     "metadata": {
      "needs_background": "light"
     },
     "output_type": "display_data"
    }
   ],
   "source": [
    "sns.distplot(df['Health (Life Expectancy)'])\n",
    "plt.show()"
   ]
  },
  {
   "cell_type": "markdown",
   "metadata": {},
   "source": [
    "Data seems to be left skewed"
   ]
  },
  {
   "cell_type": "code",
   "execution_count": 232,
   "metadata": {},
   "outputs": [
    {
     "data": {
      "image/png": "[encoded data removed]",
      "text/plain": [
       "<Figure size 432x288 with 1 Axes>"
      ]
     },
     "metadata": {
      "needs_background": "light"
     },
     "output_type": "display_data"
    }
   ],
   "source": [
    "sns.distplot(df['Freedom'])\n",
    "plt.show()"
   ]
  },
  {
   "cell_type": "markdown",
   "metadata": {},
   "source": [
    "Normal distribution can be seen"
   ]
  },
  {
   "cell_type": "code",
   "execution_count": 233,
   "metadata": {},
   "outputs": [
    {
     "data": {
      "image/png": "[encoded data removed]",
      "text/plain": [
       "<Figure size 432x288 with 1 Axes>"
      ]
     },
     "metadata": {
      "needs_background": "light"
     },
     "output_type": "display_data"
    }
   ],
   "source": [
    "sns.distplot(df['Trust (Government Corruption)'])\n",
    "plt.show()"
   ]
  },
  {
   "cell_type": "markdown",
   "metadata": {},
   "source": [
    "The data is right skewed"
   ]
  },
  {
   "cell_type": "code",
   "execution_count": 234,
   "metadata": {},
   "outputs": [
    {
     "data": {
      "image/png": "[encoded data removed]",
      "text/plain": [
       "<Figure size 432x288 with 1 Axes>"
      ]
     },
     "metadata": {
      "needs_background": "light"
     },
     "output_type": "display_data"
    }
   ],
   "source": [
    "sns.distplot(df['Generosity'])\n",
    "plt.show()"
   ]
  },
  {
   "cell_type": "markdown",
   "metadata": {},
   "source": [
    "slightly right skewed"
   ]
  },
  {
   "cell_type": "code",
   "execution_count": 235,
   "metadata": {},
   "outputs": [
    {
     "data": {
      "image/png": "[encoded data removed]",
      "text/plain": [
       "<Figure size 432x288 with 1 Axes>"
      ]
     },
     "metadata": {
      "needs_background": "light"
     },
     "output_type": "display_data"
    }
   ],
   "source": [
    "sns.distplot(df['Dystopia Residual'])\n",
    "plt.show()"
   ]
  },
  {
   "cell_type": "markdown",
   "metadata": {},
   "source": [
    "Data posses normal distribution curve"
   ]
  },
  {
   "cell_type": "markdown",
   "metadata": {},
   "source": [
    "#### As standard error and generosity have very high skewness and a very low correlation with the target variable we should drop them"
   ]
  },
  {
   "cell_type": "code",
   "execution_count": 236,
   "metadata": {},
   "outputs": [
    {
     "data": {
      "text/html": [
       "<div>\n",
       "<style scoped>\n",
       "    .dataframe tbody tr th:only-of-type {\n",
       "        vertical-align: middle;\n",
       "    }\n",
       "\n",
       "    .dataframe tbody tr th {\n",
       "        vertical-align: top;\n",
       "    }\n",
       "\n",
       "    .dataframe thead th {\n",
       "        text-align: right;\n",
       "    }\n",
       "</style>\n",
       "<table border=\"1\" class=\"dataframe\">\n",
       "  <thead>\n",
       "    <tr style=\"text-align: right;\">\n",
       "      <th></th>\n",
       "      <th>Happiness Score</th>\n",
       "      <th>Economy (GDP per Capita)</th>\n",
       "      <th>Family</th>\n",
       "      <th>Health (Life Expectancy)</th>\n",
       "      <th>Freedom</th>\n",
       "      <th>Trust (Government Corruption)</th>\n",
       "      <th>Dystopia Residual</th>\n",
       "    </tr>\n",
       "  </thead>\n",
       "  <tbody>\n",
       "    <tr>\n",
       "      <th>0</th>\n",
       "      <td>7.587</td>\n",
       "      <td>1.39651</td>\n",
       "      <td>1.34951</td>\n",
       "      <td>0.94143</td>\n",
       "      <td>0.66557</td>\n",
       "      <td>0.41978</td>\n",
       "      <td>2.51738</td>\n",
       "    </tr>\n",
       "    <tr>\n",
       "      <th>1</th>\n",
       "      <td>7.561</td>\n",
       "      <td>1.30232</td>\n",
       "      <td>1.40223</td>\n",
       "      <td>0.94784</td>\n",
       "      <td>0.62877</td>\n",
       "      <td>0.14145</td>\n",
       "      <td>2.70201</td>\n",
       "    </tr>\n",
       "    <tr>\n",
       "      <th>2</th>\n",
       "      <td>7.527</td>\n",
       "      <td>1.32548</td>\n",
       "      <td>1.36058</td>\n",
       "      <td>0.87464</td>\n",
       "      <td>0.64938</td>\n",
       "      <td>0.48357</td>\n",
       "      <td>2.49204</td>\n",
       "    </tr>\n",
       "    <tr>\n",
       "      <th>3</th>\n",
       "      <td>7.522</td>\n",
       "      <td>1.45900</td>\n",
       "      <td>1.33095</td>\n",
       "      <td>0.88521</td>\n",
       "      <td>0.66973</td>\n",
       "      <td>0.36503</td>\n",
       "      <td>2.46531</td>\n",
       "    </tr>\n",
       "    <tr>\n",
       "      <th>4</th>\n",
       "      <td>7.427</td>\n",
       "      <td>1.32629</td>\n",
       "      <td>1.32261</td>\n",
       "      <td>0.90563</td>\n",
       "      <td>0.63297</td>\n",
       "      <td>0.32957</td>\n",
       "      <td>2.45176</td>\n",
       "    </tr>\n",
       "    <tr>\n",
       "      <th>...</th>\n",
       "      <td>...</td>\n",
       "      <td>...</td>\n",
       "      <td>...</td>\n",
       "      <td>...</td>\n",
       "      <td>...</td>\n",
       "      <td>...</td>\n",
       "      <td>...</td>\n",
       "    </tr>\n",
       "    <tr>\n",
       "      <th>153</th>\n",
       "      <td>3.465</td>\n",
       "      <td>0.22208</td>\n",
       "      <td>0.77370</td>\n",
       "      <td>0.42864</td>\n",
       "      <td>0.59201</td>\n",
       "      <td>0.55191</td>\n",
       "      <td>0.67042</td>\n",
       "    </tr>\n",
       "    <tr>\n",
       "      <th>154</th>\n",
       "      <td>3.340</td>\n",
       "      <td>0.28665</td>\n",
       "      <td>0.35386</td>\n",
       "      <td>0.31910</td>\n",
       "      <td>0.48450</td>\n",
       "      <td>0.08010</td>\n",
       "      <td>1.63328</td>\n",
       "    </tr>\n",
       "    <tr>\n",
       "      <th>155</th>\n",
       "      <td>3.006</td>\n",
       "      <td>0.66320</td>\n",
       "      <td>0.47489</td>\n",
       "      <td>0.72193</td>\n",
       "      <td>0.15684</td>\n",
       "      <td>0.18906</td>\n",
       "      <td>0.32858</td>\n",
       "    </tr>\n",
       "    <tr>\n",
       "      <th>156</th>\n",
       "      <td>2.905</td>\n",
       "      <td>0.01530</td>\n",
       "      <td>0.41587</td>\n",
       "      <td>0.22396</td>\n",
       "      <td>0.11850</td>\n",
       "      <td>0.10062</td>\n",
       "      <td>1.83302</td>\n",
       "    </tr>\n",
       "    <tr>\n",
       "      <th>157</th>\n",
       "      <td>2.839</td>\n",
       "      <td>0.20868</td>\n",
       "      <td>0.13995</td>\n",
       "      <td>0.28443</td>\n",
       "      <td>0.36453</td>\n",
       "      <td>0.10731</td>\n",
       "      <td>1.56726</td>\n",
       "    </tr>\n",
       "  </tbody>\n",
       "</table>\n",
       "<p>158 rows × 7 columns</p>\n",
       "</div>"
      ],
      "text/plain": [
       "     Happiness Score  Economy (GDP per Capita)   Family  \\\n",
       "0              7.587                   1.39651  1.34951   \n",
       "1              7.561                   1.30232  1.40223   \n",
       "2              7.527                   1.32548  1.36058   \n",
       "3              7.522                   1.45900  1.33095   \n",
       "4              7.427                   1.32629  1.32261   \n",
       "..               ...                       ...      ...   \n",
       "153            3.465                   0.22208  0.77370   \n",
       "154            3.340                   0.28665  0.35386   \n",
       "155            3.006                   0.66320  0.47489   \n",
       "156            2.905                   0.01530  0.41587   \n",
       "157            2.839                   0.20868  0.13995   \n",
       "\n",
       "     Health (Life Expectancy)  Freedom  Trust (Government Corruption)  \\\n",
       "0                     0.94143  0.66557                        0.41978   \n",
       "1                     0.94784  0.62877                        0.14145   \n",
       "2                     0.87464  0.64938                        0.48357   \n",
       "3                     0.88521  0.66973                        0.36503   \n",
       "4                     0.90563  0.63297                        0.32957   \n",
       "..                        ...      ...                            ...   \n",
       "153                   0.42864  0.59201                        0.55191   \n",
       "154                   0.31910  0.48450                        0.08010   \n",
       "155                   0.72193  0.15684                        0.18906   \n",
       "156                   0.22396  0.11850                        0.10062   \n",
       "157                   0.28443  0.36453                        0.10731   \n",
       "\n",
       "     Dystopia Residual  \n",
       "0              2.51738  \n",
       "1              2.70201  \n",
       "2              2.49204  \n",
       "3              2.46531  \n",
       "4              2.45176  \n",
       "..                 ...  \n",
       "153            0.67042  \n",
       "154            1.63328  \n",
       "155            0.32858  \n",
       "156            1.83302  \n",
       "157            1.56726  \n",
       "\n",
       "[158 rows x 7 columns]"
      ]
     },
     "execution_count": 236,
     "metadata": {},
     "output_type": "execute_result"
    }
   ],
   "source": [
    "df.drop(['Standard Error','Generosity'],axis=1,inplace=True)\n",
    "df"
   ]
  },
  {
   "cell_type": "code",
   "execution_count": 237,
   "metadata": {},
   "outputs": [
    {
     "data": {
      "text/plain": [
       "Happiness Score                  float64\n",
       "Economy (GDP per Capita)         float64\n",
       "Family                           float64\n",
       "Health (Life Expectancy)         float64\n",
       "Freedom                          float64\n",
       "Trust (Government Corruption)    float64\n",
       "Dystopia Residual                float64\n",
       "dtype: object"
      ]
     },
     "execution_count": 237,
     "metadata": {},
     "output_type": "execute_result"
    }
   ],
   "source": [
    "df.dtypes"
   ]
  },
  {
   "cell_type": "markdown",
   "metadata": {},
   "source": [
    "All the values are in float64 format so we dont need any label or one-hot encoding techniques here"
   ]
  },
  {
   "cell_type": "markdown",
   "metadata": {},
   "source": [
    "# outlier detection"
   ]
  },
  {
   "cell_type": "code",
   "execution_count": 238,
   "metadata": {},
   "outputs": [
    {
     "data": {
      "text/plain": [
       "Index(['Happiness Score', 'Economy (GDP per Capita)', 'Family',\n",
       "       'Health (Life Expectancy)', 'Freedom', 'Trust (Government Corruption)',\n",
       "       'Dystopia Residual'],\n",
       "      dtype='object')"
      ]
     },
     "execution_count": 238,
     "metadata": {},
     "output_type": "execute_result"
    }
   ],
   "source": [
    "df.columns"
   ]
  },
  {
   "cell_type": "code",
   "execution_count": 239,
   "metadata": {},
   "outputs": [
    {
     "data": {
      "image/png": "[encoded data removed]",
      "text/plain": [
       "<Figure size 2160x6480 with 7 Axes>"
      ]
     },
     "metadata": {
      "needs_background": "light"
     },
     "output_type": "display_data"
    }
   ],
   "source": [
    "cols=['Happiness Score', 'Economy (GDP per Capita)', 'Family',\n",
    "       'Health (Life Expectancy)', 'Freedom', 'Trust (Government Corruption)',\n",
    "       'Dystopia Residual']\n",
    "\n",
    "ncols=30\n",
    "nrows=14\n",
    "plt.figure(figsize=(ncols,3*ncols))\n",
    "\n",
    "for i in range(0,len(cols)):\n",
    "    plt.subplot(nrows,ncols,i+1)\n",
    "    sns.boxplot(df[cols[i]],orient='v')\n",
    "    plt.tight_layout()\n",
    "    "
   ]
  },
  {
   "cell_type": "markdown",
   "metadata": {},
   "source": [
    "columns with outliers:\n",
    "    \n",
    "1)Family\n",
    "\n",
    "2)Trust\n",
    "\n",
    "3)Dystopia"
   ]
  },
  {
   "cell_type": "markdown",
   "metadata": {},
   "source": [
    "# checking with Zscores"
   ]
  },
  {
   "cell_type": "code",
   "execution_count": 240,
   "metadata": {},
   "outputs": [
    {
     "data": {
      "text/plain": [
       "array([[1.93736005, 1.36962124, 1.32028142, ..., 1.57743784, 2.30965159,\n",
       "        0.75825809],\n",
       "       [1.91458063, 1.13522625, 1.51445776, ..., 1.33245589, 0.01647953,\n",
       "        1.09285682],\n",
       "       [1.88479215, 1.19286069, 1.36105403, ..., 1.4696591 , 2.8427738 ,\n",
       "        0.71233526],\n",
       "       ...,\n",
       "       [2.0761992 , 0.45524543, 1.90108634, ..., 1.80923785, 0.38141902,\n",
       "        3.20843049],\n",
       "       [2.1646885 , 2.06756644, 2.1184666 , ..., 2.06447176, 0.35771452,\n",
       "        0.48198451],\n",
       "       [2.22251319, 1.58633379, 3.13472485, ..., 0.42662099, 0.30180313,\n",
       "        0.96361241]])"
      ]
     },
     "execution_count": 240,
     "metadata": {},
     "output_type": "execute_result"
    }
   ],
   "source": [
    "from scipy.stats import zscore\n",
    "import numpy as np\n",
    "z=np.abs(zscore(df))\n",
    "z"
   ]
  },
  {
   "cell_type": "code",
   "execution_count": 241,
   "metadata": {},
   "outputs": [
    {
     "name": "stdout",
     "output_type": "stream",
     "text": [
      "(array([ 27, 147, 153, 155, 157], dtype=int64), array([5, 2, 5, 6, 2], dtype=int64))\n"
     ]
    }
   ],
   "source": [
    "#threshold=3\n",
    "print(np.where(z>3))"
   ]
  },
  {
   "cell_type": "code",
   "execution_count": 242,
   "metadata": {},
   "outputs": [
    {
     "name": "stdout",
     "output_type": "stream",
     "text": [
      "original shape= (158, 7)\n",
      "new shape= (153, 7)\n"
     ]
    }
   ],
   "source": [
    "df_new=df[(z<3).all(axis=1)]\n",
    "print(\"original shape=\",df.shape)\n",
    "print(\"new shape=\",df_new.shape)\n"
   ]
  },
  {
   "cell_type": "code",
   "execution_count": 243,
   "metadata": {},
   "outputs": [
    {
     "name": "stdout",
     "output_type": "stream",
     "text": [
      "percentage loss= 3.1645569620253164\n"
     ]
    }
   ],
   "source": [
    "#percentage loss due to outliers\n",
    "\n",
    "print(\"percentage loss=\",((158-153)/158)*100)"
   ]
  },
  {
   "cell_type": "markdown",
   "metadata": {},
   "source": [
    "As the loss is less we can drop it "
   ]
  },
  {
   "cell_type": "markdown",
   "metadata": {},
   "source": [
    "#### assinging target variables and features "
   ]
  },
  {
   "cell_type": "code",
   "execution_count": 244,
   "metadata": {},
   "outputs": [
    {
     "data": {
      "text/html": [
       "<div>\n",
       "<style scoped>\n",
       "    .dataframe tbody tr th:only-of-type {\n",
       "        vertical-align: middle;\n",
       "    }\n",
       "\n",
       "    .dataframe tbody tr th {\n",
       "        vertical-align: top;\n",
       "    }\n",
       "\n",
       "    .dataframe thead th {\n",
       "        text-align: right;\n",
       "    }\n",
       "</style>\n",
       "<table border=\"1\" class=\"dataframe\">\n",
       "  <thead>\n",
       "    <tr style=\"text-align: right;\">\n",
       "      <th></th>\n",
       "      <th>Economy (GDP per Capita)</th>\n",
       "      <th>Family</th>\n",
       "      <th>Health (Life Expectancy)</th>\n",
       "      <th>Freedom</th>\n",
       "      <th>Trust (Government Corruption)</th>\n",
       "      <th>Dystopia Residual</th>\n",
       "    </tr>\n",
       "  </thead>\n",
       "  <tbody>\n",
       "    <tr>\n",
       "      <th>0</th>\n",
       "      <td>1.39651</td>\n",
       "      <td>1.34951</td>\n",
       "      <td>0.94143</td>\n",
       "      <td>0.66557</td>\n",
       "      <td>0.41978</td>\n",
       "      <td>2.51738</td>\n",
       "    </tr>\n",
       "    <tr>\n",
       "      <th>1</th>\n",
       "      <td>1.30232</td>\n",
       "      <td>1.40223</td>\n",
       "      <td>0.94784</td>\n",
       "      <td>0.62877</td>\n",
       "      <td>0.14145</td>\n",
       "      <td>2.70201</td>\n",
       "    </tr>\n",
       "    <tr>\n",
       "      <th>2</th>\n",
       "      <td>1.32548</td>\n",
       "      <td>1.36058</td>\n",
       "      <td>0.87464</td>\n",
       "      <td>0.64938</td>\n",
       "      <td>0.48357</td>\n",
       "      <td>2.49204</td>\n",
       "    </tr>\n",
       "    <tr>\n",
       "      <th>3</th>\n",
       "      <td>1.45900</td>\n",
       "      <td>1.33095</td>\n",
       "      <td>0.88521</td>\n",
       "      <td>0.66973</td>\n",
       "      <td>0.36503</td>\n",
       "      <td>2.46531</td>\n",
       "    </tr>\n",
       "    <tr>\n",
       "      <th>4</th>\n",
       "      <td>1.32629</td>\n",
       "      <td>1.32261</td>\n",
       "      <td>0.90563</td>\n",
       "      <td>0.63297</td>\n",
       "      <td>0.32957</td>\n",
       "      <td>2.45176</td>\n",
       "    </tr>\n",
       "    <tr>\n",
       "      <th>...</th>\n",
       "      <td>...</td>\n",
       "      <td>...</td>\n",
       "      <td>...</td>\n",
       "      <td>...</td>\n",
       "      <td>...</td>\n",
       "      <td>...</td>\n",
       "    </tr>\n",
       "    <tr>\n",
       "      <th>150</th>\n",
       "      <td>0.46534</td>\n",
       "      <td>0.77115</td>\n",
       "      <td>0.15185</td>\n",
       "      <td>0.46866</td>\n",
       "      <td>0.17922</td>\n",
       "      <td>1.41723</td>\n",
       "    </tr>\n",
       "    <tr>\n",
       "      <th>151</th>\n",
       "      <td>0.25812</td>\n",
       "      <td>0.85188</td>\n",
       "      <td>0.27125</td>\n",
       "      <td>0.39493</td>\n",
       "      <td>0.12832</td>\n",
       "      <td>1.46494</td>\n",
       "    </tr>\n",
       "    <tr>\n",
       "      <th>152</th>\n",
       "      <td>0.31982</td>\n",
       "      <td>0.30285</td>\n",
       "      <td>0.30335</td>\n",
       "      <td>0.23414</td>\n",
       "      <td>0.09719</td>\n",
       "      <td>1.95210</td>\n",
       "    </tr>\n",
       "    <tr>\n",
       "      <th>154</th>\n",
       "      <td>0.28665</td>\n",
       "      <td>0.35386</td>\n",
       "      <td>0.31910</td>\n",
       "      <td>0.48450</td>\n",
       "      <td>0.08010</td>\n",
       "      <td>1.63328</td>\n",
       "    </tr>\n",
       "    <tr>\n",
       "      <th>156</th>\n",
       "      <td>0.01530</td>\n",
       "      <td>0.41587</td>\n",
       "      <td>0.22396</td>\n",
       "      <td>0.11850</td>\n",
       "      <td>0.10062</td>\n",
       "      <td>1.83302</td>\n",
       "    </tr>\n",
       "  </tbody>\n",
       "</table>\n",
       "<p>153 rows × 6 columns</p>\n",
       "</div>"
      ],
      "text/plain": [
       "     Economy (GDP per Capita)   Family  Health (Life Expectancy)  Freedom  \\\n",
       "0                     1.39651  1.34951                   0.94143  0.66557   \n",
       "1                     1.30232  1.40223                   0.94784  0.62877   \n",
       "2                     1.32548  1.36058                   0.87464  0.64938   \n",
       "3                     1.45900  1.33095                   0.88521  0.66973   \n",
       "4                     1.32629  1.32261                   0.90563  0.63297   \n",
       "..                        ...      ...                       ...      ...   \n",
       "150                   0.46534  0.77115                   0.15185  0.46866   \n",
       "151                   0.25812  0.85188                   0.27125  0.39493   \n",
       "152                   0.31982  0.30285                   0.30335  0.23414   \n",
       "154                   0.28665  0.35386                   0.31910  0.48450   \n",
       "156                   0.01530  0.41587                   0.22396  0.11850   \n",
       "\n",
       "     Trust (Government Corruption)  Dystopia Residual  \n",
       "0                          0.41978            2.51738  \n",
       "1                          0.14145            2.70201  \n",
       "2                          0.48357            2.49204  \n",
       "3                          0.36503            2.46531  \n",
       "4                          0.32957            2.45176  \n",
       "..                             ...                ...  \n",
       "150                        0.17922            1.41723  \n",
       "151                        0.12832            1.46494  \n",
       "152                        0.09719            1.95210  \n",
       "154                        0.08010            1.63328  \n",
       "156                        0.10062            1.83302  \n",
       "\n",
       "[153 rows x 6 columns]"
      ]
     },
     "execution_count": 244,
     "metadata": {},
     "output_type": "execute_result"
    }
   ],
   "source": [
    "#features\n",
    "x=df_new.drop(['Happiness Score'],axis=1)\n",
    "x"
   ]
  },
  {
   "cell_type": "code",
   "execution_count": 245,
   "metadata": {},
   "outputs": [
    {
     "data": {
      "text/plain": [
       "0      7.587\n",
       "1      7.561\n",
       "2      7.527\n",
       "3      7.522\n",
       "4      7.427\n",
       "       ...  \n",
       "150    3.655\n",
       "151    3.587\n",
       "152    3.575\n",
       "154    3.340\n",
       "156    2.905\n",
       "Name: Happiness Score, Length: 153, dtype: float64"
      ]
     },
     "execution_count": 245,
     "metadata": {},
     "output_type": "execute_result"
    }
   ],
   "source": [
    "#target variable\n",
    "y=df_new['Happiness Score']\n",
    "y"
   ]
  },
  {
   "cell_type": "markdown",
   "metadata": {},
   "source": [
    "# transformation and scaling"
   ]
  },
  {
   "cell_type": "code",
   "execution_count": 246,
   "metadata": {},
   "outputs": [
    {
     "data": {
      "text/plain": [
       "array([[ 1.49533493e+00,  1.66651777e+00,  1.48458516e+00,\n",
       "         1.76895699e+00,  1.82520965e+00,  7.51971406e-01],\n",
       "       [ 1.20058450e+00,  2.01576570e+00,  1.52582536e+00,\n",
       "         1.45212783e+00,  3.47782856e-01,  1.10951985e+00],\n",
       "       [ 1.27226397e+00,  1.73823778e+00,  1.07189739e+00,\n",
       "         1.62818656e+00,  1.95995470e+00,  7.03015691e-01],\n",
       "       [ 1.69559647e+00,  1.54816773e+00,  1.13516484e+00,\n",
       "         1.80548030e+00,  1.67308464e+00,  6.51405770e-01],\n",
       "       [ 1.27478030e+00,  1.49575387e+00,  1.25955064e+00,\n",
       "         1.48772136e+00,  1.55087466e+00,  6.25255924e-01],\n",
       "       [ 1.16343473e+00,  1.46860318e+00,  1.15870059e+00,\n",
       "         1.56208497e+00,  1.81023851e+00,  9.49647403e-01],\n",
       "       [ 1.28457211e+00,  1.23629258e+00,  1.18130761e+00,\n",
       "         1.34279323e+00,  1.50670360e+00,  6.52158545e-01],\n",
       "       [ 1.29163439e+00,  1.28970745e+00,  1.29193182e+00,\n",
       "         1.71853734e+00,  1.86875588e+00,  4.69938542e-01],\n",
       "       [ 1.04112250e+00,  1.47738970e+00,  1.27645912e+00,\n",
       "         1.54232429e+00,  1.84770803e+00,  2.64252422e-01],\n",
       "       [ 1.29745596e+00,  1.41265049e+00,  1.42164995e+00,\n",
       "         1.64424832e+00,  1.64516266e+00,  2.68497623e-01],\n",
       "       [ 9.75809915e-01,  9.10719676e-01,  1.31055615e+00,\n",
       "        -1.84830861e-01, -4.44789555e-01,  1.86267964e+00],\n",
       "       [ 1.91137807e-01,  9.89571988e-01,  9.87097251e-01,\n",
       "         1.49443258e+00, -5.89611487e-02,  2.03642817e+00],\n",
       "       [ 1.30882867e+00,  1.33798694e+00,  1.16662948e+00,\n",
       "         1.41465827e+00,  7.57933008e-01,  7.82549434e-01],\n",
       "       [ 3.70676492e-01, -5.41423117e-01,  7.25846493e-01,\n",
       "         2.96548489e-01,  9.52877922e-01,  2.87233556e+00],\n",
       "       [ 1.48898737e+00,  1.04242993e+00,  9.96001296e-01,\n",
       "         7.80340914e-01,  5.18337188e-01,  7.37923166e-01],\n",
       "       [ 2.61216096e-01,  9.61109962e-01,  1.18115156e-01,\n",
       "         3.60032190e-01,  6.63133275e-01,  2.19867934e+00],\n",
       "       [ 2.04016758e+00,  8.86663783e-01,  1.34217315e+00,\n",
       "         1.34337778e+00,  1.71272034e+00, -2.99576853e-01],\n",
       "       [ 1.30487012e+00,  1.79651671e+00,  1.19645217e+00,\n",
       "         1.35959430e+00,  1.37278632e+00, -2.87967274e-01],\n",
       "       [ 1.21755969e+00,  1.26917978e+00,  1.20461984e+00,\n",
       "         1.08574445e+00,  1.03454879e+00,  5.54047145e-01],\n",
       "       [ 1.59344410e+00,  3.90062472e-01,  6.97132531e-01,\n",
       "         1.56105736e+00,  1.73557612e+00,  2.31950436e-01],\n",
       "       [ 1.09035331e+00,  1.26809835e+00,  1.28301427e+00,\n",
       "         1.18143051e+00,  1.51669883e+00, -2.98947812e-01],\n",
       "       [ 1.38041188e+00,  1.75855755e-01,  4.47670395e-01,\n",
       "         1.48576843e+00,  1.53443659e+00,  6.69899006e-01],\n",
       "       [ 4.37439358e-01,  1.09362803e+00,  2.32858938e-01,\n",
       "        -7.65706849e-02,  1.69125158e-03,  2.06392579e+00],\n",
       "       [ 1.90080326e+00, -1.06880375e-01,  2.04711990e+00,\n",
       "         7.52981795e-01,  1.97521322e+00, -4.60651490e-01],\n",
       "       [ 4.92195596e-01,  7.70149642e-01,  6.27932840e-01,\n",
       "         7.49723955e-01, -2.31915621e-01,  1.39420300e+00],\n",
       "       [ 1.27984598e+00,  1.35218125e+00,  1.17535875e+00,\n",
       "         1.33453024e+00,  9.88860125e-01, -2.05754883e-02],\n",
       "       [ 6.17386917e-01,  3.83660892e-01,  9.77157151e-01,\n",
       "         8.13373695e-03,  2.11735240e-01,  1.05876958e+00],\n",
       "       [ 1.12520270e+00,  1.11938838e+00,  1.51260466e+00,\n",
       "         8.12098230e-01,  9.06253507e-01,  1.62533749e-01],\n",
       "       [ 4.63706445e-01,  1.04888124e+00,  5.77247407e-01,\n",
       "         6.70688318e-02, -3.42192986e-01,  1.36991180e+00],\n",
       "       [ 8.27665263e-01,  8.13547956e-01,  8.97527313e-01,\n",
       "         1.65554444e-01, -1.35146167e+00,  1.06259035e+00],\n",
       "       [ 4.86871124e-01,  8.27145992e-01,  7.10112297e-01,\n",
       "         1.24202095e+00,  1.15759326e+00,  3.74145133e-01],\n",
       "       [ 9.00113573e-02,  1.00269227e+00,  8.81627151e-02,\n",
       "         6.92246549e-01, -8.79088271e-01,  1.41151049e+00],\n",
       "       [ 2.21664569e-01,  1.14668526e+00,  3.22938480e-01,\n",
       "         8.63327234e-01, -1.24267374e+00,  3.70355813e-01],\n",
       "       [ 1.49184330e+00,  1.85887911e-01,  2.31521438e-01,\n",
       "        -8.39022062e-01,  1.53443659e+00,  6.00098173e-01],\n",
       "       [ 9.80449169e-01,  1.44083690e+00,  1.57627023e+00,\n",
       "         1.36136542e-01, -6.61864101e-01, -5.30327767e-03],\n",
       "       [ 9.12271090e-01,  1.36843028e+00,  1.14722149e+00,\n",
       "         1.24226849e+00,  2.89421331e-01, -9.08325660e-01],\n",
       "       [ 1.16567754e+00,  1.49118270e-01,  1.07582567e+00,\n",
       "        -2.90514980e-01, -3.93751847e-01,  3.77626851e-01],\n",
       "       [ 2.00790430e+00,  5.96051460e-01,  2.54718415e-01,\n",
       "         8.50350451e-01,  1.21664168e+00, -4.77137348e-01],\n",
       "       [ 3.00308696e-01, -3.11890742e-01, -2.85832668e-01,\n",
       "         1.18405212e+00,  2.94401433e-01,  1.28226000e+00],\n",
       "       [ 9.25530713e-01,  6.89345648e-01, -2.57265337e-01,\n",
       "         8.80663564e-01, -1.67999705e+00,  2.73031217e-01],\n",
       "       [-3.14023075e-01, -8.44955623e-02,  2.47364617e-02,\n",
       "        -2.49910143e-01,  8.68588364e-02,  1.75799834e+00],\n",
       "       [-3.62167158e-01, -1.65515210e-03, -1.27452129e-01,\n",
       "         1.02790532e+00, -2.04411112e-01,  1.18822465e+00],\n",
       "       [-6.40704520e-01,  1.60832260e+00, -3.30479070e-01,\n",
       "         1.70469226e+00,  1.46643378e+00,  2.12713960e-01],\n",
       "       [ 7.97878080e-01,  1.17583627e+00,  5.86876109e-01,\n",
       "        -7.96723029e-01, -1.19428132e+00,  2.29953612e-01],\n",
       "       [ 1.10368553e+00,  1.10037637e+00,  1.81186829e+00,\n",
       "         4.01745281e-01,  7.08134706e-01, -8.41149924e-01],\n",
       "       [ 1.02424439e+00, -3.70426046e-01,  1.64016156e+00,\n",
       "        -7.07910934e-01, -4.34018279e-01,  1.78879469e-01],\n",
       "       [-5.59480807e-02, -1.97973248e-01,  5.96201614e-01,\n",
       "         3.25218867e-01,  7.10599779e-01,  7.94574939e-01],\n",
       "       [ 1.26692274e+00,  8.67781375e-01,  3.67040620e-01,\n",
       "         1.03596552e-01,  1.45693750e+00, -7.39692644e-01],\n",
       "       [ 1.04403454e+00,  7.66174356e-01,  1.56872166e+00,\n",
       "        -1.11899829e+00, -1.30036533e+00, -1.93570730e-01],\n",
       "       [-5.21950882e-01, -2.85228679e-01, -5.68507043e-01,\n",
       "         1.00230572e+00, -2.97225295e-01,  1.34527678e+00],\n",
       "       [-7.31150008e-01, -1.27593042e-01, -2.42387583e-01,\n",
       "        -7.31835406e-01, -1.57329884e+00,  1.89903328e+00],\n",
       "       [-3.25935954e-01,  1.38521753e+00, -5.13859959e-02,\n",
       "         7.25644172e-01, -3.77219041e-01,  1.19767602e-01],\n",
       "       [ 6.62009526e-01,  3.73378734e-01, -1.30014860e-01,\n",
       "         5.53722175e-01, -3.46507105e-01,  2.31681630e-01],\n",
       "       [ 8.45460902e-01,  1.19867958e+00,  1.06434672e+00,\n",
       "         1.28279885e+00, -1.12501259e+00, -9.70560914e-01],\n",
       "       [ 7.34088483e-01,  1.10229776e+00,  2.86526223e-01,\n",
       "        -1.38690627e+00, -1.70495067e+00,  6.15087713e-01],\n",
       "       [-7.34054820e-01,  4.71364220e-01,  3.46510116e-01,\n",
       "         8.48464737e-01,  8.07973848e-01,  3.79242728e-01],\n",
       "       [ 4.04195817e-02, -3.01144013e-01,  2.80956861e-01,\n",
       "        -1.72866567e-01, -7.29509396e-01,  9.01138912e-01],\n",
       "       [ 4.02663448e-01,  9.61223264e-01,  3.10697787e-01,\n",
       "        -4.08832874e-01,  7.90455589e-01,  8.53630665e-03],\n",
       "       [ 6.70764414e-01,  1.23217330e+00,  5.33400654e-01,\n",
       "         6.65819825e-01, -1.04434392e+00, -4.97458654e-01],\n",
       "       [ 6.68756684e-01,  1.21205409e-01,  2.49839400e-01,\n",
       "         6.58308483e-01, -6.93689349e-02, -4.59890800e-01],\n",
       "       [ 5.46521555e-01, -9.61869010e-01,  5.81655768e-01,\n",
       "        -1.13888598e+00, -1.39771184e+00,  1.21073834e+00],\n",
       "       [ 6.87951260e-01,  3.54527138e-01,  1.50874787e-01,\n",
       "        -1.61217494e-01, -3.97468574e-03, -6.84575674e-02],\n",
       "       [ 7.06020019e-01,  9.79839335e-01, -1.31293148e-02,\n",
       "        -4.90057545e-01, -1.27926426e+00,  2.82867724e-01],\n",
       "       [-1.96378718e-01,  5.18445028e-01,  7.21575966e-02,\n",
       "         4.63144881e-01, -1.42531531e+00,  3.72144657e-01],\n",
       "       [ 9.14245342e-01,  1.20503145e-01,  1.37113953e+00,\n",
       "         3.58415891e-01,  3.61596622e-01, -1.00253160e+00],\n",
       "       [ 9.14454757e-01, -6.22290175e-01,  1.37113953e+00,\n",
       "        -2.28362946e-01, -7.03339429e-01, -4.52473623e-01],\n",
       "       [ 1.46100638e-01,  1.56435115e-01, -2.44994967e-01,\n",
       "        -9.84749347e-01,  6.51391267e-01,  5.87310041e-01],\n",
       "       [-2.19390887e-01, -9.09760906e-01, -1.85120765e-01,\n",
       "        -1.20217830e+00, -9.46918575e-01,  1.23337426e+00],\n",
       "       [ 1.98510914e-01,  9.26165825e-01, -5.69835019e-01,\n",
       "         2.55106856e-01,  1.46718548e+00, -4.89494345e-01],\n",
       "       [ 3.34491083e-01, -2.56705524e-01,  1.78632141e-01,\n",
       "         8.95034786e-01, -4.84692993e-01, -6.95213945e-01],\n",
       "       [ 1.46214808e+00,  6.51975432e-02,  1.96366482e+00,\n",
       "         1.18003812e+00,  1.69239957e+00, -2.75390586e+00],\n",
       "       [ 7.47320061e-01,  9.33090041e-01,  5.04654695e-01,\n",
       "         6.10243669e-02,  4.51381328e-01, -1.02338360e+00],\n",
       "       [-1.49873055e-01,  2.00912522e-01, -1.55761102e-01,\n",
       "         1.83211217e-01, -1.95000232e+00, -5.00613703e-01],\n",
       "       [-6.41377308e-01, -5.50061331e-01,  3.64993261e-01,\n",
       "         1.16661772e+00, -7.70167241e-02,  1.44254497e-01],\n",
       "       [ 4.84935821e-01, -4.16535433e-01,  2.88736008e-01,\n",
       "        -1.30803469e+00,  5.04898534e-01, -7.87453447e-02],\n",
       "       [-1.00727908e+00,  5.19115396e-01, -9.75040228e-02,\n",
       "        -3.73366425e-02, -1.04060101e+00,  2.03673330e-01],\n",
       "       [-5.87799589e-01, -5.80340608e-01, -1.69638007e+00,\n",
       "        -6.38211431e-01, -1.07862311e+00,  1.48127932e+00],\n",
       "       [-2.99055044e-01,  2.82355091e-01, -4.28958798e-01,\n",
       "         6.72264188e-01,  4.76449161e-01, -9.28832328e-01],\n",
       "       [ 3.80079150e-01, -4.49979402e-01, -1.44501225e-01,\n",
       "        -4.67531354e-01,  5.34521340e-01, -2.40231522e-01],\n",
       "       [-7.28905340e-01, -1.91285427e+00, -6.62757483e-01,\n",
       "        -1.84779868e+00, -7.40818329e-02,  1.89897457e+00],\n",
       "       [ 4.52235310e-02,  4.55938398e-02,  1.15085258e-01,\n",
       "        -2.29100322e-01,  3.62921162e-01, -4.70254469e-01],\n",
       "       [ 2.42269347e-01, -5.75594756e-01,  2.56163340e-01,\n",
       "        -1.54708058e+00,  3.63226684e-01, -5.02687452e-02],\n",
       "       [ 1.34551994e-02, -4.14811562e-01,  7.37737309e-01,\n",
       "         5.57347999e-01, -1.32488815e+00, -5.07436466e-01],\n",
       "       [-1.01597447e+00, -5.35226275e-01, -1.35919224e+00,\n",
       "         3.43739614e-01,  1.66848281e-01,  9.78223033e-01],\n",
       "       [ 4.35204834e-01, -6.49444413e-01,  4.79826083e-01,\n",
       "        -5.92275052e-01, -1.79381909e+00, -3.72583172e-01],\n",
       "       [ 9.52004951e-02, -1.52183152e-01,  3.73188697e-01,\n",
       "        -1.45187509e+00, -1.35870959e+00, -1.93914357e-01],\n",
       "       [ 7.71340727e-01,  4.58681255e-01,  1.07517075e+00,\n",
       "         5.40141535e-01, -1.69416908e+00, -1.62941392e+00],\n",
       "       [ 6.34668694e-01,  2.41934250e-01,  2.51979464e-01,\n",
       "        -9.20838271e-01, -6.72664079e-01, -9.58635977e-01],\n",
       "       [-4.62752006e-01, -3.95247130e-02, -3.99846940e-01,\n",
       "         1.42409476e+00,  1.45323514e-01, -7.10087804e-01],\n",
       "       [-1.59942693e+00, -3.95624181e-01, -9.34357325e-01,\n",
       "         1.81135708e-01,  1.77280785e+00, -3.08508681e-02],\n",
       "       [-3.89199502e-01, -1.41734903e+00, -2.80079088e-01,\n",
       "        -1.59658068e-01, -3.33302035e-01,  6.29057267e-01],\n",
       "       [ 8.97411929e-02, -1.83839725e-01,  3.07517125e-01,\n",
       "        -6.92577873e-01, -8.42716929e-01, -7.37117207e-01],\n",
       "       [-1.79406436e+00, -7.92210284e-02, -1.83423176e+00,\n",
       "        -6.56686103e-01,  4.91443632e-01,  1.78999305e+00],\n",
       "       [-1.70780202e-02, -9.35196592e-01,  7.19247242e-01,\n",
       "        -5.50313802e-01, -6.59415718e-01, -4.34155425e-01],\n",
       "       [-1.39534086e-01, -5.23489584e-01,  5.96525387e-01,\n",
       "        -1.97874933e+00, -1.89461466e+00, -1.20053877e-01],\n",
       "       [-1.22244411e+00, -1.31024781e-02, -1.86230339e+00,\n",
       "        -7.95756142e-01,  1.70921244e-01,  1.29660999e+00],\n",
       "       [ 2.75001264e-02,  6.28065433e-01, -1.78176412e-02,\n",
       "         1.02300375e+00,  3.56901799e-01, -1.72548952e+00],\n",
       "       [-7.40166140e-01, -1.14480938e+00, -5.29603977e-01,\n",
       "         1.17864596e+00,  1.13959957e+00, -7.39654771e-01],\n",
       "       [-1.50081756e-01,  1.35968902e+00, -3.09426331e-01,\n",
       "        -2.70218421e-02, -1.34856706e+00, -1.47446861e+00],\n",
       "       [-4.46010688e-01,  1.33445336e-01, -1.86314043e+00,\n",
       "        -8.62333543e-01, -1.26816172e+00,  6.92818592e-01],\n",
       "       [ 7.54134393e-01, -4.83883935e-01,  1.11665090e+00,\n",
       "        -2.04738745e+00, -1.62185852e+00, -6.20205282e-01],\n",
       "       [ 3.84995479e-01, -9.49492421e-01,  8.66804523e-01,\n",
       "        -6.64194243e-01, -9.75860313e-01, -1.05585382e+00],\n",
       "       [ 6.57359429e-01,  7.90076010e-01,  4.28356268e-01,\n",
       "        -7.74862335e-01, -1.32960996e+00, -1.67392498e+00],\n",
       "       [-7.29165299e-01, -3.87705726e-01,  1.08888668e-01,\n",
       "        -2.63387392e-01, -5.93047944e-01, -5.38443717e-01],\n",
       "       [-1.19044300e+00, -7.59175710e-01, -4.30106018e-01,\n",
       "         2.26659170e-01,  4.40508890e-01, -2.38285573e-02],\n",
       "       [-1.05293981e-02, -1.51026927e+00,  3.20052066e-01,\n",
       "        -1.11719107e+00, -6.68404265e-01, -3.40838418e-03],\n",
       "       [-7.21242549e-01, -4.98549188e-01, -5.51985478e-02,\n",
       "        -1.21600964e+00,  2.15713721e-01, -1.57939080e-01],\n",
       "       [-1.17531417e+00, -1.88201514e+00, -3.13852155e-01,\n",
       "        -2.18432994e-01,  1.78253470e-01,  7.52531839e-01],\n",
       "       [ 3.37814329e-01, -1.65081100e+00,  1.23073971e-01,\n",
       "        -8.99462264e-01, -7.50697749e-01, -8.22146192e-01],\n",
       "       [-2.25608112e-01,  7.93523788e-01,  8.48701966e-03,\n",
       "        -1.18140443e+00, -1.28817448e+00, -1.05432775e+00],\n",
       "       [ 2.72978150e-01, -8.86521689e-01, -3.10746208e-01,\n",
       "        -2.36646395e+00,  3.10729254e-01, -3.30564391e-01],\n",
       "       [ 9.50923497e-02,  6.95454316e-01, -1.41892991e+00,\n",
       "        -7.07972421e-01, -2.85416180e-01, -7.74545516e-01],\n",
       "       [-8.45377705e-01, -1.31372104e+00, -1.05742925e+00,\n",
       "        -1.15352943e-01, -1.01768594e+00,  3.50623525e-01],\n",
       "       [-1.43795569e+00, -5.02725231e-02, -1.25971344e+00,\n",
       "        -1.14012252e+00, -4.01103686e-01,  6.06251848e-01],\n",
       "       [-1.81517854e+00, -9.83249444e-01, -1.23866543e+00,\n",
       "        -9.87538983e-01, -6.89112169e-01,  1.25572431e+00],\n",
       "       [-6.10463290e-01, -1.96921394e+00, -6.60378152e-01,\n",
       "        -2.87462748e-01, -3.41043883e-01,  2.85154122e-01],\n",
       "       [-9.01657885e-01, -1.33014275e-01, -1.15893133e+00,\n",
       "        -1.94098532e+00,  3.99907303e-01,  1.57373682e-01],\n",
       "       [-1.44650235e+00, -1.12971776e+00, -1.09812069e+00,\n",
       "        -1.22009528e+00,  6.33520201e-01,  2.21006939e-01],\n",
       "       [-1.93815746e+00, -1.88657712e-01, -1.82148679e+00,\n",
       "        -1.31937140e+00, -4.68896359e-01,  1.43049599e+00],\n",
       "       [-1.25516105e+00, -7.27498357e-01, -4.50722294e-01,\n",
       "        -3.86433974e-01, -7.43279744e-01, -3.24810062e-01],\n",
       "       [-1.59511021e+00, -1.51083564e+00, -9.28192455e-01,\n",
       "        -3.92039511e-02,  4.38169990e-01,  6.19467414e-01],\n",
       "       [-1.31724005e+00, -3.78672088e-01, -1.99069995e+00,\n",
       "        -2.17089839e-01, -2.99199333e-01,  7.37884522e-01],\n",
       "       [-1.05215775e+00, -7.10937774e-01, -1.18922946e+00,\n",
       "        -1.23073296e+00,  6.58039233e-01, -1.66716156e-02],\n",
       "       [-1.24517161e+00, -1.99130543e-01, -1.01534685e+00,\n",
       "        -1.24021472e-01, -7.54752513e-01, -6.49528869e-01],\n",
       "       [-1.08258758e+00, -1.54007854e+00, -1.17670324e+00,\n",
       "         1.44884028e-01,  1.34452356e+00, -1.43784614e-01],\n",
       "       [-3.04685020e-01, -1.02366956e+00,  2.79603303e-01,\n",
       "        -1.46541866e+00, -1.10335150e+00, -7.00368079e-01],\n",
       "       [ 2.95334734e-01,  2.85721416e-01, -1.91249500e+00,\n",
       "         3.92880574e-01,  1.67527705e-01, -1.26043974e+00],\n",
       "       [-1.43779537e+00, -1.23032047e+00, -7.81579178e-01,\n",
       "         1.26617951e-04,  7.86099947e-01, -1.34253578e+00],\n",
       "       [-3.71317327e-01, -1.96263109e+00,  2.76396670e-01,\n",
       "        -2.34728180e-01,  1.72833206e+00, -1.00907455e+00],\n",
       "       [-1.91098888e+00, -1.91780640e+00, -1.54768060e+00,\n",
       "        -6.65271708e-02, -5.68986276e-01,  1.31526059e+00],\n",
       "       [-1.31664572e-01, -1.11059054e-01,  1.71601079e-01,\n",
       "         7.12282654e-01, -2.44416221e-01, -2.72337135e+00],\n",
       "       [-1.12136101e+00, -6.42810493e-01, -1.52734900e+00,\n",
       "         3.79162557e-01, -7.63728296e-01, -3.35594275e-01],\n",
       "       [ 3.47205322e-01,  2.93049111e-01,  4.67176269e-01,\n",
       "        -8.66565581e-01, -1.74167087e+00, -2.30482796e+00],\n",
       "       [-8.74475331e-03, -1.11760246e+00, -2.47339849e-01,\n",
       "        -1.59624687e+00, -6.73976174e-01, -1.00179618e+00],\n",
       "       [-8.43275596e-01, -1.30987446e+00, -1.05960264e+00,\n",
       "        -5.60566050e-01, -4.34466135e-01, -3.88119445e-01],\n",
       "       [-3.31186560e-01, -7.42168669e-01, -1.68184447e+00,\n",
       "        -1.92718529e+00, -5.46241920e-01, -3.38109080e-01],\n",
       "       [-1.45845650e+00, -3.90761939e-02, -1.59441823e+00,\n",
       "        -3.48796265e-01,  1.53665629e-01, -6.35532576e-01],\n",
       "       [-5.28501847e-01, -1.35915018e+00, -1.32823883e+00,\n",
       "        -1.74896085e-01,  7.62139353e-02, -8.46821563e-01],\n",
       "       [-1.50137871e+00, -9.73333359e-01, -1.17597982e+00,\n",
       "        -1.30251719e+00,  8.51972193e-01, -3.21475381e-01],\n",
       "       [-1.55608919e+00,  4.26454629e-01, -1.24855295e+00,\n",
       "         1.20236160e-01, -5.23699716e-01, -1.32451717e+00],\n",
       "       [-1.24460184e+00, -2.94487336e-01, -9.45594008e-01,\n",
       "        -4.84097985e-01, -4.25649489e-02, -1.29396044e+00],\n",
       "       [ 4.82830282e-01, -5.76696493e-01, -9.51241901e-01,\n",
       "        -7.86864153e-01,  4.39558106e-03, -2.12237543e+00],\n",
       "       [-1.81836291e+00, -1.03783915e+00, -1.36508687e+00,\n",
       "         2.61042600e-01,  4.94841221e-01, -4.72517150e-01],\n",
       "       [-1.03819392e+00, -1.45241273e+00, -2.73195743e-01,\n",
       "         1.74174660e+00, -5.26797043e-01, -2.15374617e+00],\n",
       "       [-1.40938367e+00, -1.82289643e-01, -1.11784152e+00,\n",
       "        -7.28161955e-01, -7.70352085e-01, -1.41234269e+00],\n",
       "       [-1.56146385e+00, -1.34532041e+00, -8.35967680e-01,\n",
       "        -1.49974444e+00, -3.94486022e-01, -5.25297792e-01],\n",
       "       [-1.29294902e+00, -1.07561341e+00, -1.71749049e+00,\n",
       "        -1.27078682e+00, -8.52860396e-01, -3.50357923e-01],\n",
       "       [-1.62660262e+00, -1.81792889e+00, -1.51247200e+00,\n",
       "        -4.22657646e-01,  1.29224483e-01, -2.57418601e-01],\n",
       "       [-1.02718682e+00, -1.04258457e+00, -1.71381315e+00,\n",
       "         2.01489410e-01,  6.96741989e-01, -1.34407300e+00],\n",
       "       [-1.46367226e+00, -7.72468920e-01, -1.43362425e+00,\n",
       "        -3.06876918e-01,  2.07637515e-01, -1.25456313e+00],\n",
       "       [-1.33876200e+00, -2.09326953e+00, -1.34797004e+00,\n",
       "        -1.27552889e+00, -1.71231036e-01, -3.32946010e-01],\n",
       "       [-1.40645315e+00, -2.01516257e+00, -1.30426149e+00,\n",
       "         3.16159742e-01, -4.11286136e-01, -9.37629593e-01],\n",
       "       [-1.91224919e+00, -1.90969506e+00, -1.55166352e+00,\n",
       "        -1.85956505e+00, -1.25964327e-01, -5.59449015e-01]])"
      ]
     },
     "execution_count": 246,
     "metadata": {},
     "output_type": "execute_result"
    }
   ],
   "source": [
    "#as there was skewness in the data we will use power transform here\n",
    "from sklearn.preprocessing import power_transform\n",
    "\n",
    "x=power_transform(x,method=\"yeo-johnson\")\n",
    "x"
   ]
  },
  {
   "cell_type": "markdown",
   "metadata": {},
   "source": [
    "as all our data values are positive and are nearby to 0 and approx 1 we shall use minmax scaler"
   ]
  },
  {
   "cell_type": "code",
   "execution_count": 247,
   "metadata": {},
   "outputs": [
    {
     "data": {
      "text/html": [
       "<div>\n",
       "<style scoped>\n",
       "    .dataframe tbody tr th:only-of-type {\n",
       "        vertical-align: middle;\n",
       "    }\n",
       "\n",
       "    .dataframe tbody tr th {\n",
       "        vertical-align: top;\n",
       "    }\n",
       "\n",
       "    .dataframe thead th {\n",
       "        text-align: right;\n",
       "    }\n",
       "</style>\n",
       "<table border=\"1\" class=\"dataframe\">\n",
       "  <thead>\n",
       "    <tr style=\"text-align: right;\">\n",
       "      <th></th>\n",
       "      <th>Economy (GDP per Capita)</th>\n",
       "      <th>Family</th>\n",
       "      <th>Health (Life Expectancy)</th>\n",
       "      <th>Freedom</th>\n",
       "      <th>Trust (Government Corruption)</th>\n",
       "      <th>Dystopia Residual</th>\n",
       "    </tr>\n",
       "  </thead>\n",
       "  <tbody>\n",
       "    <tr>\n",
       "      <th>0</th>\n",
       "      <td>0.863050</td>\n",
       "      <td>0.915005</td>\n",
       "      <td>0.860684</td>\n",
       "      <td>0.991245</td>\n",
       "      <td>0.961785</td>\n",
       "      <td>0.623130</td>\n",
       "    </tr>\n",
       "    <tr>\n",
       "      <th>1</th>\n",
       "      <td>0.788961</td>\n",
       "      <td>1.000000</td>\n",
       "      <td>0.870897</td>\n",
       "      <td>0.915303</td>\n",
       "      <td>0.585391</td>\n",
       "      <td>0.686680</td>\n",
       "    </tr>\n",
       "    <tr>\n",
       "      <th>2</th>\n",
       "      <td>0.806978</td>\n",
       "      <td>0.932459</td>\n",
       "      <td>0.758478</td>\n",
       "      <td>0.957503</td>\n",
       "      <td>0.996113</td>\n",
       "      <td>0.614428</td>\n",
       "    </tr>\n",
       "    <tr>\n",
       "      <th>3</th>\n",
       "      <td>0.913388</td>\n",
       "      <td>0.886202</td>\n",
       "      <td>0.774147</td>\n",
       "      <td>1.000000</td>\n",
       "      <td>0.923029</td>\n",
       "      <td>0.605255</td>\n",
       "    </tr>\n",
       "    <tr>\n",
       "      <th>4</th>\n",
       "      <td>0.807611</td>\n",
       "      <td>0.873447</td>\n",
       "      <td>0.804952</td>\n",
       "      <td>0.923834</td>\n",
       "      <td>0.891894</td>\n",
       "      <td>0.600607</td>\n",
       "    </tr>\n",
       "    <tr>\n",
       "      <th>...</th>\n",
       "      <td>...</td>\n",
       "      <td>...</td>\n",
       "      <td>...</td>\n",
       "      <td>...</td>\n",
       "      <td>...</td>\n",
       "      <td>...</td>\n",
       "    </tr>\n",
       "    <tr>\n",
       "      <th>148</th>\n",
       "      <td>0.228983</td>\n",
       "      <td>0.255701</td>\n",
       "      <td>0.068573</td>\n",
       "      <td>0.615529</td>\n",
       "      <td>0.674293</td>\n",
       "      <td>0.250582</td>\n",
       "    </tr>\n",
       "    <tr>\n",
       "      <th>149</th>\n",
       "      <td>0.119268</td>\n",
       "      <td>0.321438</td>\n",
       "      <td>0.137964</td>\n",
       "      <td>0.493676</td>\n",
       "      <td>0.549687</td>\n",
       "      <td>0.266491</td>\n",
       "    </tr>\n",
       "    <tr>\n",
       "      <th>150</th>\n",
       "      <td>0.150665</td>\n",
       "      <td>0.000000</td>\n",
       "      <td>0.159177</td>\n",
       "      <td>0.261493</td>\n",
       "      <td>0.453165</td>\n",
       "      <td>0.430298</td>\n",
       "    </tr>\n",
       "    <tr>\n",
       "      <th>151</th>\n",
       "      <td>0.133650</td>\n",
       "      <td>0.019009</td>\n",
       "      <td>0.170002</td>\n",
       "      <td>0.643015</td>\n",
       "      <td>0.392008</td>\n",
       "      <td>0.322822</td>\n",
       "    </tr>\n",
       "    <tr>\n",
       "      <th>152</th>\n",
       "      <td>0.006512</td>\n",
       "      <td>0.044676</td>\n",
       "      <td>0.108731</td>\n",
       "      <td>0.121502</td>\n",
       "      <td>0.464698</td>\n",
       "      <td>0.390040</td>\n",
       "    </tr>\n",
       "  </tbody>\n",
       "</table>\n",
       "<p>153 rows × 6 columns</p>\n",
       "</div>"
      ],
      "text/plain": [
       "     Economy (GDP per Capita)    Family  Health (Life Expectancy)   Freedom  \\\n",
       "0                    0.863050  0.915005                  0.860684  0.991245   \n",
       "1                    0.788961  1.000000                  0.870897  0.915303   \n",
       "2                    0.806978  0.932459                  0.758478  0.957503   \n",
       "3                    0.913388  0.886202                  0.774147  1.000000   \n",
       "4                    0.807611  0.873447                  0.804952  0.923834   \n",
       "..                        ...       ...                       ...       ...   \n",
       "148                  0.228983  0.255701                  0.068573  0.615529   \n",
       "149                  0.119268  0.321438                  0.137964  0.493676   \n",
       "150                  0.150665  0.000000                  0.159177  0.261493   \n",
       "151                  0.133650  0.019009                  0.170002  0.643015   \n",
       "152                  0.006512  0.044676                  0.108731  0.121502   \n",
       "\n",
       "     Trust (Government Corruption)  Dystopia Residual  \n",
       "0                         0.961785           0.623130  \n",
       "1                         0.585391           0.686680  \n",
       "2                         0.996113           0.614428  \n",
       "3                         0.923029           0.605255  \n",
       "4                         0.891894           0.600607  \n",
       "..                             ...                ...  \n",
       "148                       0.674293           0.250582  \n",
       "149                       0.549687           0.266491  \n",
       "150                       0.453165           0.430298  \n",
       "151                       0.392008           0.322822  \n",
       "152                       0.464698           0.390040  \n",
       "\n",
       "[153 rows x 6 columns]"
      ]
     },
     "execution_count": 247,
     "metadata": {},
     "output_type": "execute_result"
    }
   ],
   "source": [
    "from sklearn.preprocessing import MinMaxScaler\n",
    "sc=MinMaxScaler()\n",
    "\n",
    "x=sc.fit_transform(x)\n",
    "x\n",
    "\n",
    "x=pd.DataFrame(x)\n",
    "x.columns=['Economy (GDP per Capita)','Family','Health (Life Expectancy)','Freedom','Trust (Government Corruption)','Dystopia Residual' ]\n",
    "x\n",
    "#to see the scaled values use pd\n",
    "#x=pd.DataFrame(sc.fit_transform(x),columns=x.columns)"
   ]
  },
  {
   "cell_type": "markdown",
   "metadata": {},
   "source": [
    "we can see after scailing all the values are converted between 0 and 1"
   ]
  },
  {
   "cell_type": "markdown",
   "metadata": {},
   "source": [
    "# Model building"
   ]
  },
  {
   "cell_type": "markdown",
   "metadata": {},
   "source": [
    "checking best random state"
   ]
  },
  {
   "cell_type": "code",
   "execution_count": 248,
   "metadata": {},
   "outputs": [
    {
     "name": "stdout",
     "output_type": "stream",
     "text": [
      "Best accuracy is  99.37180942471599 found on random state 148\n"
     ]
    }
   ],
   "source": [
    "from sklearn.model_selection import train_test_split\n",
    "from sklearn.linear_model import LinearRegression\n",
    "from sklearn.model_selection import cross_val_score\n",
    "from sklearn.metrics import r2_score\n",
    "\n",
    "best_rstate=0\n",
    "accu=0\n",
    "\n",
    "for i in range(30,200):\n",
    "    x_train,x_test,y_train,y_test=train_test_split(x,y,test_size=0.25,random_state=i)\n",
    "    mod=LinearRegression()\n",
    "    mod.fit(x_train,y_train)\n",
    "    y_pred=mod.predict(x_test)\n",
    "    tempaccu=r2_score(y_test,y_pred)\n",
    "    \n",
    "    \n",
    "    if tempaccu>accu:\n",
    "        accu=tempaccu\n",
    "        best_rstate=i\n",
    "        \n",
    "        \n",
    "print('Best accuracy is ',(accu*100),'found on random state',(best_rstate))"
   ]
  },
  {
   "cell_type": "code",
   "execution_count": 249,
   "metadata": {},
   "outputs": [],
   "source": [
    " x_train,x_test,y_train,y_test=train_test_split(x,y,test_size=0.25,random_state=148)"
   ]
  },
  {
   "cell_type": "markdown",
   "metadata": {},
   "source": [
    "Using loop to understand how various models shall behave"
   ]
  },
  {
   "cell_type": "code",
   "execution_count": 250,
   "metadata": {},
   "outputs": [
    {
     "name": "stdout",
     "output_type": "stream",
     "text": [
      "accuracy score of LinearRegression() is:\n",
      "0.9937180942471598\n",
      "cvscore= 0.6634034298478744\n",
      "\n",
      "\n",
      "accuracy score of DecisionTreeRegressor() is:\n",
      "0.8127293552950055\n",
      "cvscore= 0.6634034298478744\n",
      "\n",
      "\n",
      "accuracy score of GradientBoostingRegressor() is:\n",
      "0.9150115857456753\n",
      "cvscore= 0.6634034298478744\n",
      "\n",
      "\n"
     ]
    }
   ],
   "source": [
    "import sklearn \n",
    "from sklearn.tree import DecisionTreeRegressor\n",
    "from sklearn.ensemble import GradientBoostingRegressor\n",
    "import warnings \n",
    "warnings.filterwarnings('ignore')\n",
    "\n",
    "\n",
    "model=[LinearRegression(),DecisionTreeRegressor(),GradientBoostingRegressor()]\n",
    "\n",
    "for m in model:\n",
    "    m.fit(x_train,y_train)\n",
    "    predm=m.predict(x_test)\n",
    "    m.score(x_train,y_train)\n",
    "    print('accuracy score of',m,'is:')\n",
    "    print(r2_score(y_test,predm))\n",
    "    print(\"cvscore=\",cross_val_score(Lr,x,y,cv=5).mean())\n",
    "    print('\\n')\n",
    "    "
   ]
  },
  {
   "cell_type": "markdown",
   "metadata": {},
   "source": [
    "#### observations"
   ]
  },
  {
   "cell_type": "markdown",
   "metadata": {},
   "source": [
    "using linear regression the model becomes overfit as it is learning from noise\n",
    "\n",
    "As compared to decision tree regressor GradientBoost is working well so we shall Tune gradientboost algorithm to get better accuracy\n"
   ]
  },
  {
   "cell_type": "markdown",
   "metadata": {},
   "source": [
    "# hyperparameter tunning"
   ]
  },
  {
   "cell_type": "code",
   "execution_count": 251,
   "metadata": {},
   "outputs": [
    {
     "name": "stdout",
     "output_type": "stream",
     "text": [
      "{'loss': 'ls', 'n_estimators': 200}\n"
     ]
    }
   ],
   "source": [
    "#finding best parameters for gradient boosting\n",
    "\n",
    "from sklearn.ensemble import GradientBoostingRegressor\n",
    "parameters={'loss':['ls','lad','huber','quantile'],'n_estimators':[50,100,200,300]}\n",
    "gbr=GradientBoostingRegressor()\n",
    "gbc=GridSearchCV(gbr,parameters)\n",
    "gbc.fit(x_train,y_train)\n",
    "print(gbc.best_params_)\n",
    "\n"
   ]
  },
  {
   "cell_type": "code",
   "execution_count": 252,
   "metadata": {},
   "outputs": [
    {
     "name": "stdout",
     "output_type": "stream",
     "text": [
      "r2 score= 91.69653998845864\n",
      "cross val score= 92.60124023906624\n"
     ]
    }
   ],
   "source": [
    "#building the model using the best parameters obtained above\n",
    "\n",
    "gbr=GradientBoostingRegressor(loss='ls',n_estimators=200)\n",
    "gbr.fit(x_train,y_train)\n",
    "gbr_predict=gbr.predict(x_test)\n",
    "gbrs=r2_score(y_test,gbr_predict)*100\n",
    "print(\"r2 score=\",gbrs)\n",
    "gbrscore=cross_val_score(gbr,x_train,y_train,cv=5).mean()*100\n",
    "print('cross val score=',gbrscore)"
   ]
  },
  {
   "cell_type": "markdown",
   "metadata": {},
   "source": [
    "# Evaluation metrics"
   ]
  },
  {
   "cell_type": "code",
   "execution_count": 253,
   "metadata": {},
   "outputs": [
    {
     "name": "stdout",
     "output_type": "stream",
     "text": [
      "mean absolute error i= 0.2736802679773423\n",
      "mean squared error is= 0.12394773987675968\n",
      "Root mean square error(RMSE)= 0.3520621250244901\n"
     ]
    }
   ],
   "source": [
    "from sklearn.metrics import mean_absolute_error,mean_squared_error\n",
    "\n",
    "print(\"mean absolute error i=\",mean_absolute_error(y_test,gbr_predict))\n",
    "print(\"mean squared error is=\",mean_squared_error(y_test,gbr_predict))\n",
    "print(\"Root mean square error(RMSE)=\",np.sqrt(mean_squared_error(y_test,gbr_predict)))\n"
   ]
  },
  {
   "cell_type": "markdown",
   "metadata": {},
   "source": [
    "# Saving the best model"
   ]
  },
  {
   "cell_type": "code",
   "execution_count": 254,
   "metadata": {},
   "outputs": [],
   "source": [
    "import pickle\n",
    "filename=\"world-happiness-report.pkl\"\n",
    "pickle.dump(gbr,open(filename,'wb'))"
   ]
  },
  {
   "cell_type": "code",
   "execution_count": 255,
   "metadata": {},
   "outputs": [
    {
     "data": {
      "text/plain": [
       "array([6.75 , 6.786, 4.788, 5.848, 6.295, 3.819, 6.67 , 5.192, 6.81 ,\n",
       "       6.168, 5.828, 5.754, 5.194, 5.212, 3.575, 3.904, 4.677, 7.286,\n",
       "       6.937, 4.839, 6.798, 4.252, 4.297, 3.845, 4.874, 4.715, 4.35 ,\n",
       "       5.855, 3.989, 3.931, 7.527, 4.512, 7.2  , 5.695, 7.187, 4.033,\n",
       "       7.278, 3.655, 5.984])"
      ]
     },
     "execution_count": 255,
     "metadata": {},
     "output_type": "execute_result"
    }
   ],
   "source": [
    "import numpy as np\n",
    "a=np.array(y_test)\n",
    "a"
   ]
  },
  {
   "cell_type": "code",
   "execution_count": 256,
   "metadata": {},
   "outputs": [
    {
     "data": {
      "text/plain": [
       "array([6.99402549, 6.37103238, 5.04697685, 6.178635  , 5.89411075,\n",
       "       4.28518137, 6.02903614, 5.1513482 , 6.66074826, 6.29466315,\n",
       "       5.89992609, 5.50558017, 4.55096256, 5.19026073, 3.43693393,\n",
       "       3.89047494, 4.52020976, 7.24536111, 7.01225618, 4.65774129,\n",
       "       5.83157865, 4.39238426, 4.80045656, 3.97536854, 5.17264947,\n",
       "       5.04686019, 4.82123671, 6.04108291, 3.86114933, 4.15550467,\n",
       "       7.45019537, 4.41737971, 7.44289084, 5.48447706, 6.25636285,\n",
       "       3.75891514, 6.93086777, 3.92060586, 5.7974476 ])"
      ]
     },
     "execution_count": 256,
     "metadata": {},
     "output_type": "execute_result"
    }
   ],
   "source": [
    "predicted=np.array(gbr.predict(x_test))\n",
    "predicted"
   ]
  },
  {
   "cell_type": "code",
   "execution_count": 257,
   "metadata": {},
   "outputs": [
    {
     "data": {
      "text/html": [
       "<div>\n",
       "<style scoped>\n",
       "    .dataframe tbody tr th:only-of-type {\n",
       "        vertical-align: middle;\n",
       "    }\n",
       "\n",
       "    .dataframe tbody tr th {\n",
       "        vertical-align: top;\n",
       "    }\n",
       "\n",
       "    .dataframe thead th {\n",
       "        text-align: right;\n",
       "    }\n",
       "</style>\n",
       "<table border=\"1\" class=\"dataframe\">\n",
       "  <thead>\n",
       "    <tr style=\"text-align: right;\">\n",
       "      <th></th>\n",
       "      <th>original</th>\n",
       "      <th>predicted</th>\n",
       "    </tr>\n",
       "  </thead>\n",
       "  <tbody>\n",
       "    <tr>\n",
       "      <th>0</th>\n",
       "      <td>6.750</td>\n",
       "      <td>6.994025</td>\n",
       "    </tr>\n",
       "    <tr>\n",
       "      <th>1</th>\n",
       "      <td>6.786</td>\n",
       "      <td>6.371032</td>\n",
       "    </tr>\n",
       "    <tr>\n",
       "      <th>2</th>\n",
       "      <td>4.788</td>\n",
       "      <td>5.046977</td>\n",
       "    </tr>\n",
       "    <tr>\n",
       "      <th>3</th>\n",
       "      <td>5.848</td>\n",
       "      <td>6.178635</td>\n",
       "    </tr>\n",
       "    <tr>\n",
       "      <th>4</th>\n",
       "      <td>6.295</td>\n",
       "      <td>5.894111</td>\n",
       "    </tr>\n",
       "    <tr>\n",
       "      <th>5</th>\n",
       "      <td>3.819</td>\n",
       "      <td>4.285181</td>\n",
       "    </tr>\n",
       "    <tr>\n",
       "      <th>6</th>\n",
       "      <td>6.670</td>\n",
       "      <td>6.029036</td>\n",
       "    </tr>\n",
       "    <tr>\n",
       "      <th>7</th>\n",
       "      <td>5.192</td>\n",
       "      <td>5.151348</td>\n",
       "    </tr>\n",
       "    <tr>\n",
       "      <th>8</th>\n",
       "      <td>6.810</td>\n",
       "      <td>6.660748</td>\n",
       "    </tr>\n",
       "    <tr>\n",
       "      <th>9</th>\n",
       "      <td>6.168</td>\n",
       "      <td>6.294663</td>\n",
       "    </tr>\n",
       "    <tr>\n",
       "      <th>10</th>\n",
       "      <td>5.828</td>\n",
       "      <td>5.899926</td>\n",
       "    </tr>\n",
       "    <tr>\n",
       "      <th>11</th>\n",
       "      <td>5.754</td>\n",
       "      <td>5.505580</td>\n",
       "    </tr>\n",
       "    <tr>\n",
       "      <th>12</th>\n",
       "      <td>5.194</td>\n",
       "      <td>4.550963</td>\n",
       "    </tr>\n",
       "    <tr>\n",
       "      <th>13</th>\n",
       "      <td>5.212</td>\n",
       "      <td>5.190261</td>\n",
       "    </tr>\n",
       "    <tr>\n",
       "      <th>14</th>\n",
       "      <td>3.575</td>\n",
       "      <td>3.436934</td>\n",
       "    </tr>\n",
       "    <tr>\n",
       "      <th>15</th>\n",
       "      <td>3.904</td>\n",
       "      <td>3.890475</td>\n",
       "    </tr>\n",
       "    <tr>\n",
       "      <th>16</th>\n",
       "      <td>4.677</td>\n",
       "      <td>4.520210</td>\n",
       "    </tr>\n",
       "    <tr>\n",
       "      <th>17</th>\n",
       "      <td>7.286</td>\n",
       "      <td>7.245361</td>\n",
       "    </tr>\n",
       "    <tr>\n",
       "      <th>18</th>\n",
       "      <td>6.937</td>\n",
       "      <td>7.012256</td>\n",
       "    </tr>\n",
       "    <tr>\n",
       "      <th>19</th>\n",
       "      <td>4.839</td>\n",
       "      <td>4.657741</td>\n",
       "    </tr>\n",
       "    <tr>\n",
       "      <th>20</th>\n",
       "      <td>6.798</td>\n",
       "      <td>5.831579</td>\n",
       "    </tr>\n",
       "    <tr>\n",
       "      <th>21</th>\n",
       "      <td>4.252</td>\n",
       "      <td>4.392384</td>\n",
       "    </tr>\n",
       "    <tr>\n",
       "      <th>22</th>\n",
       "      <td>4.297</td>\n",
       "      <td>4.800457</td>\n",
       "    </tr>\n",
       "    <tr>\n",
       "      <th>23</th>\n",
       "      <td>3.845</td>\n",
       "      <td>3.975369</td>\n",
       "    </tr>\n",
       "    <tr>\n",
       "      <th>24</th>\n",
       "      <td>4.874</td>\n",
       "      <td>5.172649</td>\n",
       "    </tr>\n",
       "    <tr>\n",
       "      <th>25</th>\n",
       "      <td>4.715</td>\n",
       "      <td>5.046860</td>\n",
       "    </tr>\n",
       "    <tr>\n",
       "      <th>26</th>\n",
       "      <td>4.350</td>\n",
       "      <td>4.821237</td>\n",
       "    </tr>\n",
       "    <tr>\n",
       "      <th>27</th>\n",
       "      <td>5.855</td>\n",
       "      <td>6.041083</td>\n",
       "    </tr>\n",
       "    <tr>\n",
       "      <th>28</th>\n",
       "      <td>3.989</td>\n",
       "      <td>3.861149</td>\n",
       "    </tr>\n",
       "    <tr>\n",
       "      <th>29</th>\n",
       "      <td>3.931</td>\n",
       "      <td>4.155505</td>\n",
       "    </tr>\n",
       "    <tr>\n",
       "      <th>30</th>\n",
       "      <td>7.527</td>\n",
       "      <td>7.450195</td>\n",
       "    </tr>\n",
       "    <tr>\n",
       "      <th>31</th>\n",
       "      <td>4.512</td>\n",
       "      <td>4.417380</td>\n",
       "    </tr>\n",
       "    <tr>\n",
       "      <th>32</th>\n",
       "      <td>7.200</td>\n",
       "      <td>7.442891</td>\n",
       "    </tr>\n",
       "    <tr>\n",
       "      <th>33</th>\n",
       "      <td>5.695</td>\n",
       "      <td>5.484477</td>\n",
       "    </tr>\n",
       "    <tr>\n",
       "      <th>34</th>\n",
       "      <td>7.187</td>\n",
       "      <td>6.256363</td>\n",
       "    </tr>\n",
       "    <tr>\n",
       "      <th>35</th>\n",
       "      <td>4.033</td>\n",
       "      <td>3.758915</td>\n",
       "    </tr>\n",
       "    <tr>\n",
       "      <th>36</th>\n",
       "      <td>7.278</td>\n",
       "      <td>6.930868</td>\n",
       "    </tr>\n",
       "    <tr>\n",
       "      <th>37</th>\n",
       "      <td>3.655</td>\n",
       "      <td>3.920606</td>\n",
       "    </tr>\n",
       "    <tr>\n",
       "      <th>38</th>\n",
       "      <td>5.984</td>\n",
       "      <td>5.797448</td>\n",
       "    </tr>\n",
       "  </tbody>\n",
       "</table>\n",
       "</div>"
      ],
      "text/plain": [
       "    original  predicted\n",
       "0      6.750   6.994025\n",
       "1      6.786   6.371032\n",
       "2      4.788   5.046977\n",
       "3      5.848   6.178635\n",
       "4      6.295   5.894111\n",
       "5      3.819   4.285181\n",
       "6      6.670   6.029036\n",
       "7      5.192   5.151348\n",
       "8      6.810   6.660748\n",
       "9      6.168   6.294663\n",
       "10     5.828   5.899926\n",
       "11     5.754   5.505580\n",
       "12     5.194   4.550963\n",
       "13     5.212   5.190261\n",
       "14     3.575   3.436934\n",
       "15     3.904   3.890475\n",
       "16     4.677   4.520210\n",
       "17     7.286   7.245361\n",
       "18     6.937   7.012256\n",
       "19     4.839   4.657741\n",
       "20     6.798   5.831579\n",
       "21     4.252   4.392384\n",
       "22     4.297   4.800457\n",
       "23     3.845   3.975369\n",
       "24     4.874   5.172649\n",
       "25     4.715   5.046860\n",
       "26     4.350   4.821237\n",
       "27     5.855   6.041083\n",
       "28     3.989   3.861149\n",
       "29     3.931   4.155505\n",
       "30     7.527   7.450195\n",
       "31     4.512   4.417380\n",
       "32     7.200   7.442891\n",
       "33     5.695   5.484477\n",
       "34     7.187   6.256363\n",
       "35     4.033   3.758915\n",
       "36     7.278   6.930868\n",
       "37     3.655   3.920606\n",
       "38     5.984   5.797448"
      ]
     },
     "execution_count": 257,
     "metadata": {},
     "output_type": "execute_result"
    }
   ],
   "source": [
    "df_com=pd.DataFrame({'original':a,'predicted':predicted})\n",
    "df_com"
   ]
  },
  {
   "cell_type": "markdown",
   "metadata": {},
   "source": [
    "#### Thus the model has been trained well and predicts accurate values"
   ]
  },
  {
   "cell_type": "code",
   "execution_count": null,
   "metadata": {},
   "outputs": [],
   "source": []
  }
 ],
 "metadata": {
  "kernelspec": {
   "display_name": "Python 3",
   "language": "python",
   "name": "python3"
  },
  "language_info": {
   "codemirror_mode": {
    "name": "ipython",
    "version": 3
   },
   "file_extension": ".py",
   "mimetype": "text/x-python",
   "name": "python",
   "nbconvert_exporter": "python",
   "pygments_lexer": "ipython3",
   "version": "3.8.3"
  }
 },
 "nbformat": 4,
 "nbformat_minor": 4
}
