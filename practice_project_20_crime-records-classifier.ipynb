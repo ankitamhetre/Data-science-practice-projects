{
 "cells": [
  {
   "cell_type": "markdown",
   "metadata": {},
   "source": [
    "# Property Stolen & Recovered (Crime Head)"
   ]
  },
  {
   "cell_type": "code",
   "execution_count": 57,
   "metadata": {},
   "outputs": [
    {
     "data": {
      "text/html": [
       "<div>\n",
       "<style scoped>\n",
       "    .dataframe tbody tr th:only-of-type {\n",
       "        vertical-align: middle;\n",
       "    }\n",
       "\n",
       "    .dataframe tbody tr th {\n",
       "        vertical-align: top;\n",
       "    }\n",
       "\n",
       "    .dataframe thead th {\n",
       "        text-align: right;\n",
       "    }\n",
       "</style>\n",
       "<table border=\"1\" class=\"dataframe\">\n",
       "  <thead>\n",
       "    <tr style=\"text-align: right;\">\n",
       "      <th></th>\n",
       "      <th>Area_Name</th>\n",
       "      <th>Year</th>\n",
       "      <th>Group_Name</th>\n",
       "      <th>Sub_Group_Name</th>\n",
       "      <th>Cases_Property_Recovered</th>\n",
       "      <th>Cases_Property_Stolen</th>\n",
       "      <th>Value_of_Property_Recovered</th>\n",
       "      <th>Value_of_Property_Stolen</th>\n",
       "    </tr>\n",
       "  </thead>\n",
       "  <tbody>\n",
       "    <tr>\n",
       "      <th>0</th>\n",
       "      <td>Andaman &amp; Nicobar Islands</td>\n",
       "      <td>2001</td>\n",
       "      <td>Burglary - Property</td>\n",
       "      <td>3. Burglary</td>\n",
       "      <td>27</td>\n",
       "      <td>64</td>\n",
       "      <td>755858</td>\n",
       "      <td>1321961</td>\n",
       "    </tr>\n",
       "    <tr>\n",
       "      <th>1</th>\n",
       "      <td>Andhra Pradesh</td>\n",
       "      <td>2001</td>\n",
       "      <td>Burglary - Property</td>\n",
       "      <td>3. Burglary</td>\n",
       "      <td>3321</td>\n",
       "      <td>7134</td>\n",
       "      <td>51483437</td>\n",
       "      <td>147019348</td>\n",
       "    </tr>\n",
       "    <tr>\n",
       "      <th>2</th>\n",
       "      <td>Arunachal Pradesh</td>\n",
       "      <td>2001</td>\n",
       "      <td>Burglary - Property</td>\n",
       "      <td>3. Burglary</td>\n",
       "      <td>66</td>\n",
       "      <td>248</td>\n",
       "      <td>825115</td>\n",
       "      <td>4931904</td>\n",
       "    </tr>\n",
       "    <tr>\n",
       "      <th>3</th>\n",
       "      <td>Assam</td>\n",
       "      <td>2001</td>\n",
       "      <td>Burglary - Property</td>\n",
       "      <td>3. Burglary</td>\n",
       "      <td>539</td>\n",
       "      <td>2423</td>\n",
       "      <td>3722850</td>\n",
       "      <td>21466955</td>\n",
       "    </tr>\n",
       "    <tr>\n",
       "      <th>4</th>\n",
       "      <td>Bihar</td>\n",
       "      <td>2001</td>\n",
       "      <td>Burglary - Property</td>\n",
       "      <td>3. Burglary</td>\n",
       "      <td>367</td>\n",
       "      <td>3231</td>\n",
       "      <td>2327135</td>\n",
       "      <td>17023937</td>\n",
       "    </tr>\n",
       "  </tbody>\n",
       "</table>\n",
       "</div>"
      ],
      "text/plain": [
       "                   Area_Name  Year           Group_Name Sub_Group_Name  \\\n",
       "0  Andaman & Nicobar Islands  2001  Burglary - Property    3. Burglary   \n",
       "1             Andhra Pradesh  2001  Burglary - Property    3. Burglary   \n",
       "2          Arunachal Pradesh  2001  Burglary - Property    3. Burglary   \n",
       "3                      Assam  2001  Burglary - Property    3. Burglary   \n",
       "4                      Bihar  2001  Burglary - Property    3. Burglary   \n",
       "\n",
       "   Cases_Property_Recovered  Cases_Property_Stolen  \\\n",
       "0                        27                     64   \n",
       "1                      3321                   7134   \n",
       "2                        66                    248   \n",
       "3                       539                   2423   \n",
       "4                       367                   3231   \n",
       "\n",
       "   Value_of_Property_Recovered  Value_of_Property_Stolen  \n",
       "0                       755858                   1321961  \n",
       "1                     51483437                 147019348  \n",
       "2                       825115                   4931904  \n",
       "3                      3722850                  21466955  \n",
       "4                      2327135                  17023937  "
      ]
     },
     "execution_count": 57,
     "metadata": {},
     "output_type": "execute_result"
    }
   ],
   "source": [
    "import pandas as pd\n",
    "df=pd.read_csv('Property_stolen_and_recovered.csv')\n",
    "df.head()"
   ]
  },
  {
   "cell_type": "code",
   "execution_count": 58,
   "metadata": {},
   "outputs": [
    {
     "data": {
      "text/plain": [
       "Index(['Area_Name', 'Year', 'Group_Name', 'Sub_Group_Name',\n",
       "       'Cases_Property_Recovered', 'Cases_Property_Stolen',\n",
       "       'Value_of_Property_Recovered', 'Value_of_Property_Stolen'],\n",
       "      dtype='object')"
      ]
     },
     "execution_count": 58,
     "metadata": {},
     "output_type": "execute_result"
    }
   ],
   "source": [
    "df.columns"
   ]
  },
  {
   "cell_type": "markdown",
   "metadata": {},
   "source": [
    "# Description"
   ]
  },
  {
   "cell_type": "code",
   "execution_count": 59,
   "metadata": {},
   "outputs": [
    {
     "data": {
      "text/plain": [
       "(2449, 8)"
      ]
     },
     "execution_count": 59,
     "metadata": {},
     "output_type": "execute_result"
    }
   ],
   "source": [
    "df.shape"
   ]
  },
  {
   "cell_type": "code",
   "execution_count": 60,
   "metadata": {},
   "outputs": [
    {
     "name": "stdout",
     "output_type": "stream",
     "text": [
      "<class 'pandas.core.frame.DataFrame'>\n",
      "RangeIndex: 2449 entries, 0 to 2448\n",
      "Data columns (total 8 columns):\n",
      " #   Column                       Non-Null Count  Dtype \n",
      "---  ------                       --------------  ----- \n",
      " 0   Area_Name                    2449 non-null   object\n",
      " 1   Year                         2449 non-null   int64 \n",
      " 2   Group_Name                   2449 non-null   object\n",
      " 3   Sub_Group_Name               2449 non-null   object\n",
      " 4   Cases_Property_Recovered     2449 non-null   int64 \n",
      " 5   Cases_Property_Stolen        2449 non-null   int64 \n",
      " 6   Value_of_Property_Recovered  2449 non-null   int64 \n",
      " 7   Value_of_Property_Stolen     2449 non-null   int64 \n",
      "dtypes: int64(5), object(3)\n",
      "memory usage: 153.2+ KB\n"
     ]
    }
   ],
   "source": [
    "df.info()"
   ]
  },
  {
   "cell_type": "code",
   "execution_count": 61,
   "metadata": {},
   "outputs": [
    {
     "data": {
      "text/plain": [
       "Area_Name                      0\n",
       "Year                           0\n",
       "Group_Name                     0\n",
       "Sub_Group_Name                 0\n",
       "Cases_Property_Recovered       0\n",
       "Cases_Property_Stolen          0\n",
       "Value_of_Property_Recovered    0\n",
       "Value_of_Property_Stolen       0\n",
       "dtype: int64"
      ]
     },
     "execution_count": 61,
     "metadata": {},
     "output_type": "execute_result"
    }
   ],
   "source": [
    "df.isnull().sum()"
   ]
  },
  {
   "cell_type": "markdown",
   "metadata": {},
   "source": [
    "There are no null values in the dataset"
   ]
  },
  {
   "cell_type": "code",
   "execution_count": 62,
   "metadata": {},
   "outputs": [
    {
     "data": {
      "text/html": [
       "<div>\n",
       "<style scoped>\n",
       "    .dataframe tbody tr th:only-of-type {\n",
       "        vertical-align: middle;\n",
       "    }\n",
       "\n",
       "    .dataframe tbody tr th {\n",
       "        vertical-align: top;\n",
       "    }\n",
       "\n",
       "    .dataframe thead th {\n",
       "        text-align: right;\n",
       "    }\n",
       "</style>\n",
       "<table border=\"1\" class=\"dataframe\">\n",
       "  <thead>\n",
       "    <tr style=\"text-align: right;\">\n",
       "      <th></th>\n",
       "      <th>Area</th>\n",
       "      <th>Year</th>\n",
       "      <th>Group</th>\n",
       "      <th>Sub_Group</th>\n",
       "      <th>Recovered</th>\n",
       "      <th>Stolen</th>\n",
       "      <th>Value_of_Property_Recovered</th>\n",
       "      <th>Value_of_Property_Stolen</th>\n",
       "    </tr>\n",
       "  </thead>\n",
       "  <tbody>\n",
       "    <tr>\n",
       "      <th>0</th>\n",
       "      <td>Andaman &amp; Nicobar Islands</td>\n",
       "      <td>2001</td>\n",
       "      <td>Burglary - Property</td>\n",
       "      <td>3. Burglary</td>\n",
       "      <td>27</td>\n",
       "      <td>64</td>\n",
       "      <td>755858</td>\n",
       "      <td>1321961</td>\n",
       "    </tr>\n",
       "    <tr>\n",
       "      <th>1</th>\n",
       "      <td>Andhra Pradesh</td>\n",
       "      <td>2001</td>\n",
       "      <td>Burglary - Property</td>\n",
       "      <td>3. Burglary</td>\n",
       "      <td>3321</td>\n",
       "      <td>7134</td>\n",
       "      <td>51483437</td>\n",
       "      <td>147019348</td>\n",
       "    </tr>\n",
       "    <tr>\n",
       "      <th>2</th>\n",
       "      <td>Arunachal Pradesh</td>\n",
       "      <td>2001</td>\n",
       "      <td>Burglary - Property</td>\n",
       "      <td>3. Burglary</td>\n",
       "      <td>66</td>\n",
       "      <td>248</td>\n",
       "      <td>825115</td>\n",
       "      <td>4931904</td>\n",
       "    </tr>\n",
       "    <tr>\n",
       "      <th>3</th>\n",
       "      <td>Assam</td>\n",
       "      <td>2001</td>\n",
       "      <td>Burglary - Property</td>\n",
       "      <td>3. Burglary</td>\n",
       "      <td>539</td>\n",
       "      <td>2423</td>\n",
       "      <td>3722850</td>\n",
       "      <td>21466955</td>\n",
       "    </tr>\n",
       "    <tr>\n",
       "      <th>4</th>\n",
       "      <td>Bihar</td>\n",
       "      <td>2001</td>\n",
       "      <td>Burglary - Property</td>\n",
       "      <td>3. Burglary</td>\n",
       "      <td>367</td>\n",
       "      <td>3231</td>\n",
       "      <td>2327135</td>\n",
       "      <td>17023937</td>\n",
       "    </tr>\n",
       "  </tbody>\n",
       "</table>\n",
       "</div>"
      ],
      "text/plain": [
       "                        Area  Year                Group    Sub_Group  \\\n",
       "0  Andaman & Nicobar Islands  2001  Burglary - Property  3. Burglary   \n",
       "1             Andhra Pradesh  2001  Burglary - Property  3. Burglary   \n",
       "2          Arunachal Pradesh  2001  Burglary - Property  3. Burglary   \n",
       "3                      Assam  2001  Burglary - Property  3. Burglary   \n",
       "4                      Bihar  2001  Burglary - Property  3. Burglary   \n",
       "\n",
       "   Recovered  Stolen  Value_of_Property_Recovered  Value_of_Property_Stolen  \n",
       "0         27      64                       755858                   1321961  \n",
       "1       3321    7134                     51483437                 147019348  \n",
       "2         66     248                       825115                   4931904  \n",
       "3        539    2423                      3722850                  21466955  \n",
       "4        367    3231                      2327135                  17023937  "
      ]
     },
     "execution_count": 62,
     "metadata": {},
     "output_type": "execute_result"
    }
   ],
   "source": [
    "# Renaming the column names for our convenience\n",
    "\n",
    "df.rename(columns={'Area_Name':'Area','Group_Name':'Group','Sub_Group_Name':'Sub_Group',\n",
    "       'Cases_Property_Recovered':'Recovered', 'Cases_Property_Stolen':'Stolen'},inplace=True)\n",
    "df.head()"
   ]
  },
  {
   "cell_type": "code",
   "execution_count": 63,
   "metadata": {},
   "outputs": [
    {
     "data": {
      "text/plain": [
       "Index(['Area', 'Year', 'Group', 'Sub_Group', 'Recovered', 'Stolen',\n",
       "       'Value_of_Property_Recovered', 'Value_of_Property_Stolen'],\n",
       "      dtype='object')"
      ]
     },
     "execution_count": 63,
     "metadata": {},
     "output_type": "execute_result"
    }
   ],
   "source": [
    "df.columns"
   ]
  },
  {
   "cell_type": "code",
   "execution_count": 64,
   "metadata": {},
   "outputs": [
    {
     "data": {
      "text/plain": [
       "Area                             35\n",
       "Year                             10\n",
       "Group                             7\n",
       "Sub_Group                         7\n",
       "Recovered                      1035\n",
       "Stolen                         1351\n",
       "Value_of_Property_Recovered    2204\n",
       "Value_of_Property_Stolen       2321\n",
       "dtype: int64"
      ]
     },
     "execution_count": 64,
     "metadata": {},
     "output_type": "execute_result"
    }
   ],
   "source": [
    "df.nunique()"
   ]
  },
  {
   "cell_type": "code",
   "execution_count": 65,
   "metadata": {},
   "outputs": [
    {
     "data": {
      "text/plain": [
       "Robbery - Property                     350\n",
       "Criminal Breach of Trust - Property    350\n",
       "Dacoity -Property                      350\n",
       "Burglary - Property                    350\n",
       "Other heads of Property                350\n",
       "Theft - Property                       350\n",
       "Total Property                         349\n",
       "Name: Group, dtype: int64"
      ]
     },
     "execution_count": 65,
     "metadata": {},
     "output_type": "execute_result"
    }
   ],
   "source": [
    "df[\"Group\"].value_counts()"
   ]
  },
  {
   "cell_type": "code",
   "execution_count": 66,
   "metadata": {},
   "outputs": [
    {
     "data": {
      "text/plain": [
       "5. Criminal Breach of Trust             350\n",
       "1. Dacoity                              350\n",
       "6. Other Property                       350\n",
       "2. Robbery                              350\n",
       "3. Burglary                             350\n",
       "4. Theft                                350\n",
       "7. Total Property Stolen & Recovered    349\n",
       "Name: Sub_Group, dtype: int64"
      ]
     },
     "execution_count": 66,
     "metadata": {},
     "output_type": "execute_result"
    }
   ],
   "source": [
    "df[\"Sub_Group\"].value_counts()"
   ]
  },
  {
   "cell_type": "markdown",
   "metadata": {},
   "source": [
    "# EDA"
   ]
  },
  {
   "cell_type": "code",
   "execution_count": 67,
   "metadata": {},
   "outputs": [],
   "source": [
    "import matplotlib.pyplot as plt\n",
    "import seaborn as sns\n",
    "import warnings \n",
    "warnings.filterwarnings('ignore')\n"
   ]
  },
  {
   "cell_type": "code",
   "execution_count": 68,
   "metadata": {},
   "outputs": [
    {
     "data": {
      "text/plain": [
       "array(['Andaman & Nicobar Islands', 'Andhra Pradesh', 'Arunachal Pradesh',\n",
       "       'Assam', 'Bihar', 'Chandigarh', 'Chhattisgarh',\n",
       "       'Dadra & Nagar Haveli', 'Daman & Diu', 'Delhi', 'Goa', 'Gujarat',\n",
       "       'Haryana', 'Himachal Pradesh', 'Jammu & Kashmir', 'Jharkhand',\n",
       "       'Karnataka', 'Kerala', 'Lakshadweep', 'Madhya Pradesh',\n",
       "       'Maharashtra', 'Manipur', 'Meghalaya', 'Mizoram', 'Nagaland',\n",
       "       'Odisha', 'Puducherry', 'Punjab', 'Rajasthan', 'Sikkim',\n",
       "       'Tamil Nadu', 'Tripura', 'Uttar Pradesh', 'Uttarakhand',\n",
       "       'West Bengal'], dtype=object)"
      ]
     },
     "execution_count": 68,
     "metadata": {},
     "output_type": "execute_result"
    }
   ],
   "source": [
    "df['Area'].unique()"
   ]
  },
  {
   "cell_type": "code",
   "execution_count": 69,
   "metadata": {},
   "outputs": [
    {
     "data": {
      "text/plain": [
       "Sikkim                       70\n",
       "Himachal Pradesh             70\n",
       "Andhra Pradesh               70\n",
       "Meghalaya                    70\n",
       "Jammu & Kashmir              70\n",
       "Nagaland                     70\n",
       "Andaman & Nicobar Islands    70\n",
       "Daman & Diu                  70\n",
       "Karnataka                    70\n",
       "Kerala                       70\n",
       "Punjab                       70\n",
       "Jharkhand                    70\n",
       "Puducherry                   70\n",
       "Dadra & Nagar Haveli         70\n",
       "Gujarat                      70\n",
       "Tripura                      70\n",
       "Odisha                       70\n",
       "Manipur                      70\n",
       "Bihar                        70\n",
       "Haryana                      70\n",
       "Maharashtra                  70\n",
       "Chandigarh                   70\n",
       "Madhya Pradesh               70\n",
       "Mizoram                      70\n",
       "Goa                          70\n",
       "Tamil Nadu                   70\n",
       "Chhattisgarh                 70\n",
       "Uttarakhand                  70\n",
       "Rajasthan                    70\n",
       "Assam                        70\n",
       "Arunachal Pradesh            70\n",
       "West Bengal                  70\n",
       "Delhi                        70\n",
       "Uttar Pradesh                70\n",
       "Lakshadweep                  69\n",
       "Name: Area, dtype: int64"
      ]
     },
     "execution_count": 69,
     "metadata": {},
     "output_type": "execute_result"
    }
   ],
   "source": [
    "df['Area'].value_counts()\n"
   ]
  },
  {
   "cell_type": "code",
   "execution_count": 70,
   "metadata": {},
   "outputs": [
    {
     "data": {
      "text/plain": [
       "Robbery - Property                     350\n",
       "Criminal Breach of Trust - Property    350\n",
       "Dacoity -Property                      350\n",
       "Burglary - Property                    350\n",
       "Other heads of Property                350\n",
       "Theft - Property                       350\n",
       "Total Property                         349\n",
       "Name: Group, dtype: int64"
      ]
     },
     "execution_count": 70,
     "metadata": {},
     "output_type": "execute_result"
    }
   ],
   "source": [
    "df[\"Group\"].value_counts()\n"
   ]
  },
  {
   "cell_type": "markdown",
   "metadata": {},
   "source": [
    "# visualizations"
   ]
  },
  {
   "cell_type": "code",
   "execution_count": 71,
   "metadata": {},
   "outputs": [
    {
     "data": {
      "image/png": "[encoded data removed]",
      "text/plain": [
       "<Figure size 1440x360 with 1 Axes>"
      ]
     },
     "metadata": {
      "needs_background": "light"
     },
     "output_type": "display_data"
    }
   ],
   "source": [
    "plt.figure(figsize=(20,5))\n",
    "sns.countplot(df['Group'].unique())\n",
    "plt.show()"
   ]
  },
  {
   "cell_type": "markdown",
   "metadata": {},
   "source": [
    "there are 7 different groups they are \n",
    "\n",
    "1)'Burglary - Property'\n",
    "\n",
    "2)'Criminal Breach of Trust - Property'\n",
    "\n",
    "3)'Dacoity -Property'\n",
    "\n",
    "4)'Other heads of Property'\n",
    "\n",
    "5)'Robbery - Property'\n",
    "\n",
    "6)'Theft - Property'\n",
    "\n",
    "7)'Total Property'"
   ]
  },
  {
   "cell_type": "code",
   "execution_count": 72,
   "metadata": {},
   "outputs": [
    {
     "data": {
      "text/plain": [
       "Robbery - Property                     350\n",
       "Criminal Breach of Trust - Property    350\n",
       "Dacoity -Property                      350\n",
       "Burglary - Property                    350\n",
       "Other heads of Property                350\n",
       "Theft - Property                       350\n",
       "Total Property                         349\n",
       "Name: Group, dtype: int64"
      ]
     },
     "execution_count": 72,
     "metadata": {},
     "output_type": "execute_result"
    }
   ],
   "source": [
    "df['Group'].value_counts()"
   ]
  },
  {
   "cell_type": "code",
   "execution_count": 73,
   "metadata": {},
   "outputs": [
    {
     "data": {
      "text/plain": [
       "<matplotlib.axes._subplots.AxesSubplot at 0x17ecd808100>"
      ]
     },
     "execution_count": 73,
     "metadata": {},
     "output_type": "execute_result"
    },
    {
     "data": {
      "image/png": "[encoded data removed]",
      "text/plain": [
       "<Figure size 432x288 with 1 Axes>"
      ]
     },
     "metadata": {
      "needs_background": "light"
     },
     "output_type": "display_data"
    }
   ],
   "source": [
    "sns.countplot(df['Year'])"
   ]
  },
  {
   "cell_type": "markdown",
   "metadata": {},
   "source": [
    "The crime rate in all the years was similar "
   ]
  },
  {
   "cell_type": "code",
   "execution_count": 74,
   "metadata": {},
   "outputs": [
    {
     "data": {
      "image/png": "[encoded data removed]",
      "text/plain": [
       "<Figure size 360x360 with 1 Axes>"
      ]
     },
     "metadata": {
      "needs_background": "light"
     },
     "output_type": "display_data"
    }
   ],
   "source": [
    "sns.catplot(x='Year',y='Stolen',data=df,kind='bar')\n",
    "plt.show()"
   ]
  },
  {
   "cell_type": "code",
   "execution_count": 75,
   "metadata": {},
   "outputs": [
    {
     "data": {
      "text/plain": [
       "<matplotlib.axes._subplots.AxesSubplot at 0x17ecd8d7460>"
      ]
     },
     "execution_count": 75,
     "metadata": {},
     "output_type": "execute_result"
    },
    {
     "data": {
      "image/png": "[encoded data removed]",
      "text/plain": [
       "<Figure size 432x288 with 1 Axes>"
      ]
     },
     "metadata": {
      "needs_background": "light"
     },
     "output_type": "display_data"
    }
   ],
   "source": [
    "sns.distplot(df['Recovered'])"
   ]
  },
  {
   "cell_type": "markdown",
   "metadata": {},
   "source": [
    "the data distribution is not normalized"
   ]
  },
  {
   "cell_type": "code",
   "execution_count": 76,
   "metadata": {},
   "outputs": [
    {
     "data": {
      "image/png": "[encoded data removed]",
      "text/plain": [
       "<Figure size 432x288 with 1 Axes>"
      ]
     },
     "metadata": {
      "needs_background": "light"
     },
     "output_type": "display_data"
    }
   ],
   "source": [
    "sns.distplot(df['Stolen'])\n",
    "plt.show()"
   ]
  },
  {
   "cell_type": "code",
   "execution_count": 77,
   "metadata": {},
   "outputs": [
    {
     "data": {
      "image/png": "[encoded data removed]",
      "text/plain": [
       "<Figure size 432x288 with 1 Axes>"
      ]
     },
     "metadata": {
      "needs_background": "light"
     },
     "output_type": "display_data"
    }
   ],
   "source": [
    "sns.distplot(df['Value_of_Property_Stolen'])\n",
    "plt.show()"
   ]
  },
  {
   "cell_type": "code",
   "execution_count": 78,
   "metadata": {},
   "outputs": [
    {
     "data": {
      "image/png": "[encoded data removed]",
      "text/plain": [
       "<Figure size 432x288 with 1 Axes>"
      ]
     },
     "metadata": {
      "needs_background": "light"
     },
     "output_type": "display_data"
    }
   ],
   "source": [
    "sns.distplot(df['Value_of_Property_Recovered'])\n",
    "plt.show()"
   ]
  },
  {
   "cell_type": "markdown",
   "metadata": {},
   "source": [
    "data is not normally distributed"
   ]
  },
  {
   "cell_type": "markdown",
   "metadata": {},
   "source": [
    "the density of stolen property is high from 0 to 30000"
   ]
  },
  {
   "cell_type": "code",
   "execution_count": 79,
   "metadata": {},
   "outputs": [
    {
     "data": {
      "image/png": "[encoded data removed]",
      "text/plain": [
       "<Figure size 432x288 with 1 Axes>"
      ]
     },
     "metadata": {
      "needs_background": "light"
     },
     "output_type": "display_data"
    }
   ],
   "source": [
    "sns.scatterplot(x='Recovered',y='Value_of_Property_Recovered',data=df)\n",
    "plt.show()"
   ]
  },
  {
   "cell_type": "markdown",
   "metadata": {},
   "source": [
    "density of recovered property is high from 0 to 10000"
   ]
  },
  {
   "cell_type": "code",
   "execution_count": 80,
   "metadata": {},
   "outputs": [
    {
     "data": {
      "image/png": "[encoded data removed]",
      "text/plain": [
       "<Figure size 432x288 with 1 Axes>"
      ]
     },
     "metadata": {
      "needs_background": "light"
     },
     "output_type": "display_data"
    }
   ],
   "source": [
    "#relationship between stolen and value of stolen property\n",
    "\n",
    "sns.scatterplot(x='Stolen',y='Recovered',data=df)\n",
    "plt.show()"
   ]
  },
  {
   "cell_type": "markdown",
   "metadata": {},
   "source": [
    "# Correlation"
   ]
  },
  {
   "cell_type": "code",
   "execution_count": 81,
   "metadata": {},
   "outputs": [],
   "source": [
    "#### as area and year column has no significant effect on the target variable we shall drop it\n",
    "\n",
    "df.drop(['Area','Year'],axis=1,inplace=True)"
   ]
  },
  {
   "cell_type": "code",
   "execution_count": 82,
   "metadata": {},
   "outputs": [
    {
     "data": {
      "text/html": [
       "<div>\n",
       "<style scoped>\n",
       "    .dataframe tbody tr th:only-of-type {\n",
       "        vertical-align: middle;\n",
       "    }\n",
       "\n",
       "    .dataframe tbody tr th {\n",
       "        vertical-align: top;\n",
       "    }\n",
       "\n",
       "    .dataframe thead th {\n",
       "        text-align: right;\n",
       "    }\n",
       "</style>\n",
       "<table border=\"1\" class=\"dataframe\">\n",
       "  <thead>\n",
       "    <tr style=\"text-align: right;\">\n",
       "      <th></th>\n",
       "      <th>Recovered</th>\n",
       "      <th>Stolen</th>\n",
       "      <th>Value_of_Property_Recovered</th>\n",
       "      <th>Value_of_Property_Stolen</th>\n",
       "    </tr>\n",
       "  </thead>\n",
       "  <tbody>\n",
       "    <tr>\n",
       "      <th>Recovered</th>\n",
       "      <td>1.000000</td>\n",
       "      <td>0.935765</td>\n",
       "      <td>0.495588</td>\n",
       "      <td>0.579084</td>\n",
       "    </tr>\n",
       "    <tr>\n",
       "      <th>Stolen</th>\n",
       "      <td>0.935765</td>\n",
       "      <td>1.000000</td>\n",
       "      <td>0.508971</td>\n",
       "      <td>0.643448</td>\n",
       "    </tr>\n",
       "    <tr>\n",
       "      <th>Value_of_Property_Recovered</th>\n",
       "      <td>0.495588</td>\n",
       "      <td>0.508971</td>\n",
       "      <td>1.000000</td>\n",
       "      <td>0.580554</td>\n",
       "    </tr>\n",
       "    <tr>\n",
       "      <th>Value_of_Property_Stolen</th>\n",
       "      <td>0.579084</td>\n",
       "      <td>0.643448</td>\n",
       "      <td>0.580554</td>\n",
       "      <td>1.000000</td>\n",
       "    </tr>\n",
       "  </tbody>\n",
       "</table>\n",
       "</div>"
      ],
      "text/plain": [
       "                             Recovered    Stolen  Value_of_Property_Recovered  \\\n",
       "Recovered                     1.000000  0.935765                     0.495588   \n",
       "Stolen                        0.935765  1.000000                     0.508971   \n",
       "Value_of_Property_Recovered   0.495588  0.508971                     1.000000   \n",
       "Value_of_Property_Stolen      0.579084  0.643448                     0.580554   \n",
       "\n",
       "                             Value_of_Property_Stolen  \n",
       "Recovered                                    0.579084  \n",
       "Stolen                                       0.643448  \n",
       "Value_of_Property_Recovered                  0.580554  \n",
       "Value_of_Property_Stolen                     1.000000  "
      ]
     },
     "execution_count": 82,
     "metadata": {},
     "output_type": "execute_result"
    }
   ],
   "source": [
    "df.corr()"
   ]
  },
  {
   "cell_type": "code",
   "execution_count": 83,
   "metadata": {},
   "outputs": [
    {
     "data": {
      "image/png": "[encoded data removed]",
      "text/plain": [
       "<Figure size 720x360 with 2 Axes>"
      ]
     },
     "metadata": {
      "needs_background": "light"
     },
     "output_type": "display_data"
    }
   ],
   "source": [
    "plt.figure(figsize=(10,5))\n",
    "sns.heatmap(df.corr(),annot=True,linewidth=5,linecolor='black',fmt='f')\n",
    "plt.show()\n"
   ]
  },
  {
   "cell_type": "markdown",
   "metadata": {},
   "source": [
    "There is a linear relationship between stealing of property and their recovery"
   ]
  },
  {
   "cell_type": "markdown",
   "metadata": {},
   "source": [
    "All the variable are strongly correlated with each other"
   ]
  },
  {
   "cell_type": "code",
   "execution_count": 84,
   "metadata": {},
   "outputs": [
    {
     "data": {
      "text/html": [
       "<div>\n",
       "<style scoped>\n",
       "    .dataframe tbody tr th:only-of-type {\n",
       "        vertical-align: middle;\n",
       "    }\n",
       "\n",
       "    .dataframe tbody tr th {\n",
       "        vertical-align: top;\n",
       "    }\n",
       "\n",
       "    .dataframe thead th {\n",
       "        text-align: right;\n",
       "    }\n",
       "</style>\n",
       "<table border=\"1\" class=\"dataframe\">\n",
       "  <thead>\n",
       "    <tr style=\"text-align: right;\">\n",
       "      <th></th>\n",
       "      <th>Recovered</th>\n",
       "      <th>Stolen</th>\n",
       "      <th>Value_of_Property_Recovered</th>\n",
       "      <th>Value_of_Property_Stolen</th>\n",
       "    </tr>\n",
       "  </thead>\n",
       "  <tbody>\n",
       "    <tr>\n",
       "      <th>count</th>\n",
       "      <td>2449.000000</td>\n",
       "      <td>2449.000000</td>\n",
       "      <td>2.449000e+03</td>\n",
       "      <td>2.449000e+03</td>\n",
       "    </tr>\n",
       "    <tr>\n",
       "      <th>mean</th>\n",
       "      <td>1232.892201</td>\n",
       "      <td>3419.420988</td>\n",
       "      <td>5.859924e+07</td>\n",
       "      <td>2.465431e+08</td>\n",
       "    </tr>\n",
       "    <tr>\n",
       "      <th>std</th>\n",
       "      <td>3079.573907</td>\n",
       "      <td>8136.256820</td>\n",
       "      <td>2.494403e+08</td>\n",
       "      <td>9.670035e+08</td>\n",
       "    </tr>\n",
       "    <tr>\n",
       "      <th>min</th>\n",
       "      <td>0.000000</td>\n",
       "      <td>0.000000</td>\n",
       "      <td>0.000000e+00</td>\n",
       "      <td>0.000000e+00</td>\n",
       "    </tr>\n",
       "    <tr>\n",
       "      <th>25%</th>\n",
       "      <td>13.000000</td>\n",
       "      <td>45.000000</td>\n",
       "      <td>6.845700e+05</td>\n",
       "      <td>3.649018e+06</td>\n",
       "    </tr>\n",
       "    <tr>\n",
       "      <th>50%</th>\n",
       "      <td>113.000000</td>\n",
       "      <td>358.000000</td>\n",
       "      <td>5.851830e+06</td>\n",
       "      <td>2.701800e+07</td>\n",
       "    </tr>\n",
       "    <tr>\n",
       "      <th>75%</th>\n",
       "      <td>722.000000</td>\n",
       "      <td>1875.000000</td>\n",
       "      <td>3.406395e+07</td>\n",
       "      <td>1.214580e+08</td>\n",
       "    </tr>\n",
       "    <tr>\n",
       "      <th>max</th>\n",
       "      <td>27960.000000</td>\n",
       "      <td>80663.000000</td>\n",
       "      <td>7.470011e+09</td>\n",
       "      <td>2.377625e+10</td>\n",
       "    </tr>\n",
       "  </tbody>\n",
       "</table>\n",
       "</div>"
      ],
      "text/plain": [
       "          Recovered        Stolen  Value_of_Property_Recovered  \\\n",
       "count   2449.000000   2449.000000                 2.449000e+03   \n",
       "mean    1232.892201   3419.420988                 5.859924e+07   \n",
       "std     3079.573907   8136.256820                 2.494403e+08   \n",
       "min        0.000000      0.000000                 0.000000e+00   \n",
       "25%       13.000000     45.000000                 6.845700e+05   \n",
       "50%      113.000000    358.000000                 5.851830e+06   \n",
       "75%      722.000000   1875.000000                 3.406395e+07   \n",
       "max    27960.000000  80663.000000                 7.470011e+09   \n",
       "\n",
       "       Value_of_Property_Stolen  \n",
       "count              2.449000e+03  \n",
       "mean               2.465431e+08  \n",
       "std                9.670035e+08  \n",
       "min                0.000000e+00  \n",
       "25%                3.649018e+06  \n",
       "50%                2.701800e+07  \n",
       "75%                1.214580e+08  \n",
       "max                2.377625e+10  "
      ]
     },
     "execution_count": 84,
     "metadata": {},
     "output_type": "execute_result"
    }
   ],
   "source": [
    "df.describe()"
   ]
  },
  {
   "cell_type": "code",
   "execution_count": 85,
   "metadata": {},
   "outputs": [
    {
     "data": {
      "image/png": "[encoded data removed]",
      "text/plain": [
       "<Figure size 1080x360 with 2 Axes>"
      ]
     },
     "metadata": {
      "needs_background": "light"
     },
     "output_type": "display_data"
    }
   ],
   "source": [
    "plt.figure(figsize=(15,5))\n",
    "sns.heatmap(round(df.describe()[1:].transpose(),2),annot=True,linewidth=5,linecolor='black',fmt='0.2f')\n",
    "plt.title(\"statistical summary\")\n",
    "plt.xticks(fontsize=15)  #setting the label sizes x tick is similar to x label\n",
    "plt.yticks(fontsize=12)\n",
    "plt.show()"
   ]
  },
  {
   "cell_type": "markdown",
   "metadata": {},
   "source": [
    "#### Observations"
   ]
  },
  {
   "cell_type": "markdown",
   "metadata": {},
   "source": [
    "1)Recovered:\n",
    "    \n",
    "    min=0.00\n",
    "    max=27960\n",
    "    mean=1232.89\n",
    "    std_dev=3079.57\n",
    "    \n",
    "2)Stolen:\n",
    "    \n",
    "    min=0.00\n",
    "    max=80663.00\n",
    "    mean=3419.42\n",
    "    std_dev=8136.26\n",
    "    \n",
    "    \n",
    "3)Value of property_Recovered:\n",
    "    \n",
    "    min=0.00\n",
    "    max=7470011363\n",
    "    mean=58599240.76\n",
    "    std_dev=249440298.72\n",
    "    \n",
    "4)Value of property_Stolen:\n",
    "    \n",
    "    min=0.00\n",
    "    max=23776254525\n",
    "    mean=246543094.39\n",
    "    std_dev=967003498.26\n",
    "\n"
   ]
  },
  {
   "cell_type": "markdown",
   "metadata": {},
   "source": [
    "# Outliers detection"
   ]
  },
  {
   "cell_type": "code",
   "execution_count": 86,
   "metadata": {},
   "outputs": [
    {
     "data": {
      "image/png": "[encoded data removed]",
      "text/plain": [
       "<Figure size 4320x4320 with 4 Axes>"
      ]
     },
     "metadata": {
      "needs_background": "light"
     },
     "output_type": "display_data"
    }
   ],
   "source": [
    "cols=[\"Recovered\",\"Stolen\",\"Value_of_Property_Recovered\",\"Value_of_Property_Stolen\"]\n",
    "\n",
    "ncols=30\n",
    "nrows=14\n",
    "plt.figure(figsize=(2*ncols,2*ncols))\n",
    "\n",
    "for i in range(0,len(cols)):\n",
    "    plt.subplot(nrows,ncols,i+1)\n",
    "    sns.boxplot(df[cols[i]],orient='v')\n",
    "    plt.tight_layout()\n",
    "    "
   ]
  },
  {
   "cell_type": "markdown",
   "metadata": {},
   "source": [
    "There are outliers present in all features which we shall deal in the upcomimg steps"
   ]
  },
  {
   "cell_type": "code",
   "execution_count": 87,
   "metadata": {},
   "outputs": [],
   "source": [
    "# as we have categorical data in other columns i.e group and sub group we shall label encode them\n",
    "\n",
    "from sklearn.preprocessing import LabelEncoder\n",
    "categorical_columns =['Group','Sub_Group']\n",
    "for col in categorical_columns:\n",
    "    le = LabelEncoder()\n",
    "    le.fit(df[col])\n",
    "    df[col] = le.fit_transform(df[col])"
   ]
  },
  {
   "cell_type": "code",
   "execution_count": 88,
   "metadata": {},
   "outputs": [
    {
     "data": {
      "text/html": [
       "<div>\n",
       "<style scoped>\n",
       "    .dataframe tbody tr th:only-of-type {\n",
       "        vertical-align: middle;\n",
       "    }\n",
       "\n",
       "    .dataframe tbody tr th {\n",
       "        vertical-align: top;\n",
       "    }\n",
       "\n",
       "    .dataframe thead th {\n",
       "        text-align: right;\n",
       "    }\n",
       "</style>\n",
       "<table border=\"1\" class=\"dataframe\">\n",
       "  <thead>\n",
       "    <tr style=\"text-align: right;\">\n",
       "      <th></th>\n",
       "      <th>Group</th>\n",
       "      <th>Sub_Group</th>\n",
       "      <th>Recovered</th>\n",
       "      <th>Stolen</th>\n",
       "      <th>Value_of_Property_Recovered</th>\n",
       "      <th>Value_of_Property_Stolen</th>\n",
       "    </tr>\n",
       "  </thead>\n",
       "  <tbody>\n",
       "    <tr>\n",
       "      <th>0</th>\n",
       "      <td>0</td>\n",
       "      <td>2</td>\n",
       "      <td>27</td>\n",
       "      <td>64</td>\n",
       "      <td>755858</td>\n",
       "      <td>1321961</td>\n",
       "    </tr>\n",
       "    <tr>\n",
       "      <th>1</th>\n",
       "      <td>0</td>\n",
       "      <td>2</td>\n",
       "      <td>3321</td>\n",
       "      <td>7134</td>\n",
       "      <td>51483437</td>\n",
       "      <td>147019348</td>\n",
       "    </tr>\n",
       "    <tr>\n",
       "      <th>2</th>\n",
       "      <td>0</td>\n",
       "      <td>2</td>\n",
       "      <td>66</td>\n",
       "      <td>248</td>\n",
       "      <td>825115</td>\n",
       "      <td>4931904</td>\n",
       "    </tr>\n",
       "    <tr>\n",
       "      <th>3</th>\n",
       "      <td>0</td>\n",
       "      <td>2</td>\n",
       "      <td>539</td>\n",
       "      <td>2423</td>\n",
       "      <td>3722850</td>\n",
       "      <td>21466955</td>\n",
       "    </tr>\n",
       "    <tr>\n",
       "      <th>4</th>\n",
       "      <td>0</td>\n",
       "      <td>2</td>\n",
       "      <td>367</td>\n",
       "      <td>3231</td>\n",
       "      <td>2327135</td>\n",
       "      <td>17023937</td>\n",
       "    </tr>\n",
       "    <tr>\n",
       "      <th>...</th>\n",
       "      <td>...</td>\n",
       "      <td>...</td>\n",
       "      <td>...</td>\n",
       "      <td>...</td>\n",
       "      <td>...</td>\n",
       "      <td>...</td>\n",
       "    </tr>\n",
       "    <tr>\n",
       "      <th>2444</th>\n",
       "      <td>6</td>\n",
       "      <td>6</td>\n",
       "      <td>16125</td>\n",
       "      <td>21509</td>\n",
       "      <td>660311804</td>\n",
       "      <td>1317919190</td>\n",
       "    </tr>\n",
       "    <tr>\n",
       "      <th>2445</th>\n",
       "      <td>6</td>\n",
       "      <td>6</td>\n",
       "      <td>192</td>\n",
       "      <td>879</td>\n",
       "      <td>5666102</td>\n",
       "      <td>33032746</td>\n",
       "    </tr>\n",
       "    <tr>\n",
       "      <th>2446</th>\n",
       "      <td>6</td>\n",
       "      <td>6</td>\n",
       "      <td>9130</td>\n",
       "      <td>35068</td>\n",
       "      <td>577591772</td>\n",
       "      <td>1442670414</td>\n",
       "    </tr>\n",
       "    <tr>\n",
       "      <th>2447</th>\n",
       "      <td>6</td>\n",
       "      <td>6</td>\n",
       "      <td>964</td>\n",
       "      <td>2234</td>\n",
       "      <td>47135685</td>\n",
       "      <td>123398840</td>\n",
       "    </tr>\n",
       "    <tr>\n",
       "      <th>2448</th>\n",
       "      <td>6</td>\n",
       "      <td>6</td>\n",
       "      <td>4548</td>\n",
       "      <td>23759</td>\n",
       "      <td>1168242161</td>\n",
       "      <td>5015168687</td>\n",
       "    </tr>\n",
       "  </tbody>\n",
       "</table>\n",
       "<p>2449 rows × 6 columns</p>\n",
       "</div>"
      ],
      "text/plain": [
       "      Group  Sub_Group  Recovered  Stolen  Value_of_Property_Recovered  \\\n",
       "0         0          2         27      64                       755858   \n",
       "1         0          2       3321    7134                     51483437   \n",
       "2         0          2         66     248                       825115   \n",
       "3         0          2        539    2423                      3722850   \n",
       "4         0          2        367    3231                      2327135   \n",
       "...     ...        ...        ...     ...                          ...   \n",
       "2444      6          6      16125   21509                    660311804   \n",
       "2445      6          6        192     879                      5666102   \n",
       "2446      6          6       9130   35068                    577591772   \n",
       "2447      6          6        964    2234                     47135685   \n",
       "2448      6          6       4548   23759                   1168242161   \n",
       "\n",
       "      Value_of_Property_Stolen  \n",
       "0                      1321961  \n",
       "1                    147019348  \n",
       "2                      4931904  \n",
       "3                     21466955  \n",
       "4                     17023937  \n",
       "...                        ...  \n",
       "2444                1317919190  \n",
       "2445                  33032746  \n",
       "2446                1442670414  \n",
       "2447                 123398840  \n",
       "2448                5015168687  \n",
       "\n",
       "[2449 rows x 6 columns]"
      ]
     },
     "execution_count": 88,
     "metadata": {},
     "output_type": "execute_result"
    }
   ],
   "source": [
    "df"
   ]
  },
  {
   "cell_type": "markdown",
   "metadata": {},
   "source": [
    "We can see that the categorical values are encoded with numbers"
   ]
  },
  {
   "cell_type": "markdown",
   "metadata": {},
   "source": [
    "# Z-score"
   ]
  },
  {
   "cell_type": "code",
   "execution_count": 89,
   "metadata": {},
   "outputs": [
    {
     "data": {
      "text/plain": [
       "array([[1.49977059, 0.49951509, 0.39165758, 0.41248775, 0.23194005,\n",
       "        0.25364046],\n",
       "       [1.49977059, 0.49951509, 0.67818936, 0.45663967, 0.02853291,\n",
       "        0.10294076],\n",
       "       [1.49977059, 0.49951509, 0.37899091, 0.38986831, 0.23166235,\n",
       "        0.24990658],\n",
       "       ...,\n",
       "       [1.50099589, 1.50099589, 2.56487451, 3.89061496, 2.08105317,\n",
       "        1.2371947 ],\n",
       "       [1.50099589, 1.50099589, 0.08733257, 0.14572587, 0.0459665 ,\n",
       "        0.12737224],\n",
       "       [1.50099589, 1.50099589, 1.07670247, 2.50037989, 4.44943959,\n",
       "        4.93234976]])"
      ]
     },
     "execution_count": 89,
     "metadata": {},
     "output_type": "execute_result"
    }
   ],
   "source": [
    "import numpy as np\n",
    "from scipy.stats import zscore\n",
    "z=np.abs(zscore(df))\n",
    "z\n"
   ]
  },
  {
   "cell_type": "code",
   "execution_count": 90,
   "metadata": {},
   "outputs": [
    {
     "name": "stdout",
     "output_type": "stream",
     "text": [
      "(array([ 405,  615,  685, 1034, 1034, 1166, 1280, 1315, 1339, 1350, 1385,\n",
      "       1770, 1770, 1780, 1805, 1805, 1815, 1821, 1840, 1840, 1850, 1856,\n",
      "       1875, 1875, 1885, 1891, 1910, 1910, 1920, 1926, 1945, 1945, 1955,\n",
      "       1961, 1980, 1980, 1990, 1996, 2015, 2015, 2015, 2025, 2031, 2050,\n",
      "       2050, 2060, 2066, 2085, 2085, 2085, 2085, 2095, 2101, 2119, 2119,\n",
      "       2120, 2120, 2120, 2120, 2130, 2132, 2132, 2136, 2136, 2146, 2154,\n",
      "       2154, 2155, 2155, 2155, 2155, 2165, 2167, 2171, 2171, 2181, 2181,\n",
      "       2189, 2189, 2190, 2190, 2190, 2200, 2206, 2206, 2216, 2216, 2224,\n",
      "       2224, 2225, 2225, 2225, 2225, 2235, 2241, 2241, 2249, 2251, 2259,\n",
      "       2259, 2260, 2260, 2260, 2260, 2270, 2276, 2276, 2294, 2294, 2295,\n",
      "       2295, 2295, 2295, 2305, 2307, 2311, 2311, 2328, 2328, 2329, 2329,\n",
      "       2329, 2329, 2339, 2345, 2345, 2353, 2355, 2363, 2363, 2364, 2364,\n",
      "       2364, 2364, 2374, 2376, 2376, 2380, 2380, 2388, 2395, 2395, 2398,\n",
      "       2398, 2399, 2399, 2399, 2399, 2407, 2409, 2411, 2415, 2415, 2423,\n",
      "       2423, 2425, 2430, 2430, 2433, 2433, 2433, 2433, 2434, 2434, 2434,\n",
      "       2434, 2442, 2442, 2444, 2446, 2448, 2448], dtype=int64), array([5, 5, 5, 4, 5, 5, 5, 5, 5, 5, 5, 2, 3, 2, 2, 3, 2, 2, 2, 3, 2, 2,\n",
      "       2, 3, 2, 2, 2, 3, 2, 2, 2, 3, 2, 2, 2, 3, 2, 2, 2, 3, 5, 2, 2, 2,\n",
      "       3, 2, 2, 2, 3, 4, 5, 2, 2, 2, 3, 2, 3, 4, 5, 2, 3, 4, 2, 3, 5, 2,\n",
      "       3, 2, 3, 4, 5, 2, 3, 2, 3, 3, 5, 2, 3, 2, 3, 5, 2, 2, 3, 3, 5, 2,\n",
      "       3, 2, 3, 4, 5, 2, 2, 3, 2, 5, 2, 3, 2, 3, 4, 5, 2, 2, 3, 2, 3, 2,\n",
      "       3, 4, 5, 2, 4, 2, 3, 2, 3, 2, 3, 4, 5, 2, 2, 3, 5, 3, 2, 3, 2, 3,\n",
      "       4, 5, 2, 3, 4, 2, 3, 5, 3, 4, 2, 3, 2, 3, 4, 5, 4, 2, 3, 2, 3, 3,\n",
      "       5, 5, 3, 4, 2, 3, 4, 5, 2, 3, 4, 5, 3, 4, 2, 3, 4, 5], dtype=int64))\n"
     ]
    }
   ],
   "source": [
    "threshold=3\n",
    "print(np.where(z>3))"
   ]
  },
  {
   "cell_type": "code",
   "execution_count": 91,
   "metadata": {},
   "outputs": [
    {
     "name": "stdout",
     "output_type": "stream",
     "text": [
      "original shape= (2449, 6)\n",
      "shape after removal of outliers (2350, 6)\n"
     ]
    }
   ],
   "source": [
    "#selecting only those whose zscores are below 3\n",
    "df_new=df[(z<3).all(axis=1)]\n",
    "df_new\n",
    "print(\"original shape=\",df.shape)\n",
    "print(\"shape after removal of outliers\",df_new.shape)"
   ]
  },
  {
   "cell_type": "code",
   "execution_count": 92,
   "metadata": {},
   "outputs": [
    {
     "name": "stdout",
     "output_type": "stream",
     "text": [
      "loss percentage= 4.042466312780727\n"
     ]
    }
   ],
   "source": [
    "#loss percentage\n",
    "print(\"loss percentage=\",((2449-2350)/2449)*100)"
   ]
  },
  {
   "cell_type": "markdown",
   "metadata": {},
   "source": [
    "As the percentage loss is low we can consider removing these outliers "
   ]
  },
  {
   "cell_type": "markdown",
   "metadata": {},
   "source": [
    "#### target variable=Group"
   ]
  },
  {
   "cell_type": "code",
   "execution_count": 93,
   "metadata": {},
   "outputs": [],
   "source": [
    "x=df_new.drop('Group',axis=1)\n",
    "y=df_new['Group']\n"
   ]
  },
  {
   "cell_type": "code",
   "execution_count": 94,
   "metadata": {},
   "outputs": [
    {
     "data": {
      "text/html": [
       "<div>\n",
       "<style scoped>\n",
       "    .dataframe tbody tr th:only-of-type {\n",
       "        vertical-align: middle;\n",
       "    }\n",
       "\n",
       "    .dataframe tbody tr th {\n",
       "        vertical-align: top;\n",
       "    }\n",
       "\n",
       "    .dataframe thead th {\n",
       "        text-align: right;\n",
       "    }\n",
       "</style>\n",
       "<table border=\"1\" class=\"dataframe\">\n",
       "  <thead>\n",
       "    <tr style=\"text-align: right;\">\n",
       "      <th></th>\n",
       "      <th>Sub_Group</th>\n",
       "      <th>Recovered</th>\n",
       "      <th>Stolen</th>\n",
       "      <th>Value_of_Property_Recovered</th>\n",
       "      <th>Value_of_Property_Stolen</th>\n",
       "    </tr>\n",
       "  </thead>\n",
       "  <tbody>\n",
       "    <tr>\n",
       "      <th>0</th>\n",
       "      <td>2</td>\n",
       "      <td>27</td>\n",
       "      <td>64</td>\n",
       "      <td>755858</td>\n",
       "      <td>1321961</td>\n",
       "    </tr>\n",
       "    <tr>\n",
       "      <th>1</th>\n",
       "      <td>2</td>\n",
       "      <td>3321</td>\n",
       "      <td>7134</td>\n",
       "      <td>51483437</td>\n",
       "      <td>147019348</td>\n",
       "    </tr>\n",
       "    <tr>\n",
       "      <th>2</th>\n",
       "      <td>2</td>\n",
       "      <td>66</td>\n",
       "      <td>248</td>\n",
       "      <td>825115</td>\n",
       "      <td>4931904</td>\n",
       "    </tr>\n",
       "    <tr>\n",
       "      <th>3</th>\n",
       "      <td>2</td>\n",
       "      <td>539</td>\n",
       "      <td>2423</td>\n",
       "      <td>3722850</td>\n",
       "      <td>21466955</td>\n",
       "    </tr>\n",
       "    <tr>\n",
       "      <th>4</th>\n",
       "      <td>2</td>\n",
       "      <td>367</td>\n",
       "      <td>3231</td>\n",
       "      <td>2327135</td>\n",
       "      <td>17023937</td>\n",
       "    </tr>\n",
       "    <tr>\n",
       "      <th>...</th>\n",
       "      <td>...</td>\n",
       "      <td>...</td>\n",
       "      <td>...</td>\n",
       "      <td>...</td>\n",
       "      <td>...</td>\n",
       "    </tr>\n",
       "    <tr>\n",
       "      <th>2440</th>\n",
       "      <td>6</td>\n",
       "      <td>325</td>\n",
       "      <td>625</td>\n",
       "      <td>18752582</td>\n",
       "      <td>30249484</td>\n",
       "    </tr>\n",
       "    <tr>\n",
       "      <th>2441</th>\n",
       "      <td>6</td>\n",
       "      <td>5885</td>\n",
       "      <td>9873</td>\n",
       "      <td>646232099</td>\n",
       "      <td>1056728815</td>\n",
       "    </tr>\n",
       "    <tr>\n",
       "      <th>2443</th>\n",
       "      <td>6</td>\n",
       "      <td>38</td>\n",
       "      <td>134</td>\n",
       "      <td>1444190</td>\n",
       "      <td>9445146</td>\n",
       "    </tr>\n",
       "    <tr>\n",
       "      <th>2445</th>\n",
       "      <td>6</td>\n",
       "      <td>192</td>\n",
       "      <td>879</td>\n",
       "      <td>5666102</td>\n",
       "      <td>33032746</td>\n",
       "    </tr>\n",
       "    <tr>\n",
       "      <th>2447</th>\n",
       "      <td>6</td>\n",
       "      <td>964</td>\n",
       "      <td>2234</td>\n",
       "      <td>47135685</td>\n",
       "      <td>123398840</td>\n",
       "    </tr>\n",
       "  </tbody>\n",
       "</table>\n",
       "<p>2350 rows × 5 columns</p>\n",
       "</div>"
      ],
      "text/plain": [
       "      Sub_Group  Recovered  Stolen  Value_of_Property_Recovered  \\\n",
       "0             2         27      64                       755858   \n",
       "1             2       3321    7134                     51483437   \n",
       "2             2         66     248                       825115   \n",
       "3             2        539    2423                      3722850   \n",
       "4             2        367    3231                      2327135   \n",
       "...         ...        ...     ...                          ...   \n",
       "2440          6        325     625                     18752582   \n",
       "2441          6       5885    9873                    646232099   \n",
       "2443          6         38     134                      1444190   \n",
       "2445          6        192     879                      5666102   \n",
       "2447          6        964    2234                     47135685   \n",
       "\n",
       "      Value_of_Property_Stolen  \n",
       "0                      1321961  \n",
       "1                    147019348  \n",
       "2                      4931904  \n",
       "3                     21466955  \n",
       "4                     17023937  \n",
       "...                        ...  \n",
       "2440                  30249484  \n",
       "2441                1056728815  \n",
       "2443                   9445146  \n",
       "2445                  33032746  \n",
       "2447                 123398840  \n",
       "\n",
       "[2350 rows x 5 columns]"
      ]
     },
     "execution_count": 94,
     "metadata": {},
     "output_type": "execute_result"
    }
   ],
   "source": [
    "x"
   ]
  },
  {
   "cell_type": "code",
   "execution_count": 95,
   "metadata": {},
   "outputs": [
    {
     "data": {
      "text/plain": [
       "0       0\n",
       "1       0\n",
       "2       0\n",
       "3       0\n",
       "4       0\n",
       "       ..\n",
       "2440    6\n",
       "2441    6\n",
       "2443    6\n",
       "2445    6\n",
       "2447    6\n",
       "Name: Group, Length: 2350, dtype: int32"
      ]
     },
     "execution_count": 95,
     "metadata": {},
     "output_type": "execute_result"
    }
   ],
   "source": [
    "y"
   ]
  },
  {
   "cell_type": "code",
   "execution_count": 96,
   "metadata": {},
   "outputs": [
    {
     "data": {
      "text/plain": [
       "Index(['Sub_Group', 'Recovered', 'Stolen', 'Value_of_Property_Recovered',\n",
       "       'Value_of_Property_Stolen'],\n",
       "      dtype='object')"
      ]
     },
     "execution_count": 96,
     "metadata": {},
     "output_type": "execute_result"
    }
   ],
   "source": [
    "x.columns"
   ]
  },
  {
   "cell_type": "code",
   "execution_count": 97,
   "metadata": {},
   "outputs": [
    {
     "data": {
      "text/plain": [
       "Sub_Group                      0.034480\n",
       "Recovered                      3.037866\n",
       "Stolen                         2.948010\n",
       "Value_of_Property_Recovered    4.456582\n",
       "Value_of_Property_Stolen       4.566368\n",
       "dtype: float64"
      ]
     },
     "execution_count": 97,
     "metadata": {},
     "output_type": "execute_result"
    }
   ],
   "source": [
    "x.skew()"
   ]
  },
  {
   "cell_type": "markdown",
   "metadata": {},
   "source": [
    "as there is high skewness we shall perform power transform"
   ]
  },
  {
   "cell_type": "code",
   "execution_count": 98,
   "metadata": {},
   "outputs": [
    {
     "data": {
      "text/plain": [
       "array([[-0.37442626, -0.47212247, -0.54616632, -0.53690705, -0.86599291],\n",
       "       [-0.37442626,  1.52109643,  1.38326559,  0.96993994,  0.81168548],\n",
       "       [-0.37442626, -0.13035094, -0.03953424, -0.51434601, -0.51146347],\n",
       "       ...,\n",
       "       [ 1.44423418, -0.3434444 , -0.27463288, -0.36306625, -0.3083656 ],\n",
       "       [ 1.44423418,  0.29708162,  0.46833919,  0.06451544,  0.14472536],\n",
       "       [ 1.44423418,  0.97565938,  0.8641553 ,  0.92768731,  0.72533813]])"
      ]
     },
     "execution_count": 98,
     "metadata": {},
     "output_type": "execute_result"
    }
   ],
   "source": [
    "from sklearn.preprocessing import power_transform\n",
    "\n",
    "x=power_transform(x,method=\"yeo-johnson\")\n",
    "x"
   ]
  },
  {
   "cell_type": "markdown",
   "metadata": {},
   "source": [
    "# Model Building"
   ]
  },
  {
   "cell_type": "code",
   "execution_count": 99,
   "metadata": {},
   "outputs": [],
   "source": [
    "#data split\n",
    "\n",
    "from sklearn.model_selection import train_test_split\n",
    "from sklearn.model_selection import cross_val_score\n",
    "from sklearn.metrics import r2_score\n",
    "\n",
    "\n",
    "x_train,x_test,y_train,y_test=train_test_split(x,y,test_size=0.30,random_state=30)"
   ]
  },
  {
   "cell_type": "code",
   "execution_count": 100,
   "metadata": {},
   "outputs": [
    {
     "name": "stdout",
     "output_type": "stream",
     "text": [
      "for DecisionTreeClassifier() algorithm\n",
      "accuracy score is 100.0\n",
      "cross validation score is 100.0\n",
      "\n",
      "\n",
      "for KNeighborsClassifier() algorithm\n",
      "accuracy score is 98.01418439716312\n",
      "cross validation score is 98.17021276595744\n",
      "\n",
      "\n",
      "for SVC() algorithm\n",
      "accuracy score is 99.43262411347517\n",
      "cross validation score is 99.95744680851064\n",
      "\n",
      "\n",
      "for GaussianNB() algorithm\n",
      "accuracy score is 100.0\n",
      "cross validation score is 100.0\n",
      "\n",
      "\n"
     ]
    }
   ],
   "source": [
    "#using for loop to evaluate all classification algorithms\n",
    "\n",
    "from sklearn.svm import SVC\n",
    "from sklearn.tree import DecisionTreeClassifier\n",
    "from sklearn.neighbors import KNeighborsClassifier\n",
    "from sklearn.naive_bayes import GaussianNB\n",
    "from sklearn.metrics import accuracy_score\n",
    "\n",
    "models=[DecisionTreeClassifier(),KNeighborsClassifier(),SVC(),GaussianNB()]\n",
    "\n",
    "for i in models:\n",
    "    i.fit(x_train,y_train)\n",
    "    pred_y=i.predict(x_test)\n",
    "    print(\"for\",i,\"algorithm\")\n",
    "    print(f\"accuracy score is {accuracy_score(y_test,pred_y)*100}\")\n",
    "    cross_score=cross_val_score(i,x,y,cv=5).mean()*100\n",
    "    print(\"cross validation score is\",cross_score)\n",
    "    print('\\n')\n",
    "    \n"
   ]
  },
  {
   "cell_type": "markdown",
   "metadata": {},
   "source": [
    "#### KNN performs well let us hyper tune it and use for final model building"
   ]
  },
  {
   "cell_type": "markdown",
   "metadata": {},
   "source": [
    "# Hyper tuning"
   ]
  },
  {
   "cell_type": "markdown",
   "metadata": {},
   "source": [
    "# KNN"
   ]
  },
  {
   "cell_type": "code",
   "execution_count": 101,
   "metadata": {},
   "outputs": [
    {
     "name": "stdout",
     "output_type": "stream",
     "text": [
      "{'n_neighbors': 2, 'weights': 'distance'}\n"
     ]
    }
   ],
   "source": [
    "#checking the best parameters for knn\n",
    "from sklearn.neighbors import KNeighborsClassifier\n",
    "from sklearn.model_selection import GridSearchCV\n",
    "\n",
    "parameters={'n_neighbors':[2,3,5,6,7,8],'weights':['uniform','distance']}\n",
    "\n",
    "neigh=KNeighborsClassifier()\n",
    "clf=GridSearchCV(neigh,parameters)\n",
    "clf.fit(x_train,y_train)\n",
    "print(clf.best_params_)\n",
    "\n"
   ]
  },
  {
   "cell_type": "code",
   "execution_count": 102,
   "metadata": {},
   "outputs": [
    {
     "name": "stdout",
     "output_type": "stream",
     "text": [
      "accuracy score is 99.14893617021276\n",
      "cross validation score is 98.93617021276594\n",
      "0.9851182814742813\n"
     ]
    }
   ],
   "source": [
    "#using the best parameters\n",
    "\n",
    "kn=KNeighborsClassifier(n_neighbors=2,weights='distance')\n",
    "kn.fit(x_train,y_train)\n",
    "p=kn.predict(x_test)\n",
    "\n",
    "print(f\"accuracy score is {accuracy_score(y_test,p)*100}\")\n",
    "cross_score=cross_val_score(kn,x,y,cv=5).mean()*100\n",
    "print(\"cross validation score is\",cross_score)\n",
    "print(r2_score(y_test,p))"
   ]
  },
  {
   "cell_type": "markdown",
   "metadata": {},
   "source": [
    "# Saving the model"
   ]
  },
  {
   "cell_type": "markdown",
   "metadata": {},
   "source": [
    "#### using KNN model"
   ]
  },
  {
   "cell_type": "code",
   "execution_count": 103,
   "metadata": {},
   "outputs": [],
   "source": [
    "import pickle\n",
    "filename='crime-model.pkl'\n",
    "pickle.dump(kn,open(filename,'wb'))"
   ]
  },
  {
   "cell_type": "code",
   "execution_count": 104,
   "metadata": {},
   "outputs": [
    {
     "data": {
      "text/html": [
       "<div>\n",
       "<style scoped>\n",
       "    .dataframe tbody tr th:only-of-type {\n",
       "        vertical-align: middle;\n",
       "    }\n",
       "\n",
       "    .dataframe tbody tr th {\n",
       "        vertical-align: top;\n",
       "    }\n",
       "\n",
       "    .dataframe thead th {\n",
       "        text-align: right;\n",
       "    }\n",
       "</style>\n",
       "<table border=\"1\" class=\"dataframe\">\n",
       "  <thead>\n",
       "    <tr style=\"text-align: right;\">\n",
       "      <th></th>\n",
       "      <th>original</th>\n",
       "      <th>predicted</th>\n",
       "    </tr>\n",
       "  </thead>\n",
       "  <tbody>\n",
       "    <tr>\n",
       "      <th>0</th>\n",
       "      <td>5</td>\n",
       "      <td>5</td>\n",
       "    </tr>\n",
       "    <tr>\n",
       "      <th>1</th>\n",
       "      <td>5</td>\n",
       "      <td>5</td>\n",
       "    </tr>\n",
       "    <tr>\n",
       "      <th>2</th>\n",
       "      <td>5</td>\n",
       "      <td>5</td>\n",
       "    </tr>\n",
       "    <tr>\n",
       "      <th>3</th>\n",
       "      <td>0</td>\n",
       "      <td>0</td>\n",
       "    </tr>\n",
       "    <tr>\n",
       "      <th>4</th>\n",
       "      <td>5</td>\n",
       "      <td>5</td>\n",
       "    </tr>\n",
       "    <tr>\n",
       "      <th>...</th>\n",
       "      <td>...</td>\n",
       "      <td>...</td>\n",
       "    </tr>\n",
       "    <tr>\n",
       "      <th>700</th>\n",
       "      <td>5</td>\n",
       "      <td>5</td>\n",
       "    </tr>\n",
       "    <tr>\n",
       "      <th>701</th>\n",
       "      <td>5</td>\n",
       "      <td>5</td>\n",
       "    </tr>\n",
       "    <tr>\n",
       "      <th>702</th>\n",
       "      <td>2</td>\n",
       "      <td>2</td>\n",
       "    </tr>\n",
       "    <tr>\n",
       "      <th>703</th>\n",
       "      <td>2</td>\n",
       "      <td>2</td>\n",
       "    </tr>\n",
       "    <tr>\n",
       "      <th>704</th>\n",
       "      <td>4</td>\n",
       "      <td>4</td>\n",
       "    </tr>\n",
       "  </tbody>\n",
       "</table>\n",
       "<p>705 rows × 2 columns</p>\n",
       "</div>"
      ],
      "text/plain": [
       "     original  predicted\n",
       "0           5          5\n",
       "1           5          5\n",
       "2           5          5\n",
       "3           0          0\n",
       "4           5          5\n",
       "..        ...        ...\n",
       "700         5          5\n",
       "701         5          5\n",
       "702         2          2\n",
       "703         2          2\n",
       "704         4          4\n",
       "\n",
       "[705 rows x 2 columns]"
      ]
     },
     "execution_count": 104,
     "metadata": {},
     "output_type": "execute_result"
    }
   ],
   "source": [
    "\n",
    "import numpy as np\n",
    "a=np.array(y_test)\n",
    "\n",
    "predicted=np.array(kn.predict(x_test))\n",
    "\n",
    "df_com=pd.DataFrame({'original':a,'predicted':predicted})\n",
    "df_com\n"
   ]
  },
  {
   "cell_type": "markdown",
   "metadata": {},
   "source": [
    "#### Conclusion"
   ]
  },
  {
   "cell_type": "markdown",
   "metadata": {},
   "source": [
    "hence our model is predicting the values accurately.With the help of KNN classifier we achieve similar actual and predicted values"
   ]
  }
 ],
 "metadata": {
  "kernelspec": {
   "display_name": "Python 3",
   "language": "python",
   "name": "python3"
  },
  "language_info": {
   "codemirror_mode": {
    "name": "ipython",
    "version": 3
   },
   "file_extension": ".py",
   "mimetype": "text/x-python",
   "name": "python",
   "nbconvert_exporter": "python",
   "pygments_lexer": "ipython3",
   "version": "3.8.3"
  }
 },
 "nbformat": 4,
 "nbformat_minor": 4
}
