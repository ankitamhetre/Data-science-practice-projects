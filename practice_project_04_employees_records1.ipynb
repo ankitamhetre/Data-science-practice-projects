{
 "cells": [
  {
   "cell_type": "markdown",
   "metadata": {},
   "source": [
    "# Employees Records"
   ]
  },
  {
   "cell_type": "code",
   "execution_count": 5,
   "metadata": {},
   "outputs": [
    {
     "data": {
      "text/html": [
       "<div>\n",
       "<style scoped>\n",
       "    .dataframe tbody tr th:only-of-type {\n",
       "        vertical-align: middle;\n",
       "    }\n",
       "\n",
       "    .dataframe tbody tr th {\n",
       "        vertical-align: top;\n",
       "    }\n",
       "\n",
       "    .dataframe thead th {\n",
       "        text-align: right;\n",
       "    }\n",
       "</style>\n",
       "<table border=\"1\" class=\"dataframe\">\n",
       "  <thead>\n",
       "    <tr style=\"text-align: right;\">\n",
       "      <th></th>\n",
       "      <th>Emp ID</th>\n",
       "      <th>Name Prefix</th>\n",
       "      <th>First Name</th>\n",
       "      <th>Middle Initial</th>\n",
       "      <th>Last Name</th>\n",
       "      <th>Gender</th>\n",
       "      <th>E Mail</th>\n",
       "      <th>Father's Name</th>\n",
       "      <th>Mother's Name</th>\n",
       "      <th>Mother's Maiden Name</th>\n",
       "      <th>...</th>\n",
       "      <th>SSN</th>\n",
       "      <th>Phone No.</th>\n",
       "      <th>Place Name</th>\n",
       "      <th>County</th>\n",
       "      <th>City</th>\n",
       "      <th>State</th>\n",
       "      <th>Zip</th>\n",
       "      <th>Region</th>\n",
       "      <th>User Name</th>\n",
       "      <th>Password</th>\n",
       "    </tr>\n",
       "  </thead>\n",
       "  <tbody>\n",
       "    <tr>\n",
       "      <th>0</th>\n",
       "      <td>850297</td>\n",
       "      <td>Ms.</td>\n",
       "      <td>Shawna</td>\n",
       "      <td>W</td>\n",
       "      <td>Buck</td>\n",
       "      <td>F</td>\n",
       "      <td>shawna.buck@gmail.com</td>\n",
       "      <td>Rosario Buck</td>\n",
       "      <td>Keisha Buck</td>\n",
       "      <td>Hendricks</td>\n",
       "      <td>...</td>\n",
       "      <td>222-11-7603</td>\n",
       "      <td>702-771-7149</td>\n",
       "      <td>Las Vegas</td>\n",
       "      <td>Clark</td>\n",
       "      <td>Las Vegas</td>\n",
       "      <td>NV</td>\n",
       "      <td>89128</td>\n",
       "      <td>West</td>\n",
       "      <td>swbuck</td>\n",
       "      <td>ja8?k3BTF^]o@&lt;&amp;</td>\n",
       "    </tr>\n",
       "    <tr>\n",
       "      <th>1</th>\n",
       "      <td>304721</td>\n",
       "      <td>Mr.</td>\n",
       "      <td>Nathaniel</td>\n",
       "      <td>Z</td>\n",
       "      <td>Burke</td>\n",
       "      <td>M</td>\n",
       "      <td>nathaniel.burke@walmart.com</td>\n",
       "      <td>Derrick Burke</td>\n",
       "      <td>Phoebe Burke</td>\n",
       "      <td>Pugh</td>\n",
       "      <td>...</td>\n",
       "      <td>550-99-9897</td>\n",
       "      <td>231-765-6923</td>\n",
       "      <td>Irons</td>\n",
       "      <td>Lake</td>\n",
       "      <td>Irons</td>\n",
       "      <td>MI</td>\n",
       "      <td>49644</td>\n",
       "      <td>Midwest</td>\n",
       "      <td>nzburke</td>\n",
       "      <td>tPA@4Wh9Ja$+Ln</td>\n",
       "    </tr>\n",
       "    <tr>\n",
       "      <th>2</th>\n",
       "      <td>412317</td>\n",
       "      <td>Drs.</td>\n",
       "      <td>Elisabeth</td>\n",
       "      <td>W</td>\n",
       "      <td>Foster</td>\n",
       "      <td>F</td>\n",
       "      <td>elisabeth.foster@gmail.com</td>\n",
       "      <td>Irwin Foster</td>\n",
       "      <td>Janie Foster</td>\n",
       "      <td>Delaney</td>\n",
       "      <td>...</td>\n",
       "      <td>215-91-0004</td>\n",
       "      <td>270-749-4774</td>\n",
       "      <td>Lexington</td>\n",
       "      <td>Fayette</td>\n",
       "      <td>Lexington</td>\n",
       "      <td>KY</td>\n",
       "      <td>40501</td>\n",
       "      <td>South</td>\n",
       "      <td>ewfoster</td>\n",
       "      <td>5D.B4IGNkWJfG&lt;~</td>\n",
       "    </tr>\n",
       "    <tr>\n",
       "      <th>3</th>\n",
       "      <td>621375</td>\n",
       "      <td>Mrs.</td>\n",
       "      <td>Briana</td>\n",
       "      <td>C</td>\n",
       "      <td>Lancaster</td>\n",
       "      <td>F</td>\n",
       "      <td>briana.lancaster@yahoo.com</td>\n",
       "      <td>Jeffrey Lancaster</td>\n",
       "      <td>Shelby Lancaster</td>\n",
       "      <td>Weiss</td>\n",
       "      <td>...</td>\n",
       "      <td>534-71-1053</td>\n",
       "      <td>219-623-8216</td>\n",
       "      <td>Munster</td>\n",
       "      <td>Lake</td>\n",
       "      <td>Munster</td>\n",
       "      <td>IN</td>\n",
       "      <td>46321</td>\n",
       "      <td>Midwest</td>\n",
       "      <td>bclancaster</td>\n",
       "      <td>I%?JDM;pW</td>\n",
       "    </tr>\n",
       "    <tr>\n",
       "      <th>4</th>\n",
       "      <td>787549</td>\n",
       "      <td>Hon.</td>\n",
       "      <td>Estella</td>\n",
       "      <td>L</td>\n",
       "      <td>Potter</td>\n",
       "      <td>F</td>\n",
       "      <td>estella.potter@gmail.com</td>\n",
       "      <td>Booker Potter</td>\n",
       "      <td>Katelyn Potter</td>\n",
       "      <td>Pate</td>\n",
       "      <td>...</td>\n",
       "      <td>644-29-6396</td>\n",
       "      <td>907-677-8486</td>\n",
       "      <td>Fairbanks</td>\n",
       "      <td>Fairbanks North Star</td>\n",
       "      <td>Fairbanks</td>\n",
       "      <td>AK</td>\n",
       "      <td>99709</td>\n",
       "      <td>West</td>\n",
       "      <td>elpotter</td>\n",
       "      <td>j4jkEXfC&amp;Rh</td>\n",
       "    </tr>\n",
       "  </tbody>\n",
       "</table>\n",
       "<p>5 rows × 37 columns</p>\n",
       "</div>"
      ],
      "text/plain": [
       "   Emp ID Name Prefix First Name Middle Initial  Last Name Gender  \\\n",
       "0  850297         Ms.     Shawna              W       Buck      F   \n",
       "1  304721         Mr.  Nathaniel              Z      Burke      M   \n",
       "2  412317        Drs.  Elisabeth              W     Foster      F   \n",
       "3  621375        Mrs.     Briana              C  Lancaster      F   \n",
       "4  787549        Hon.    Estella              L     Potter      F   \n",
       "\n",
       "                        E Mail      Father's Name     Mother's Name  \\\n",
       "0        shawna.buck@gmail.com       Rosario Buck       Keisha Buck   \n",
       "1  nathaniel.burke@walmart.com      Derrick Burke      Phoebe Burke   \n",
       "2   elisabeth.foster@gmail.com       Irwin Foster      Janie Foster   \n",
       "3   briana.lancaster@yahoo.com  Jeffrey Lancaster  Shelby Lancaster   \n",
       "4     estella.potter@gmail.com      Booker Potter    Katelyn Potter   \n",
       "\n",
       "  Mother's Maiden Name  ...          SSN    Phone No.   Place Name  \\\n",
       "0            Hendricks  ...  222-11-7603  702-771-7149   Las Vegas   \n",
       "1                 Pugh  ...  550-99-9897  231-765-6923       Irons   \n",
       "2              Delaney  ...  215-91-0004  270-749-4774   Lexington   \n",
       "3                Weiss  ...  534-71-1053  219-623-8216     Munster   \n",
       "4                 Pate  ...  644-29-6396  907-677-8486   Fairbanks   \n",
       "\n",
       "                 County       City State    Zip   Region    User Name  \\\n",
       "0                 Clark  Las Vegas    NV  89128     West       swbuck   \n",
       "1                  Lake      Irons    MI  49644  Midwest      nzburke   \n",
       "2               Fayette  Lexington    KY  40501    South     ewfoster   \n",
       "3                  Lake    Munster    IN  46321  Midwest  bclancaster   \n",
       "4  Fairbanks North Star  Fairbanks    AK  99709     West     elpotter   \n",
       "\n",
       "          Password  \n",
       "0  ja8?k3BTF^]o@<&  \n",
       "1   tPA@4Wh9Ja$+Ln  \n",
       "2  5D.B4IGNkWJfG<~  \n",
       "3        I%?JDM;pW  \n",
       "4      j4jkEXfC&Rh  \n",
       "\n",
       "[5 rows x 37 columns]"
      ]
     },
     "execution_count": 5,
     "metadata": {},
     "output_type": "execute_result"
    }
   ],
   "source": [
    "import pandas as pd\n",
    "df=pd.read_csv('employees_1000_records.csv')\n",
    "df.head()"
   ]
  },
  {
   "cell_type": "code",
   "execution_count": 6,
   "metadata": {},
   "outputs": [
    {
     "data": {
      "text/plain": [
       "Index(['Emp ID', 'Name Prefix', 'First Name', 'Middle Initial', 'Last Name',\n",
       "       'Gender', 'E Mail', 'Father's Name', 'Mother's Name',\n",
       "       'Mother's Maiden Name', 'Date of Birth', 'Time of Birth', 'Age in Yrs.',\n",
       "       'Weight in Kgs.', 'Date of Joining', 'Quarter of Joining',\n",
       "       'Half of Joining', 'Year of Joining', 'Month of Joining',\n",
       "       'Month Name of Joining', 'Short Month', 'Day of Joining',\n",
       "       'DOW of Joining', 'Short DOW', 'Age in Company (Years)', 'Salary',\n",
       "       'Last % Hike', 'SSN', 'Phone No. ', 'Place Name', 'County', 'City',\n",
       "       'State', 'Zip', 'Region', 'User Name', 'Password'],\n",
       "      dtype='object')"
      ]
     },
     "execution_count": 6,
     "metadata": {},
     "output_type": "execute_result"
    }
   ],
   "source": [
    "df.columns"
   ]
  },
  {
   "cell_type": "code",
   "execution_count": 7,
   "metadata": {},
   "outputs": [
    {
     "data": {
      "text/plain": [
       "(1000, 37)"
      ]
     },
     "execution_count": 7,
     "metadata": {},
     "output_type": "execute_result"
    }
   ],
   "source": [
    "df.shape"
   ]
  },
  {
   "cell_type": "code",
   "execution_count": 8,
   "metadata": {},
   "outputs": [
    {
     "data": {
      "text/plain": [
       "Emp ID                    0\n",
       "Name Prefix               0\n",
       "First Name                0\n",
       "Middle Initial            0\n",
       "Last Name                 0\n",
       "Gender                    0\n",
       "E Mail                    0\n",
       "Father's Name             0\n",
       "Mother's Name             0\n",
       "Mother's Maiden Name      0\n",
       "Date of Birth             0\n",
       "Time of Birth             0\n",
       "Age in Yrs.               0\n",
       "Weight in Kgs.            0\n",
       "Date of Joining           0\n",
       "Quarter of Joining        0\n",
       "Half of Joining           0\n",
       "Year of Joining           0\n",
       "Month of Joining          0\n",
       "Month Name of Joining     0\n",
       "Short Month               0\n",
       "Day of Joining            0\n",
       "DOW of Joining            0\n",
       "Short DOW                 0\n",
       "Age in Company (Years)    0\n",
       "Salary                    0\n",
       "Last % Hike               0\n",
       "SSN                       0\n",
       "Phone No.                 0\n",
       "Place Name                0\n",
       "County                    0\n",
       "City                      0\n",
       "State                     0\n",
       "Zip                       0\n",
       "Region                    0\n",
       "User Name                 0\n",
       "Password                  0\n",
       "dtype: int64"
      ]
     },
     "execution_count": 8,
     "metadata": {},
     "output_type": "execute_result"
    }
   ],
   "source": [
    "df.isnull().sum()"
   ]
  },
  {
   "cell_type": "markdown",
   "metadata": {},
   "source": [
    "# EDA"
   ]
  },
  {
   "cell_type": "code",
   "execution_count": 9,
   "metadata": {},
   "outputs": [
    {
     "data": {
      "text/plain": [
       "array(['Ms.', 'Mr.', 'Drs.', 'Mrs.', 'Hon.', 'Prof.', 'Dr.'], dtype=object)"
      ]
     },
     "execution_count": 9,
     "metadata": {},
     "output_type": "execute_result"
    }
   ],
   "source": [
    "df['Name Prefix'].unique()"
   ]
  },
  {
   "cell_type": "code",
   "execution_count": 10,
   "metadata": {},
   "outputs": [],
   "source": [
    "import matplotlib.pyplot as plt\n",
    "import seaborn as sns\n",
    "import warnings\n",
    "warnings.filterwarnings('ignore')"
   ]
  },
  {
   "cell_type": "code",
   "execution_count": 11,
   "metadata": {},
   "outputs": [
    {
     "data": {
      "text/plain": [
       "Mr.      347\n",
       "Ms.      227\n",
       "Mrs.     161\n",
       "Hon.      89\n",
       "Dr.       64\n",
       "Drs.      58\n",
       "Prof.     54\n",
       "Name: Name Prefix, dtype: int64"
      ]
     },
     "execution_count": 11,
     "metadata": {},
     "output_type": "execute_result"
    }
   ],
   "source": [
    "df['Name Prefix'].value_counts()"
   ]
  },
  {
   "cell_type": "code",
   "execution_count": null,
   "metadata": {},
   "outputs": [],
   "source": []
  },
  {
   "cell_type": "code",
   "execution_count": 12,
   "metadata": {},
   "outputs": [
    {
     "data": {
      "image/png": "[encoded data removed]",
      "text/plain": [
       "<Figure size 432x288 with 1 Axes>"
      ]
     },
     "metadata": {
      "needs_background": "light"
     },
     "output_type": "display_data"
    }
   ],
   "source": [
    "#seeing the prefix counts \n",
    "sns.countplot(df['Name Prefix'])\n",
    "plt.show()"
   ]
  },
  {
   "cell_type": "markdown",
   "metadata": {},
   "source": [
    "#### observations"
   ]
  },
  {
   "cell_type": "markdown",
   "metadata": {},
   "source": [
    "\n",
    "Mr.      347\n",
    "\n",
    "Ms.      227\n",
    "\n",
    "Mrs.     161\n",
    "\n",
    "Hon.      89\n",
    "\n",
    "Dr.       64\n",
    "\n",
    "Drs.      58\n",
    "\n",
    "Prof.     54\n",
    "\n",
    "among all the employees most of the employees have prefix Mr.(347)folowed by Ms.(227)\n",
    "\n",
    "161 female employees are married\n",
    "\n",
    "There are 64 employees who are Dr.\n"
   ]
  },
  {
   "cell_type": "code",
   "execution_count": 13,
   "metadata": {},
   "outputs": [
    {
     "data": {
      "text/plain": [
       "Jefferson      15\n",
       "Montgomery     12\n",
       "Los Angeles    11\n",
       "Franklin        9\n",
       "Jackson         9\n",
       "               ..\n",
       "Hampden         1\n",
       "Wabaunsee       1\n",
       "Audubon         1\n",
       "Arapahoe        1\n",
       "Beckham         1\n",
       "Name: County, Length: 582, dtype: int64"
      ]
     },
     "execution_count": 13,
     "metadata": {},
     "output_type": "execute_result"
    }
   ],
   "source": [
    "df['County'].value_counts()"
   ]
  },
  {
   "cell_type": "code",
   "execution_count": 14,
   "metadata": {},
   "outputs": [
    {
     "data": {
      "text/plain": [
       "M    509\n",
       "F    491\n",
       "Name: Gender, dtype: int64"
      ]
     },
     "execution_count": 14,
     "metadata": {},
     "output_type": "execute_result"
    }
   ],
   "source": [
    "df['Gender'].value_counts()"
   ]
  },
  {
   "cell_type": "code",
   "execution_count": 15,
   "metadata": {},
   "outputs": [
    {
     "data": {
      "image/png": "[encoded data removed]",
      "text/plain": [
       "<Figure size 432x288 with 1 Axes>"
      ]
     },
     "metadata": {
      "needs_background": "light"
     },
     "output_type": "display_data"
    }
   ],
   "source": [
    "#plotting the gender plot\n",
    "sns.countplot(df['Gender'])\n",
    "plt.show()"
   ]
  },
  {
   "cell_type": "markdown",
   "metadata": {},
   "source": [
    "#### Observations"
   ]
  },
  {
   "cell_type": "markdown",
   "metadata": {},
   "source": [
    "There are 509 males and 491 females"
   ]
  },
  {
   "cell_type": "code",
   "execution_count": 16,
   "metadata": {},
   "outputs": [
    {
     "data": {
      "text/plain": [
       "<matplotlib.axes._subplots.AxesSubplot at 0x171bea7f970>"
      ]
     },
     "execution_count": 16,
     "metadata": {},
     "output_type": "execute_result"
    },
    {
     "data": {
      "image/png": "[encoded data removed]",
      "text/plain": [
       "<Figure size 432x288 with 1 Axes>"
      ]
     },
     "metadata": {
      "needs_background": "light"
     },
     "output_type": "display_data"
    }
   ],
   "source": [
    "#checking the distribution of age\n",
    "sns.distplot(df['Age in Yrs.'])"
   ]
  },
  {
   "cell_type": "markdown",
   "metadata": {},
   "source": [
    "#### we can see that most of the employees age lies approximately between 22 to 96"
   ]
  },
  {
   "cell_type": "code",
   "execution_count": 17,
   "metadata": {},
   "outputs": [
    {
     "data": {
      "text/plain": [
       "<matplotlib.axes._subplots.AxesSubplot at 0x171beaaddf0>"
      ]
     },
     "execution_count": 17,
     "metadata": {},
     "output_type": "execute_result"
    },
    {
     "data": {
      "image/png": "[encoded data removed]",
      "text/plain": [
       "<Figure size 432x288 with 1 Axes>"
      ]
     },
     "metadata": {
      "needs_background": "light"
     },
     "output_type": "display_data"
    }
   ],
   "source": [
    "sns.distplot(df['Weight in Kgs.'])"
   ]
  },
  {
   "cell_type": "markdown",
   "metadata": {},
   "source": [
    "#### The weight of employees lie between 40 to 90 kgs"
   ]
  },
  {
   "cell_type": "code",
   "execution_count": 18,
   "metadata": {},
   "outputs": [
    {
     "data": {
      "text/html": [
       "<div>\n",
       "<style scoped>\n",
       "    .dataframe tbody tr th:only-of-type {\n",
       "        vertical-align: middle;\n",
       "    }\n",
       "\n",
       "    .dataframe tbody tr th {\n",
       "        vertical-align: top;\n",
       "    }\n",
       "\n",
       "    .dataframe thead th {\n",
       "        text-align: right;\n",
       "    }\n",
       "</style>\n",
       "<table border=\"1\" class=\"dataframe\">\n",
       "  <thead>\n",
       "    <tr style=\"text-align: right;\">\n",
       "      <th></th>\n",
       "      <th>Emp ID</th>\n",
       "      <th>Age in Yrs.</th>\n",
       "      <th>Weight in Kgs.</th>\n",
       "      <th>Year of Joining</th>\n",
       "      <th>Month of Joining</th>\n",
       "      <th>Day of Joining</th>\n",
       "      <th>Age in Company (Years)</th>\n",
       "      <th>Salary</th>\n",
       "      <th>Zip</th>\n",
       "    </tr>\n",
       "  </thead>\n",
       "  <tbody>\n",
       "    <tr>\n",
       "      <th>count</th>\n",
       "      <td>1000.000000</td>\n",
       "      <td>1000.000000</td>\n",
       "      <td>1000.000000</td>\n",
       "      <td>1000.000000</td>\n",
       "      <td>1000.000000</td>\n",
       "      <td>1000.000000</td>\n",
       "      <td>1000.000000</td>\n",
       "      <td>1000.000000</td>\n",
       "      <td>1000.000000</td>\n",
       "    </tr>\n",
       "    <tr>\n",
       "      <th>mean</th>\n",
       "      <td>549097.583000</td>\n",
       "      <td>40.377250</td>\n",
       "      <td>59.409000</td>\n",
       "      <td>2006.992000</td>\n",
       "      <td>6.415000</td>\n",
       "      <td>16.481000</td>\n",
       "      <td>10.093720</td>\n",
       "      <td>120288.528000</td>\n",
       "      <td>48698.499000</td>\n",
       "    </tr>\n",
       "    <tr>\n",
       "      <th>std</th>\n",
       "      <td>264810.879315</td>\n",
       "      <td>11.107729</td>\n",
       "      <td>13.900322</td>\n",
       "      <td>8.565588</td>\n",
       "      <td>3.428488</td>\n",
       "      <td>8.831514</td>\n",
       "      <td>8.568863</td>\n",
       "      <td>45178.339916</td>\n",
       "      <td>27396.021481</td>\n",
       "    </tr>\n",
       "    <tr>\n",
       "      <th>min</th>\n",
       "      <td>114425.000000</td>\n",
       "      <td>21.040000</td>\n",
       "      <td>40.000000</td>\n",
       "      <td>1980.000000</td>\n",
       "      <td>1.000000</td>\n",
       "      <td>1.000000</td>\n",
       "      <td>0.000000</td>\n",
       "      <td>40040.000000</td>\n",
       "      <td>1002.000000</td>\n",
       "    </tr>\n",
       "    <tr>\n",
       "      <th>25%</th>\n",
       "      <td>307757.000000</td>\n",
       "      <td>30.925000</td>\n",
       "      <td>49.000000</td>\n",
       "      <td>2002.000000</td>\n",
       "      <td>4.000000</td>\n",
       "      <td>9.000000</td>\n",
       "      <td>3.152500</td>\n",
       "      <td>82122.000000</td>\n",
       "      <td>25421.750000</td>\n",
       "    </tr>\n",
       "    <tr>\n",
       "      <th>50%</th>\n",
       "      <td>543073.000000</td>\n",
       "      <td>40.730000</td>\n",
       "      <td>57.000000</td>\n",
       "      <td>2009.000000</td>\n",
       "      <td>6.000000</td>\n",
       "      <td>17.000000</td>\n",
       "      <td>7.815000</td>\n",
       "      <td>119409.000000</td>\n",
       "      <td>47416.500000</td>\n",
       "    </tr>\n",
       "    <tr>\n",
       "      <th>75%</th>\n",
       "      <td>788450.250000</td>\n",
       "      <td>49.852500</td>\n",
       "      <td>68.000000</td>\n",
       "      <td>2014.000000</td>\n",
       "      <td>10.000000</td>\n",
       "      <td>24.000000</td>\n",
       "      <td>15.465000</td>\n",
       "      <td>159109.000000</td>\n",
       "      <td>71101.000000</td>\n",
       "    </tr>\n",
       "    <tr>\n",
       "      <th>max</th>\n",
       "      <td>999475.000000</td>\n",
       "      <td>59.980000</td>\n",
       "      <td>90.000000</td>\n",
       "      <td>2017.000000</td>\n",
       "      <td>12.000000</td>\n",
       "      <td>31.000000</td>\n",
       "      <td>37.570000</td>\n",
       "      <td>199943.000000</td>\n",
       "      <td>99791.000000</td>\n",
       "    </tr>\n",
       "  </tbody>\n",
       "</table>\n",
       "</div>"
      ],
      "text/plain": [
       "              Emp ID  Age in Yrs.  Weight in Kgs.  Year of Joining  \\\n",
       "count    1000.000000  1000.000000     1000.000000      1000.000000   \n",
       "mean   549097.583000    40.377250       59.409000      2006.992000   \n",
       "std    264810.879315    11.107729       13.900322         8.565588   \n",
       "min    114425.000000    21.040000       40.000000      1980.000000   \n",
       "25%    307757.000000    30.925000       49.000000      2002.000000   \n",
       "50%    543073.000000    40.730000       57.000000      2009.000000   \n",
       "75%    788450.250000    49.852500       68.000000      2014.000000   \n",
       "max    999475.000000    59.980000       90.000000      2017.000000   \n",
       "\n",
       "       Month of Joining  Day of Joining  Age in Company (Years)  \\\n",
       "count       1000.000000     1000.000000             1000.000000   \n",
       "mean           6.415000       16.481000               10.093720   \n",
       "std            3.428488        8.831514                8.568863   \n",
       "min            1.000000        1.000000                0.000000   \n",
       "25%            4.000000        9.000000                3.152500   \n",
       "50%            6.000000       17.000000                7.815000   \n",
       "75%           10.000000       24.000000               15.465000   \n",
       "max           12.000000       31.000000               37.570000   \n",
       "\n",
       "              Salary           Zip  \n",
       "count    1000.000000   1000.000000  \n",
       "mean   120288.528000  48698.499000  \n",
       "std     45178.339916  27396.021481  \n",
       "min     40040.000000   1002.000000  \n",
       "25%     82122.000000  25421.750000  \n",
       "50%    119409.000000  47416.500000  \n",
       "75%    159109.000000  71101.000000  \n",
       "max    199943.000000  99791.000000  "
      ]
     },
     "execution_count": 18,
     "metadata": {},
     "output_type": "execute_result"
    }
   ],
   "source": [
    "df.describe()"
   ]
  },
  {
   "cell_type": "markdown",
   "metadata": {},
   "source": [
    "#### observations"
   ]
  },
  {
   "cell_type": "markdown",
   "metadata": {},
   "source": [
    "There is no much difference between the mean and median(50th%) of the data"
   ]
  },
  {
   "cell_type": "code",
   "execution_count": 19,
   "metadata": {},
   "outputs": [
    {
     "data": {
      "text/html": [
       "<div>\n",
       "<style scoped>\n",
       "    .dataframe tbody tr th:only-of-type {\n",
       "        vertical-align: middle;\n",
       "    }\n",
       "\n",
       "    .dataframe tbody tr th {\n",
       "        vertical-align: top;\n",
       "    }\n",
       "\n",
       "    .dataframe thead th {\n",
       "        text-align: right;\n",
       "    }\n",
       "</style>\n",
       "<table border=\"1\" class=\"dataframe\">\n",
       "  <thead>\n",
       "    <tr style=\"text-align: right;\">\n",
       "      <th></th>\n",
       "      <th>Emp ID</th>\n",
       "      <th>Age in Yrs.</th>\n",
       "      <th>Weight in Kgs.</th>\n",
       "      <th>Year of Joining</th>\n",
       "      <th>Month of Joining</th>\n",
       "      <th>Day of Joining</th>\n",
       "      <th>Age in Company (Years)</th>\n",
       "      <th>Salary</th>\n",
       "      <th>Zip</th>\n",
       "    </tr>\n",
       "  </thead>\n",
       "  <tbody>\n",
       "    <tr>\n",
       "      <th>Emp ID</th>\n",
       "      <td>1.000000</td>\n",
       "      <td>-0.028516</td>\n",
       "      <td>0.028175</td>\n",
       "      <td>0.039009</td>\n",
       "      <td>0.000999</td>\n",
       "      <td>0.006178</td>\n",
       "      <td>-0.039064</td>\n",
       "      <td>-0.027248</td>\n",
       "      <td>0.020033</td>\n",
       "    </tr>\n",
       "    <tr>\n",
       "      <th>Age in Yrs.</th>\n",
       "      <td>-0.028516</td>\n",
       "      <td>1.000000</td>\n",
       "      <td>-0.065656</td>\n",
       "      <td>-0.676875</td>\n",
       "      <td>0.022617</td>\n",
       "      <td>-0.026387</td>\n",
       "      <td>0.676408</td>\n",
       "      <td>0.041422</td>\n",
       "      <td>-0.017266</td>\n",
       "    </tr>\n",
       "    <tr>\n",
       "      <th>Weight in Kgs.</th>\n",
       "      <td>0.028175</td>\n",
       "      <td>-0.065656</td>\n",
       "      <td>1.000000</td>\n",
       "      <td>0.058794</td>\n",
       "      <td>0.003933</td>\n",
       "      <td>-0.038591</td>\n",
       "      <td>-0.058846</td>\n",
       "      <td>0.061088</td>\n",
       "      <td>-0.021019</td>\n",
       "    </tr>\n",
       "    <tr>\n",
       "      <th>Year of Joining</th>\n",
       "      <td>0.039009</td>\n",
       "      <td>-0.676875</td>\n",
       "      <td>0.058794</td>\n",
       "      <td>1.000000</td>\n",
       "      <td>-0.029644</td>\n",
       "      <td>0.040820</td>\n",
       "      <td>-0.999435</td>\n",
       "      <td>-0.053501</td>\n",
       "      <td>0.027221</td>\n",
       "    </tr>\n",
       "    <tr>\n",
       "      <th>Month of Joining</th>\n",
       "      <td>0.000999</td>\n",
       "      <td>0.022617</td>\n",
       "      <td>0.003933</td>\n",
       "      <td>-0.029644</td>\n",
       "      <td>1.000000</td>\n",
       "      <td>0.046362</td>\n",
       "      <td>-0.003848</td>\n",
       "      <td>-0.019298</td>\n",
       "      <td>-0.028749</td>\n",
       "    </tr>\n",
       "    <tr>\n",
       "      <th>Day of Joining</th>\n",
       "      <td>0.006178</td>\n",
       "      <td>-0.026387</td>\n",
       "      <td>-0.038591</td>\n",
       "      <td>0.040820</td>\n",
       "      <td>0.046362</td>\n",
       "      <td>1.000000</td>\n",
       "      <td>-0.045185</td>\n",
       "      <td>-0.018947</td>\n",
       "      <td>0.028209</td>\n",
       "    </tr>\n",
       "    <tr>\n",
       "      <th>Age in Company (Years)</th>\n",
       "      <td>-0.039064</td>\n",
       "      <td>0.676408</td>\n",
       "      <td>-0.058846</td>\n",
       "      <td>-0.999435</td>\n",
       "      <td>-0.003848</td>\n",
       "      <td>-0.045185</td>\n",
       "      <td>1.000000</td>\n",
       "      <td>0.054212</td>\n",
       "      <td>-0.026359</td>\n",
       "    </tr>\n",
       "    <tr>\n",
       "      <th>Salary</th>\n",
       "      <td>-0.027248</td>\n",
       "      <td>0.041422</td>\n",
       "      <td>0.061088</td>\n",
       "      <td>-0.053501</td>\n",
       "      <td>-0.019298</td>\n",
       "      <td>-0.018947</td>\n",
       "      <td>0.054212</td>\n",
       "      <td>1.000000</td>\n",
       "      <td>0.007518</td>\n",
       "    </tr>\n",
       "    <tr>\n",
       "      <th>Zip</th>\n",
       "      <td>0.020033</td>\n",
       "      <td>-0.017266</td>\n",
       "      <td>-0.021019</td>\n",
       "      <td>0.027221</td>\n",
       "      <td>-0.028749</td>\n",
       "      <td>0.028209</td>\n",
       "      <td>-0.026359</td>\n",
       "      <td>0.007518</td>\n",
       "      <td>1.000000</td>\n",
       "    </tr>\n",
       "  </tbody>\n",
       "</table>\n",
       "</div>"
      ],
      "text/plain": [
       "                          Emp ID  Age in Yrs.  Weight in Kgs.  \\\n",
       "Emp ID                  1.000000    -0.028516        0.028175   \n",
       "Age in Yrs.            -0.028516     1.000000       -0.065656   \n",
       "Weight in Kgs.          0.028175    -0.065656        1.000000   \n",
       "Year of Joining         0.039009    -0.676875        0.058794   \n",
       "Month of Joining        0.000999     0.022617        0.003933   \n",
       "Day of Joining          0.006178    -0.026387       -0.038591   \n",
       "Age in Company (Years) -0.039064     0.676408       -0.058846   \n",
       "Salary                 -0.027248     0.041422        0.061088   \n",
       "Zip                     0.020033    -0.017266       -0.021019   \n",
       "\n",
       "                        Year of Joining  Month of Joining  Day of Joining  \\\n",
       "Emp ID                         0.039009          0.000999        0.006178   \n",
       "Age in Yrs.                   -0.676875          0.022617       -0.026387   \n",
       "Weight in Kgs.                 0.058794          0.003933       -0.038591   \n",
       "Year of Joining                1.000000         -0.029644        0.040820   \n",
       "Month of Joining              -0.029644          1.000000        0.046362   \n",
       "Day of Joining                 0.040820          0.046362        1.000000   \n",
       "Age in Company (Years)        -0.999435         -0.003848       -0.045185   \n",
       "Salary                        -0.053501         -0.019298       -0.018947   \n",
       "Zip                            0.027221         -0.028749        0.028209   \n",
       "\n",
       "                        Age in Company (Years)    Salary       Zip  \n",
       "Emp ID                               -0.039064 -0.027248  0.020033  \n",
       "Age in Yrs.                           0.676408  0.041422 -0.017266  \n",
       "Weight in Kgs.                       -0.058846  0.061088 -0.021019  \n",
       "Year of Joining                      -0.999435 -0.053501  0.027221  \n",
       "Month of Joining                     -0.003848 -0.019298 -0.028749  \n",
       "Day of Joining                       -0.045185 -0.018947  0.028209  \n",
       "Age in Company (Years)                1.000000  0.054212 -0.026359  \n",
       "Salary                                0.054212  1.000000  0.007518  \n",
       "Zip                                  -0.026359  0.007518  1.000000  "
      ]
     },
     "execution_count": 19,
     "metadata": {},
     "output_type": "execute_result"
    }
   ],
   "source": [
    "df.corr()"
   ]
  },
  {
   "cell_type": "code",
   "execution_count": 20,
   "metadata": {},
   "outputs": [
    {
     "data": {
      "text/plain": [
       "<matplotlib.axes._subplots.AxesSubplot at 0x171beb88df0>"
      ]
     },
     "execution_count": 20,
     "metadata": {},
     "output_type": "execute_result"
    },
    {
     "data": {
      "image/png": "[encoded data removed]",
      "text/plain": [
       "<Figure size 432x288 with 1 Axes>"
      ]
     },
     "metadata": {
      "needs_background": "light"
     },
     "output_type": "display_data"
    }
   ],
   "source": [
    "#seeing the relationship between doj and salary\n",
    "sns.scatterplot(x='Year of Joining',y='Salary',data=df)"
   ]
  },
  {
   "cell_type": "markdown",
   "metadata": {},
   "source": [
    "#### we can see that the employees that joined from year 2005 to 2015 have highest density of salaries"
   ]
  },
  {
   "cell_type": "code",
   "execution_count": 21,
   "metadata": {},
   "outputs": [
    {
     "data": {
      "text/plain": [
       "<matplotlib.axes._subplots.AxesSubplot at 0x171bec09160>"
      ]
     },
     "execution_count": 21,
     "metadata": {},
     "output_type": "execute_result"
    },
    {
     "data": {
      "image/png": "[encoded data removed]",
      "text/plain": [
       "<Figure size 432x288 with 1 Axes>"
      ]
     },
     "metadata": {
      "needs_background": "light"
     },
     "output_type": "display_data"
    }
   ],
   "source": [
    "#seeing the relationship between exp and salary\n",
    "sns.scatterplot(x='Age in Company (Years)',y='Salary',data=df)"
   ]
  },
  {
   "cell_type": "markdown",
   "metadata": {},
   "source": [
    "#### employees who have spent 0 to 10 years in company have high density of salaries"
   ]
  },
  {
   "cell_type": "code",
   "execution_count": 22,
   "metadata": {},
   "outputs": [
    {
     "data": {
      "text/plain": [
       "0.054212038192536914"
      ]
     },
     "execution_count": 22,
     "metadata": {},
     "output_type": "execute_result"
    }
   ],
   "source": [
    "#seeing the relationship between doj and salary\n",
    "df['Age in Company (Years)'].corr(df['Salary'])"
   ]
  },
  {
   "cell_type": "markdown",
   "metadata": {},
   "source": [
    "#### Thus there is a positive correlation between age in company and salary"
   ]
  },
  {
   "cell_type": "code",
   "execution_count": 23,
   "metadata": {},
   "outputs": [
    {
     "data": {
      "text/plain": [
       "-0.053501441108725546"
      ]
     },
     "execution_count": 23,
     "metadata": {},
     "output_type": "execute_result"
    }
   ],
   "source": [
    "#seeing the relationship between doj and salary\n",
    "df['Year of Joining'].corr(df['Salary'])"
   ]
  },
  {
   "cell_type": "markdown",
   "metadata": {},
   "source": [
    "#### The negative correlation tells that As the year of joining is less(older) the salaries were high i.e the newer employees got less salaries\n",
    "\n"
   ]
  },
  {
   "cell_type": "markdown",
   "metadata": {},
   "source": [
    "# Data Preparation"
   ]
  },
  {
   "cell_type": "markdown",
   "metadata": {},
   "source": [
    "lets label encode all the columns"
   ]
  },
  {
   "cell_type": "code",
   "execution_count": 24,
   "metadata": {},
   "outputs": [
    {
     "data": {
      "text/plain": [
       "Index(['Emp ID', 'Name Prefix', 'First Name', 'Middle Initial', 'Last Name',\n",
       "       'Gender', 'E Mail', 'Father's Name', 'Mother's Name',\n",
       "       'Mother's Maiden Name', 'Date of Birth', 'Time of Birth', 'Age in Yrs.',\n",
       "       'Weight in Kgs.', 'Date of Joining', 'Quarter of Joining',\n",
       "       'Half of Joining', 'Year of Joining', 'Month of Joining',\n",
       "       'Month Name of Joining', 'Short Month', 'Day of Joining',\n",
       "       'DOW of Joining', 'Short DOW', 'Age in Company (Years)', 'Salary',\n",
       "       'Last % Hike', 'SSN', 'Phone No. ', 'Place Name', 'County', 'City',\n",
       "       'State', 'Zip', 'Region', 'User Name', 'Password'],\n",
       "      dtype='object')"
      ]
     },
     "execution_count": 24,
     "metadata": {},
     "output_type": "execute_result"
    }
   ],
   "source": [
    "df.columns"
   ]
  },
  {
   "cell_type": "markdown",
   "metadata": {},
   "source": [
    "#### As we have label encoded all data and have continous data we can use linear regression here"
   ]
  },
  {
   "cell_type": "code",
   "execution_count": 25,
   "metadata": {},
   "outputs": [
    {
     "data": {
      "text/plain": [
       "Index(['Emp ID', 'Name Prefix', 'First Name', 'Middle Initial', 'Last Name',\n",
       "       'Gender', 'E Mail', 'Father's Name', 'Mother's Name',\n",
       "       'Mother's Maiden Name', 'Date of Birth', 'Time of Birth', 'Age in Yrs.',\n",
       "       'Weight in Kgs.', 'Date of Joining', 'Quarter of Joining',\n",
       "       'Half of Joining', 'Year of Joining', 'Month of Joining',\n",
       "       'Month Name of Joining', 'Short Month', 'Day of Joining',\n",
       "       'DOW of Joining', 'Short DOW', 'Age in Company (Years)', 'Salary',\n",
       "       'Last % Hike', 'SSN', 'Phone No. ', 'Place Name', 'County', 'City',\n",
       "       'State', 'Zip', 'Region', 'User Name', 'Password'],\n",
       "      dtype='object')"
      ]
     },
     "execution_count": 25,
     "metadata": {},
     "output_type": "execute_result"
    }
   ],
   "source": [
    "df.columns"
   ]
  },
  {
   "cell_type": "code",
   "execution_count": 26,
   "metadata": {},
   "outputs": [],
   "source": [
    "from sklearn.preprocessing import LabelEncoder\n",
    "\n",
    "categorical_columns =['Name Prefix', 'Middle Initial', 'Gender',\n",
    "        'Date of Joining', 'Quarter of Joining',\n",
    "       'Half of Joining','Month of Joining',\n",
    "       'Month Name of Joining', 'Short Month', 'Day of Joining',\n",
    "       'DOW of Joining', 'Short DOW', 'Last % Hike',\n",
    "       'County', 'City', 'State', 'Region']\n",
    "for col in categorical_columns:\n",
    "    le = LabelEncoder()\n",
    "    le.fit(df[col])\n",
    "    df[col] = le.fit_transform(df[col])\n",
    "    \n",
    "\n"
   ]
  },
  {
   "cell_type": "code",
   "execution_count": 27,
   "metadata": {},
   "outputs": [
    {
     "data": {
      "text/html": [
       "<div>\n",
       "<style scoped>\n",
       "    .dataframe tbody tr th:only-of-type {\n",
       "        vertical-align: middle;\n",
       "    }\n",
       "\n",
       "    .dataframe tbody tr th {\n",
       "        vertical-align: top;\n",
       "    }\n",
       "\n",
       "    .dataframe thead th {\n",
       "        text-align: right;\n",
       "    }\n",
       "</style>\n",
       "<table border=\"1\" class=\"dataframe\">\n",
       "  <thead>\n",
       "    <tr style=\"text-align: right;\">\n",
       "      <th></th>\n",
       "      <th>Emp ID</th>\n",
       "      <th>Name Prefix</th>\n",
       "      <th>First Name</th>\n",
       "      <th>Middle Initial</th>\n",
       "      <th>Last Name</th>\n",
       "      <th>Gender</th>\n",
       "      <th>E Mail</th>\n",
       "      <th>Father's Name</th>\n",
       "      <th>Mother's Name</th>\n",
       "      <th>Mother's Maiden Name</th>\n",
       "      <th>...</th>\n",
       "      <th>SSN</th>\n",
       "      <th>Phone No.</th>\n",
       "      <th>Place Name</th>\n",
       "      <th>County</th>\n",
       "      <th>City</th>\n",
       "      <th>State</th>\n",
       "      <th>Zip</th>\n",
       "      <th>Region</th>\n",
       "      <th>User Name</th>\n",
       "      <th>Password</th>\n",
       "    </tr>\n",
       "  </thead>\n",
       "  <tbody>\n",
       "    <tr>\n",
       "      <th>0</th>\n",
       "      <td>850297</td>\n",
       "      <td>5</td>\n",
       "      <td>Shawna</td>\n",
       "      <td>22</td>\n",
       "      <td>Buck</td>\n",
       "      <td>0</td>\n",
       "      <td>shawna.buck@gmail.com</td>\n",
       "      <td>Rosario Buck</td>\n",
       "      <td>Keisha Buck</td>\n",
       "      <td>Hendricks</td>\n",
       "      <td>...</td>\n",
       "      <td>222-11-7603</td>\n",
       "      <td>702-771-7149</td>\n",
       "      <td>Las Vegas</td>\n",
       "      <td>106</td>\n",
       "      <td>410</td>\n",
       "      <td>32</td>\n",
       "      <td>89128</td>\n",
       "      <td>3</td>\n",
       "      <td>swbuck</td>\n",
       "      <td>ja8?k3BTF^]o@&lt;&amp;</td>\n",
       "    </tr>\n",
       "    <tr>\n",
       "      <th>1</th>\n",
       "      <td>304721</td>\n",
       "      <td>3</td>\n",
       "      <td>Nathaniel</td>\n",
       "      <td>25</td>\n",
       "      <td>Burke</td>\n",
       "      <td>1</td>\n",
       "      <td>nathaniel.burke@walmart.com</td>\n",
       "      <td>Derrick Burke</td>\n",
       "      <td>Phoebe Burke</td>\n",
       "      <td>Pugh</td>\n",
       "      <td>...</td>\n",
       "      <td>550-99-9897</td>\n",
       "      <td>231-765-6923</td>\n",
       "      <td>Irons</td>\n",
       "      <td>276</td>\n",
       "      <td>362</td>\n",
       "      <td>21</td>\n",
       "      <td>49644</td>\n",
       "      <td>0</td>\n",
       "      <td>nzburke</td>\n",
       "      <td>tPA@4Wh9Ja$+Ln</td>\n",
       "    </tr>\n",
       "    <tr>\n",
       "      <th>2</th>\n",
       "      <td>412317</td>\n",
       "      <td>1</td>\n",
       "      <td>Elisabeth</td>\n",
       "      <td>22</td>\n",
       "      <td>Foster</td>\n",
       "      <td>0</td>\n",
       "      <td>elisabeth.foster@gmail.com</td>\n",
       "      <td>Irwin Foster</td>\n",
       "      <td>Janie Foster</td>\n",
       "      <td>Delaney</td>\n",
       "      <td>...</td>\n",
       "      <td>215-91-0004</td>\n",
       "      <td>270-749-4774</td>\n",
       "      <td>Lexington</td>\n",
       "      <td>184</td>\n",
       "      <td>423</td>\n",
       "      <td>16</td>\n",
       "      <td>40501</td>\n",
       "      <td>2</td>\n",
       "      <td>ewfoster</td>\n",
       "      <td>5D.B4IGNkWJfG&lt;~</td>\n",
       "    </tr>\n",
       "    <tr>\n",
       "      <th>3</th>\n",
       "      <td>621375</td>\n",
       "      <td>4</td>\n",
       "      <td>Briana</td>\n",
       "      <td>2</td>\n",
       "      <td>Lancaster</td>\n",
       "      <td>0</td>\n",
       "      <td>briana.lancaster@yahoo.com</td>\n",
       "      <td>Jeffrey Lancaster</td>\n",
       "      <td>Shelby Lancaster</td>\n",
       "      <td>Weiss</td>\n",
       "      <td>...</td>\n",
       "      <td>534-71-1053</td>\n",
       "      <td>219-623-8216</td>\n",
       "      <td>Munster</td>\n",
       "      <td>276</td>\n",
       "      <td>521</td>\n",
       "      <td>14</td>\n",
       "      <td>46321</td>\n",
       "      <td>0</td>\n",
       "      <td>bclancaster</td>\n",
       "      <td>I%?JDM;pW</td>\n",
       "    </tr>\n",
       "    <tr>\n",
       "      <th>4</th>\n",
       "      <td>787549</td>\n",
       "      <td>2</td>\n",
       "      <td>Estella</td>\n",
       "      <td>11</td>\n",
       "      <td>Potter</td>\n",
       "      <td>0</td>\n",
       "      <td>estella.potter@gmail.com</td>\n",
       "      <td>Booker Potter</td>\n",
       "      <td>Katelyn Potter</td>\n",
       "      <td>Pate</td>\n",
       "      <td>...</td>\n",
       "      <td>644-29-6396</td>\n",
       "      <td>907-677-8486</td>\n",
       "      <td>Fairbanks</td>\n",
       "      <td>177</td>\n",
       "      <td>236</td>\n",
       "      <td>0</td>\n",
       "      <td>99709</td>\n",
       "      <td>3</td>\n",
       "      <td>elpotter</td>\n",
       "      <td>j4jkEXfC&amp;Rh</td>\n",
       "    </tr>\n",
       "    <tr>\n",
       "      <th>...</th>\n",
       "      <td>...</td>\n",
       "      <td>...</td>\n",
       "      <td>...</td>\n",
       "      <td>...</td>\n",
       "      <td>...</td>\n",
       "      <td>...</td>\n",
       "      <td>...</td>\n",
       "      <td>...</td>\n",
       "      <td>...</td>\n",
       "      <td>...</td>\n",
       "      <td>...</td>\n",
       "      <td>...</td>\n",
       "      <td>...</td>\n",
       "      <td>...</td>\n",
       "      <td>...</td>\n",
       "      <td>...</td>\n",
       "      <td>...</td>\n",
       "      <td>...</td>\n",
       "      <td>...</td>\n",
       "      <td>...</td>\n",
       "      <td>...</td>\n",
       "    </tr>\n",
       "    <tr>\n",
       "      <th>995</th>\n",
       "      <td>568435</td>\n",
       "      <td>5</td>\n",
       "      <td>Bonnie</td>\n",
       "      <td>10</td>\n",
       "      <td>Baker</td>\n",
       "      <td>0</td>\n",
       "      <td>bonnie.baker@bp.com</td>\n",
       "      <td>Edwardo Baker</td>\n",
       "      <td>Pauline Baker</td>\n",
       "      <td>Robinson</td>\n",
       "      <td>...</td>\n",
       "      <td>064-02-6162</td>\n",
       "      <td>262-696-9171</td>\n",
       "      <td>Mukwonago</td>\n",
       "      <td>557</td>\n",
       "      <td>520</td>\n",
       "      <td>47</td>\n",
       "      <td>53149</td>\n",
       "      <td>0</td>\n",
       "      <td>bkbaker</td>\n",
       "      <td>a?Co:/r;nu_wTQ</td>\n",
       "    </tr>\n",
       "    <tr>\n",
       "      <th>996</th>\n",
       "      <td>597409</td>\n",
       "      <td>3</td>\n",
       "      <td>Luke</td>\n",
       "      <td>18</td>\n",
       "      <td>Turner</td>\n",
       "      <td>1</td>\n",
       "      <td>luke.turner@charter.net</td>\n",
       "      <td>Javier Turner</td>\n",
       "      <td>Nicole Turner</td>\n",
       "      <td>Sykes</td>\n",
       "      <td>...</td>\n",
       "      <td>056-02-8240</td>\n",
       "      <td>231-629-0498</td>\n",
       "      <td>Freeport</td>\n",
       "      <td>30</td>\n",
       "      <td>267</td>\n",
       "      <td>21</td>\n",
       "      <td>49325</td>\n",
       "      <td>0</td>\n",
       "      <td>lsturner</td>\n",
       "      <td>7n5@64VC7|</td>\n",
       "    </tr>\n",
       "    <tr>\n",
       "      <th>997</th>\n",
       "      <td>359608</td>\n",
       "      <td>2</td>\n",
       "      <td>Eva</td>\n",
       "      <td>18</td>\n",
       "      <td>Holman</td>\n",
       "      <td>0</td>\n",
       "      <td>eva.holman@hotmail.com</td>\n",
       "      <td>Coy Holman</td>\n",
       "      <td>Haley Holman</td>\n",
       "      <td>Boyle</td>\n",
       "      <td>...</td>\n",
       "      <td>343-11-1935</td>\n",
       "      <td>209-912-6705</td>\n",
       "      <td>Turlock</td>\n",
       "      <td>505</td>\n",
       "      <td>807</td>\n",
       "      <td>4</td>\n",
       "      <td>95381</td>\n",
       "      <td>3</td>\n",
       "      <td>esholman</td>\n",
       "      <td>DG&lt;&lt;&lt;e}*WgD&lt;U</td>\n",
       "    </tr>\n",
       "    <tr>\n",
       "      <th>998</th>\n",
       "      <td>803426</td>\n",
       "      <td>4</td>\n",
       "      <td>Maritza</td>\n",
       "      <td>7</td>\n",
       "      <td>Christian</td>\n",
       "      <td>0</td>\n",
       "      <td>maritza.christian@microsoft.com</td>\n",
       "      <td>Dion Christian</td>\n",
       "      <td>Stephanie Christian</td>\n",
       "      <td>Mooney</td>\n",
       "      <td>...</td>\n",
       "      <td>336-11-5030</td>\n",
       "      <td>203-224-9056</td>\n",
       "      <td>Stamford</td>\n",
       "      <td>179</td>\n",
       "      <td>756</td>\n",
       "      <td>6</td>\n",
       "      <td>6910</td>\n",
       "      <td>1</td>\n",
       "      <td>mhchristian</td>\n",
       "      <td>Krs@#TnM</td>\n",
       "    </tr>\n",
       "    <tr>\n",
       "      <th>999</th>\n",
       "      <td>669618</td>\n",
       "      <td>1</td>\n",
       "      <td>Phyllis</td>\n",
       "      <td>7</td>\n",
       "      <td>Dudley</td>\n",
       "      <td>0</td>\n",
       "      <td>phyllis.dudley@yahoo.co.in</td>\n",
       "      <td>Jarrod Dudley</td>\n",
       "      <td>Latisha Dudley</td>\n",
       "      <td>Wilcox</td>\n",
       "      <td>...</td>\n",
       "      <td>101-02-6501</td>\n",
       "      <td>405-970-2341</td>\n",
       "      <td>Meno</td>\n",
       "      <td>311</td>\n",
       "      <td>481</td>\n",
       "      <td>35</td>\n",
       "      <td>73760</td>\n",
       "      <td>2</td>\n",
       "      <td>phdudley</td>\n",
       "      <td>h6wt@400%&amp;Uu</td>\n",
       "    </tr>\n",
       "  </tbody>\n",
       "</table>\n",
       "<p>1000 rows × 37 columns</p>\n",
       "</div>"
      ],
      "text/plain": [
       "     Emp ID  Name Prefix First Name  Middle Initial  Last Name  Gender  \\\n",
       "0    850297            5     Shawna              22       Buck       0   \n",
       "1    304721            3  Nathaniel              25      Burke       1   \n",
       "2    412317            1  Elisabeth              22     Foster       0   \n",
       "3    621375            4     Briana               2  Lancaster       0   \n",
       "4    787549            2    Estella              11     Potter       0   \n",
       "..      ...          ...        ...             ...        ...     ...   \n",
       "995  568435            5     Bonnie              10      Baker       0   \n",
       "996  597409            3       Luke              18     Turner       1   \n",
       "997  359608            2        Eva              18     Holman       0   \n",
       "998  803426            4    Maritza               7  Christian       0   \n",
       "999  669618            1    Phyllis               7     Dudley       0   \n",
       "\n",
       "                              E Mail      Father's Name        Mother's Name  \\\n",
       "0              shawna.buck@gmail.com       Rosario Buck          Keisha Buck   \n",
       "1        nathaniel.burke@walmart.com      Derrick Burke         Phoebe Burke   \n",
       "2         elisabeth.foster@gmail.com       Irwin Foster         Janie Foster   \n",
       "3         briana.lancaster@yahoo.com  Jeffrey Lancaster     Shelby Lancaster   \n",
       "4           estella.potter@gmail.com      Booker Potter       Katelyn Potter   \n",
       "..                               ...                ...                  ...   \n",
       "995              bonnie.baker@bp.com      Edwardo Baker        Pauline Baker   \n",
       "996          luke.turner@charter.net      Javier Turner        Nicole Turner   \n",
       "997           eva.holman@hotmail.com         Coy Holman         Haley Holman   \n",
       "998  maritza.christian@microsoft.com     Dion Christian  Stephanie Christian   \n",
       "999       phyllis.dudley@yahoo.co.in      Jarrod Dudley       Latisha Dudley   \n",
       "\n",
       "    Mother's Maiden Name  ...          SSN    Phone No.   Place Name  County  \\\n",
       "0              Hendricks  ...  222-11-7603  702-771-7149   Las Vegas     106   \n",
       "1                   Pugh  ...  550-99-9897  231-765-6923       Irons     276   \n",
       "2                Delaney  ...  215-91-0004  270-749-4774   Lexington     184   \n",
       "3                  Weiss  ...  534-71-1053  219-623-8216     Munster     276   \n",
       "4                   Pate  ...  644-29-6396  907-677-8486   Fairbanks     177   \n",
       "..                   ...  ...          ...           ...         ...     ...   \n",
       "995             Robinson  ...  064-02-6162  262-696-9171   Mukwonago     557   \n",
       "996                Sykes  ...  056-02-8240  231-629-0498    Freeport      30   \n",
       "997                Boyle  ...  343-11-1935  209-912-6705     Turlock     505   \n",
       "998               Mooney  ...  336-11-5030  203-224-9056    Stamford     179   \n",
       "999               Wilcox  ...  101-02-6501  405-970-2341        Meno     311   \n",
       "\n",
       "     City  State    Zip  Region    User Name         Password  \n",
       "0     410     32  89128       3       swbuck  ja8?k3BTF^]o@<&  \n",
       "1     362     21  49644       0      nzburke   tPA@4Wh9Ja$+Ln  \n",
       "2     423     16  40501       2     ewfoster  5D.B4IGNkWJfG<~  \n",
       "3     521     14  46321       0  bclancaster        I%?JDM;pW  \n",
       "4     236      0  99709       3     elpotter      j4jkEXfC&Rh  \n",
       "..    ...    ...    ...     ...          ...              ...  \n",
       "995   520     47  53149       0      bkbaker   a?Co:/r;nu_wTQ  \n",
       "996   267     21  49325       0     lsturner       7n5@64VC7|  \n",
       "997   807      4  95381       3     esholman    DG<<<e}*WgD<U  \n",
       "998   756      6   6910       1  mhchristian         Krs@#TnM  \n",
       "999   481     35  73760       2     phdudley     h6wt@400%&Uu  \n",
       "\n",
       "[1000 rows x 37 columns]"
      ]
     },
     "execution_count": 27,
     "metadata": {},
     "output_type": "execute_result"
    }
   ],
   "source": [
    "df"
   ]
  },
  {
   "cell_type": "code",
   "execution_count": 28,
   "metadata": {},
   "outputs": [
    {
     "data": {
      "text/plain": [
       "Index(['Emp ID', 'Name Prefix', 'First Name', 'Middle Initial', 'Last Name',\n",
       "       'Gender', 'E Mail', 'Father's Name', 'Mother's Name',\n",
       "       'Mother's Maiden Name', 'Date of Birth', 'Time of Birth', 'Age in Yrs.',\n",
       "       'Weight in Kgs.', 'Date of Joining', 'Quarter of Joining',\n",
       "       'Half of Joining', 'Year of Joining', 'Month of Joining',\n",
       "       'Month Name of Joining', 'Short Month', 'Day of Joining',\n",
       "       'DOW of Joining', 'Short DOW', 'Age in Company (Years)', 'Salary',\n",
       "       'Last % Hike', 'SSN', 'Phone No. ', 'Place Name', 'County', 'City',\n",
       "       'State', 'Zip', 'Region', 'User Name', 'Password'],\n",
       "      dtype='object')"
      ]
     },
     "execution_count": 28,
     "metadata": {},
     "output_type": "execute_result"
    }
   ],
   "source": [
    "df.columns"
   ]
  },
  {
   "cell_type": "markdown",
   "metadata": {},
   "source": [
    "# Setting target variable"
   ]
  },
  {
   "cell_type": "code",
   "execution_count": 29,
   "metadata": {},
   "outputs": [],
   "source": [
    "#making salary as target variable\n",
    "\n",
    "x=df.drop(['Salary','First Name','Last Name','E Mail',\"Father's Name\", \"Mother's Name\",\n",
    "       \"Mother's Maiden Name\",'Date of Birth','Time of Birth','SSN',\n",
    "        'Phone No. ','Place Name', 'Zip', 'User Name', 'Password','Emp ID'],axis=1)\n",
    "\n",
    "\n",
    "y=df['Salary']"
   ]
  },
  {
   "cell_type": "code",
   "execution_count": 30,
   "metadata": {},
   "outputs": [
    {
     "data": {
      "text/html": [
       "<div>\n",
       "<style scoped>\n",
       "    .dataframe tbody tr th:only-of-type {\n",
       "        vertical-align: middle;\n",
       "    }\n",
       "\n",
       "    .dataframe tbody tr th {\n",
       "        vertical-align: top;\n",
       "    }\n",
       "\n",
       "    .dataframe thead th {\n",
       "        text-align: right;\n",
       "    }\n",
       "</style>\n",
       "<table border=\"1\" class=\"dataframe\">\n",
       "  <thead>\n",
       "    <tr style=\"text-align: right;\">\n",
       "      <th></th>\n",
       "      <th>Name Prefix</th>\n",
       "      <th>Middle Initial</th>\n",
       "      <th>Gender</th>\n",
       "      <th>Age in Yrs.</th>\n",
       "      <th>Weight in Kgs.</th>\n",
       "      <th>Date of Joining</th>\n",
       "      <th>Quarter of Joining</th>\n",
       "      <th>Half of Joining</th>\n",
       "      <th>Year of Joining</th>\n",
       "      <th>Month of Joining</th>\n",
       "      <th>...</th>\n",
       "      <th>Short Month</th>\n",
       "      <th>Day of Joining</th>\n",
       "      <th>DOW of Joining</th>\n",
       "      <th>Short DOW</th>\n",
       "      <th>Age in Company (Years)</th>\n",
       "      <th>Last % Hike</th>\n",
       "      <th>County</th>\n",
       "      <th>City</th>\n",
       "      <th>State</th>\n",
       "      <th>Region</th>\n",
       "    </tr>\n",
       "  </thead>\n",
       "  <tbody>\n",
       "    <tr>\n",
       "      <th>0</th>\n",
       "      <td>5</td>\n",
       "      <td>22</td>\n",
       "      <td>0</td>\n",
       "      <td>45.66</td>\n",
       "      <td>44</td>\n",
       "      <td>262</td>\n",
       "      <td>3</td>\n",
       "      <td>1</td>\n",
       "      <td>2010</td>\n",
       "      <td>11</td>\n",
       "      <td>...</td>\n",
       "      <td>2</td>\n",
       "      <td>17</td>\n",
       "      <td>2</td>\n",
       "      <td>2</td>\n",
       "      <td>6.61</td>\n",
       "      <td>9</td>\n",
       "      <td>106</td>\n",
       "      <td>410</td>\n",
       "      <td>32</td>\n",
       "      <td>3</td>\n",
       "    </tr>\n",
       "    <tr>\n",
       "      <th>1</th>\n",
       "      <td>3</td>\n",
       "      <td>25</td>\n",
       "      <td>1</td>\n",
       "      <td>23.76</td>\n",
       "      <td>52</td>\n",
       "      <td>529</td>\n",
       "      <td>1</td>\n",
       "      <td>0</td>\n",
       "      <td>2017</td>\n",
       "      <td>3</td>\n",
       "      <td>...</td>\n",
       "      <td>0</td>\n",
       "      <td>24</td>\n",
       "      <td>5</td>\n",
       "      <td>5</td>\n",
       "      <td>0.26</td>\n",
       "      <td>6</td>\n",
       "      <td>276</td>\n",
       "      <td>362</td>\n",
       "      <td>21</td>\n",
       "      <td>0</td>\n",
       "    </tr>\n",
       "    <tr>\n",
       "      <th>2</th>\n",
       "      <td>1</td>\n",
       "      <td>22</td>\n",
       "      <td>0</td>\n",
       "      <td>22.68</td>\n",
       "      <td>42</td>\n",
       "      <td>454</td>\n",
       "      <td>0</td>\n",
       "      <td>0</td>\n",
       "      <td>2017</td>\n",
       "      <td>2</td>\n",
       "      <td>...</td>\n",
       "      <td>7</td>\n",
       "      <td>26</td>\n",
       "      <td>1</td>\n",
       "      <td>1</td>\n",
       "      <td>0.34</td>\n",
       "      <td>21</td>\n",
       "      <td>184</td>\n",
       "      <td>423</td>\n",
       "      <td>16</td>\n",
       "      <td>2</td>\n",
       "    </tr>\n",
       "    <tr>\n",
       "      <th>3</th>\n",
       "      <td>4</td>\n",
       "      <td>2</td>\n",
       "      <td>0</td>\n",
       "      <td>41.70</td>\n",
       "      <td>43</td>\n",
       "      <td>372</td>\n",
       "      <td>0</td>\n",
       "      <td>0</td>\n",
       "      <td>2003</td>\n",
       "      <td>1</td>\n",
       "      <td>...</td>\n",
       "      <td>3</td>\n",
       "      <td>24</td>\n",
       "      <td>5</td>\n",
       "      <td>5</td>\n",
       "      <td>14.43</td>\n",
       "      <td>8</td>\n",
       "      <td>276</td>\n",
       "      <td>521</td>\n",
       "      <td>14</td>\n",
       "      <td>0</td>\n",
       "    </tr>\n",
       "    <tr>\n",
       "      <th>4</th>\n",
       "      <td>2</td>\n",
       "      <td>11</td>\n",
       "      <td>0</td>\n",
       "      <td>22.39</td>\n",
       "      <td>58</td>\n",
       "      <td>84</td>\n",
       "      <td>3</td>\n",
       "      <td>1</td>\n",
       "      <td>2016</td>\n",
       "      <td>9</td>\n",
       "      <td>...</td>\n",
       "      <td>10</td>\n",
       "      <td>10</td>\n",
       "      <td>5</td>\n",
       "      <td>5</td>\n",
       "      <td>0.79</td>\n",
       "      <td>3</td>\n",
       "      <td>177</td>\n",
       "      <td>236</td>\n",
       "      <td>0</td>\n",
       "      <td>3</td>\n",
       "    </tr>\n",
       "  </tbody>\n",
       "</table>\n",
       "<p>5 rows × 21 columns</p>\n",
       "</div>"
      ],
      "text/plain": [
       "   Name Prefix  Middle Initial  Gender  Age in Yrs.  Weight in Kgs.  \\\n",
       "0            5              22       0        45.66              44   \n",
       "1            3              25       1        23.76              52   \n",
       "2            1              22       0        22.68              42   \n",
       "3            4               2       0        41.70              43   \n",
       "4            2              11       0        22.39              58   \n",
       "\n",
       "   Date of Joining  Quarter of Joining  Half of Joining  Year of Joining  \\\n",
       "0              262                   3                1             2010   \n",
       "1              529                   1                0             2017   \n",
       "2              454                   0                0             2017   \n",
       "3              372                   0                0             2003   \n",
       "4               84                   3                1             2016   \n",
       "\n",
       "   Month of Joining  ...  Short Month  Day of Joining  DOW of Joining  \\\n",
       "0                11  ...            2              17               2   \n",
       "1                 3  ...            0              24               5   \n",
       "2                 2  ...            7              26               1   \n",
       "3                 1  ...            3              24               5   \n",
       "4                 9  ...           10              10               5   \n",
       "\n",
       "   Short DOW  Age in Company (Years)  Last % Hike  County  City  State  Region  \n",
       "0          2                    6.61            9     106   410     32       3  \n",
       "1          5                    0.26            6     276   362     21       0  \n",
       "2          1                    0.34           21     184   423     16       2  \n",
       "3          5                   14.43            8     276   521     14       0  \n",
       "4          5                    0.79            3     177   236      0       3  \n",
       "\n",
       "[5 rows x 21 columns]"
      ]
     },
     "execution_count": 30,
     "metadata": {},
     "output_type": "execute_result"
    }
   ],
   "source": [
    "x.head()"
   ]
  },
  {
   "cell_type": "code",
   "execution_count": 31,
   "metadata": {},
   "outputs": [
    {
     "data": {
      "text/plain": [
       "Index(['Name Prefix', 'Middle Initial', 'Gender', 'Age in Yrs.',\n",
       "       'Weight in Kgs.', 'Date of Joining', 'Quarter of Joining',\n",
       "       'Half of Joining', 'Year of Joining', 'Month of Joining',\n",
       "       'Month Name of Joining', 'Short Month', 'Day of Joining',\n",
       "       'DOW of Joining', 'Short DOW', 'Age in Company (Years)', 'Last % Hike',\n",
       "       'County', 'City', 'State', 'Region'],\n",
       "      dtype='object')"
      ]
     },
     "execution_count": 31,
     "metadata": {},
     "output_type": "execute_result"
    }
   ],
   "source": [
    "x.columns"
   ]
  },
  {
   "cell_type": "code",
   "execution_count": 33,
   "metadata": {},
   "outputs": [],
   "source": [
    "x.drop(['Middle Initial','Weight in Kgs.', 'County', 'City', 'State', 'Region'],axis=1,inplace=True)"
   ]
  },
  {
   "cell_type": "code",
   "execution_count": 35,
   "metadata": {},
   "outputs": [
    {
     "data": {
      "text/html": [
       "<div>\n",
       "<style scoped>\n",
       "    .dataframe tbody tr th:only-of-type {\n",
       "        vertical-align: middle;\n",
       "    }\n",
       "\n",
       "    .dataframe tbody tr th {\n",
       "        vertical-align: top;\n",
       "    }\n",
       "\n",
       "    .dataframe thead th {\n",
       "        text-align: right;\n",
       "    }\n",
       "</style>\n",
       "<table border=\"1\" class=\"dataframe\">\n",
       "  <thead>\n",
       "    <tr style=\"text-align: right;\">\n",
       "      <th></th>\n",
       "      <th>Name Prefix</th>\n",
       "      <th>Gender</th>\n",
       "      <th>Age in Yrs.</th>\n",
       "      <th>Date of Joining</th>\n",
       "      <th>Quarter of Joining</th>\n",
       "      <th>Half of Joining</th>\n",
       "      <th>Year of Joining</th>\n",
       "      <th>Month of Joining</th>\n",
       "      <th>Month Name of Joining</th>\n",
       "      <th>Short Month</th>\n",
       "      <th>Day of Joining</th>\n",
       "      <th>DOW of Joining</th>\n",
       "      <th>Short DOW</th>\n",
       "      <th>Age in Company (Years)</th>\n",
       "      <th>Last % Hike</th>\n",
       "    </tr>\n",
       "  </thead>\n",
       "  <tbody>\n",
       "    <tr>\n",
       "      <th>0</th>\n",
       "      <td>5</td>\n",
       "      <td>0</td>\n",
       "      <td>45.66</td>\n",
       "      <td>262</td>\n",
       "      <td>3</td>\n",
       "      <td>1</td>\n",
       "      <td>2010</td>\n",
       "      <td>11</td>\n",
       "      <td>2</td>\n",
       "      <td>2</td>\n",
       "      <td>17</td>\n",
       "      <td>2</td>\n",
       "      <td>2</td>\n",
       "      <td>6.61</td>\n",
       "      <td>9</td>\n",
       "    </tr>\n",
       "    <tr>\n",
       "      <th>1</th>\n",
       "      <td>3</td>\n",
       "      <td>1</td>\n",
       "      <td>23.76</td>\n",
       "      <td>529</td>\n",
       "      <td>1</td>\n",
       "      <td>0</td>\n",
       "      <td>2017</td>\n",
       "      <td>3</td>\n",
       "      <td>0</td>\n",
       "      <td>0</td>\n",
       "      <td>24</td>\n",
       "      <td>5</td>\n",
       "      <td>5</td>\n",
       "      <td>0.26</td>\n",
       "      <td>6</td>\n",
       "    </tr>\n",
       "    <tr>\n",
       "      <th>2</th>\n",
       "      <td>1</td>\n",
       "      <td>0</td>\n",
       "      <td>22.68</td>\n",
       "      <td>454</td>\n",
       "      <td>0</td>\n",
       "      <td>0</td>\n",
       "      <td>2017</td>\n",
       "      <td>2</td>\n",
       "      <td>7</td>\n",
       "      <td>7</td>\n",
       "      <td>26</td>\n",
       "      <td>1</td>\n",
       "      <td>1</td>\n",
       "      <td>0.34</td>\n",
       "      <td>21</td>\n",
       "    </tr>\n",
       "    <tr>\n",
       "      <th>3</th>\n",
       "      <td>4</td>\n",
       "      <td>0</td>\n",
       "      <td>41.70</td>\n",
       "      <td>372</td>\n",
       "      <td>0</td>\n",
       "      <td>0</td>\n",
       "      <td>2003</td>\n",
       "      <td>1</td>\n",
       "      <td>3</td>\n",
       "      <td>3</td>\n",
       "      <td>24</td>\n",
       "      <td>5</td>\n",
       "      <td>5</td>\n",
       "      <td>14.43</td>\n",
       "      <td>8</td>\n",
       "    </tr>\n",
       "    <tr>\n",
       "      <th>4</th>\n",
       "      <td>2</td>\n",
       "      <td>0</td>\n",
       "      <td>22.39</td>\n",
       "      <td>84</td>\n",
       "      <td>3</td>\n",
       "      <td>1</td>\n",
       "      <td>2016</td>\n",
       "      <td>9</td>\n",
       "      <td>10</td>\n",
       "      <td>10</td>\n",
       "      <td>10</td>\n",
       "      <td>5</td>\n",
       "      <td>5</td>\n",
       "      <td>0.79</td>\n",
       "      <td>3</td>\n",
       "    </tr>\n",
       "  </tbody>\n",
       "</table>\n",
       "</div>"
      ],
      "text/plain": [
       "   Name Prefix  Gender  Age in Yrs.  Date of Joining  Quarter of Joining  \\\n",
       "0            5       0        45.66              262                   3   \n",
       "1            3       1        23.76              529                   1   \n",
       "2            1       0        22.68              454                   0   \n",
       "3            4       0        41.70              372                   0   \n",
       "4            2       0        22.39               84                   3   \n",
       "\n",
       "   Half of Joining  Year of Joining  Month of Joining  Month Name of Joining  \\\n",
       "0                1             2010                11                      2   \n",
       "1                0             2017                 3                      0   \n",
       "2                0             2017                 2                      7   \n",
       "3                0             2003                 1                      3   \n",
       "4                1             2016                 9                     10   \n",
       "\n",
       "   Short Month  Day of Joining  DOW of Joining  Short DOW  \\\n",
       "0            2              17               2          2   \n",
       "1            0              24               5          5   \n",
       "2            7              26               1          1   \n",
       "3            3              24               5          5   \n",
       "4           10              10               5          5   \n",
       "\n",
       "   Age in Company (Years)  Last % Hike  \n",
       "0                    6.61            9  \n",
       "1                    0.26            6  \n",
       "2                    0.34           21  \n",
       "3                   14.43            8  \n",
       "4                    0.79            3  "
      ]
     },
     "execution_count": 35,
     "metadata": {},
     "output_type": "execute_result"
    }
   ],
   "source": [
    "x.head()"
   ]
  },
  {
   "cell_type": "code",
   "execution_count": 36,
   "metadata": {},
   "outputs": [
    {
     "data": {
      "text/plain": [
       "0      119090\n",
       "1      117991\n",
       "2      161045\n",
       "3      142616\n",
       "4      135706\n",
       "        ...  \n",
       "995     72930\n",
       "996    121949\n",
       "997     82734\n",
       "998     66854\n",
       "999    105069\n",
       "Name: Salary, Length: 1000, dtype: int64"
      ]
     },
     "execution_count": 36,
     "metadata": {},
     "output_type": "execute_result"
    }
   ],
   "source": [
    "y #salary"
   ]
  },
  {
   "cell_type": "markdown",
   "metadata": {},
   "source": [
    "As there are too many columns in the data we prefer performing pca and then build the model"
   ]
  },
  {
   "cell_type": "markdown",
   "metadata": {},
   "source": [
    "# standard Scaler"
   ]
  },
  {
   "cell_type": "code",
   "execution_count": 37,
   "metadata": {},
   "outputs": [],
   "source": [
    "#standardizing the values\n",
    "from sklearn.preprocessing import StandardScaler\n",
    "scaler = StandardScaler()\n",
    "x_scaled = scaler.fit_transform(x)  #the scaled values are saved to x_scaled"
   ]
  },
  {
   "cell_type": "code",
   "execution_count": 38,
   "metadata": {},
   "outputs": [
    {
     "data": {
      "text/plain": [
       "array([[ 1.06643588, -1.01816496,  0.47583025, ..., -0.46081105,\n",
       "        -0.40675913, -0.68648537],\n",
       "       [-0.25015163,  0.98215912, -1.49675646, ...,  1.03371128,\n",
       "        -1.14818509, -1.02932806],\n",
       "       [-1.56673914, -1.01816496, -1.59403471, ..., -0.95898517,\n",
       "        -1.1388443 ,  0.68488543],\n",
       "       ...,\n",
       "       [-0.90844538, -1.01816496,  1.75666052, ...,  1.03371128,\n",
       "         0.74099162, -1.02932806],\n",
       "       [ 0.40814213, -1.01816496, -0.91578914, ...,  0.53553717,\n",
       "        -0.55154152,  1.71341353],\n",
       "       [-1.56673914, -1.01816496,  1.74765327, ...,  0.53553717,\n",
       "         3.20579511,  1.37057083]])"
      ]
     },
     "execution_count": 38,
     "metadata": {},
     "output_type": "execute_result"
    }
   ],
   "source": [
    "x_scaled"
   ]
  },
  {
   "cell_type": "code",
   "execution_count": 39,
   "metadata": {},
   "outputs": [],
   "source": [
    "#x=x_scaled"
   ]
  },
  {
   "cell_type": "markdown",
   "metadata": {},
   "source": [
    "# PCA"
   ]
  },
  {
   "cell_type": "code",
   "execution_count": 41,
   "metadata": {},
   "outputs": [],
   "source": [
    "\n",
    "from sklearn.decomposition import PCA\n",
    "pca=PCA(n_components=10)\n",
    "x=pca.fit_transform(x_scaled) #passing the 10 scaled columns to x"
   ]
  },
  {
   "cell_type": "code",
   "execution_count": 42,
   "metadata": {},
   "outputs": [
    {
     "data": {
      "text/plain": [
       "(1000, 10)"
      ]
     },
     "execution_count": 42,
     "metadata": {},
     "output_type": "execute_result"
    }
   ],
   "source": [
    "x.shape # reduced "
   ]
  },
  {
   "cell_type": "markdown",
   "metadata": {},
   "source": [
    "# MODEL BUILDING"
   ]
  },
  {
   "cell_type": "markdown",
   "metadata": {},
   "source": [
    "# Linear Regression"
   ]
  },
  {
   "cell_type": "code",
   "execution_count": 43,
   "metadata": {},
   "outputs": [
    {
     "name": "stdout",
     "output_type": "stream",
     "text": [
      "r2 score is 1.1310361009764347 and cross validation score is -2.920976707614349\n"
     ]
    }
   ],
   "source": [
    "from sklearn.model_selection import train_test_split\n",
    "from sklearn.linear_model import LinearRegression\n",
    "from sklearn.metrics import r2_score\n",
    "from sklearn.metrics import accuracy_score\n",
    "from sklearn.model_selection import cross_val_score\n",
    "\n",
    "\n",
    "x_train,x_test,y_train,y_test=train_test_split(x,y,test_size=0.30,random_state=0)\n",
    "Lr=LinearRegression()\n",
    "Lr.fit(x_train,y_train)\n",
    "y_pred=Lr.predict(x_test)\n",
    "score=r2_score(y_test,y_pred)\n",
    "#accscore=accuracy_score(y_test,y_pred)\n",
    "cvscore=cross_val_score(Lr,x_train,y_train,cv=5).mean()\n",
    "\n",
    "print(f\"r2 score is {score*100} and cross validation score is {cvscore*100}\")"
   ]
  },
  {
   "cell_type": "markdown",
   "metadata": {},
   "source": [
    "# Lasso Regression"
   ]
  },
  {
   "cell_type": "code",
   "execution_count": 44,
   "metadata": {},
   "outputs": [
    {
     "name": "stdout",
     "output_type": "stream",
     "text": [
      "{'alpha': 100, 'random_state': 0}\n"
     ]
    }
   ],
   "source": [
    "import warnings\n",
    "warnings.filterwarnings('ignore')\n",
    "from sklearn.model_selection import GridSearchCV\n",
    "from sklearn.linear_model import Lasso\n",
    "\n",
    "parameters={'alpha':[0.0001,0.001,0.01,0.1,1,10,100],'random_state':list(range(0,20))}\n",
    "Ls=Lasso()\n",
    "clf=GridSearchCV(Ls,parameters)\n",
    "clf.fit(x_train,y_train)\n",
    "print(clf.best_params_)"
   ]
  },
  {
   "cell_type": "code",
   "execution_count": 45,
   "metadata": {},
   "outputs": [
    {
     "name": "stdout",
     "output_type": "stream",
     "text": [
      "at cv= 2\n",
      "cross validation score is -4.773643286605422\n",
      "r2 score is  1.0885243750863305\n",
      "\n",
      "\n",
      "at cv= 3\n",
      "cross validation score is -3.298918239005729\n",
      "r2 score is  1.0885243750863305\n",
      "\n",
      "\n",
      "at cv= 4\n",
      "cross validation score is -3.710896363378019\n",
      "r2 score is  1.0885243750863305\n",
      "\n",
      "\n",
      "at cv= 5\n",
      "cross validation score is -2.7458335377803422\n",
      "r2 score is  1.0885243750863305\n",
      "\n",
      "\n",
      "at cv= 6\n",
      "cross validation score is -3.2783614637504233\n",
      "r2 score is  1.0885243750863305\n",
      "\n",
      "\n",
      "at cv= 7\n",
      "cross validation score is -3.3824157249646034\n",
      "r2 score is  1.0885243750863305\n",
      "\n",
      "\n",
      "at cv= 8\n",
      "cross validation score is -2.7958500019315546\n",
      "r2 score is  1.0885243750863305\n",
      "\n",
      "\n",
      "at cv= 9\n",
      "cross validation score is -2.9845442498771844\n",
      "r2 score is  1.0885243750863305\n",
      "\n",
      "\n"
     ]
    }
   ],
   "source": [
    "#making lasso reg.using the best parameters obtained above\n",
    "\n",
    "from sklearn.model_selection import cross_val_score\n",
    "Ls=Lasso(alpha=100,random_state=0)\n",
    "Ls.fit(x_train,y_train)\n",
    "Ls_predict=Ls.predict(x_test)\n",
    "lss=r2_score(y_test,Ls_predict)*100\n",
    "\n",
    "\n",
    "for j in range(2,10):\n",
    "    lscrossval=cross_val_score(Ls,x_train,y_train,cv=j).mean() #putting loop for cv in the rangge 2 to 10\n",
    "    print('at cv=',j)\n",
    "    print('cross validation score is',lscrossval*100)\n",
    "    print('r2 score is ',lss)\n",
    "    print('\\n')\n",
    "    "
   ]
  },
  {
   "cell_type": "code",
   "execution_count": 47,
   "metadata": {},
   "outputs": [
    {
     "name": "stdout",
     "output_type": "stream",
     "text": [
      "{'alpha': 1, 'fit_intercept': True, 'normalize': True, 'random_state': 0}\n"
     ]
    }
   ],
   "source": [
    "from sklearn.linear_model import Ridge\n",
    "parameters={'alpha':[0.0001,0.001,0.01,0.1,1],'fit_intercept':[True,False],'normalize':[True,False],'random_state':list(range(0,10))}\n",
    "\n",
    "Rd=Ridge()\n",
    "clf=GridSearchCV(Rd,parameters)\n",
    "clf.fit(x_train,y_train)\n",
    "print(clf.best_params_)"
   ]
  },
  {
   "cell_type": "code",
   "execution_count": 50,
   "metadata": {},
   "outputs": [
    {
     "name": "stdout",
     "output_type": "stream",
     "text": [
      "0.6188476047490288\n",
      "cross val score= [-2.85269611 -1.87906162 -2.71285943 -0.83546358]\n"
     ]
    }
   ],
   "source": [
    "Rd=Ridge(alpha=1,fit_intercept=True, normalize= True,random_state=0,tol=0.001)\n",
    "Rd.fit(x_train,y_train)\n",
    "Rd_predict=Rd.predict(x_test)\n",
    "Rds=r2_score(y_test,Rd_predict)\n",
    "print(Rds*100)\n",
    "Rdscore=cross_val_score(Rd,x_train,y_train,cv=4)*100\n",
    "Rdscore.mean()\n",
    "print('cross val score=',Rdscore)"
   ]
  },
  {
   "cell_type": "markdown",
   "metadata": {},
   "source": [
    "# Serialization"
   ]
  },
  {
   "cell_type": "code",
   "execution_count": 51,
   "metadata": {},
   "outputs": [],
   "source": [
    "import pickle\n",
    "filename='employees_model.pkl'\n",
    "pickle.dump(Lr,open(filename,'wb'))  #saving the best model (Adaboost)"
   ]
  },
  {
   "cell_type": "code",
   "execution_count": 52,
   "metadata": {},
   "outputs": [],
   "source": [
    "with open('employees_model.pkl','rb') as f:\n",
    "    x=pickle.load(f)"
   ]
  },
  {
   "cell_type": "markdown",
   "metadata": {},
   "source": [
    "# CONCLUSION"
   ]
  },
  {
   "cell_type": "code",
   "execution_count": 53,
   "metadata": {},
   "outputs": [
    {
     "data": {
      "text/plain": [
       "array([176707,  73397,  49158, 174547, 131397,  54302, 105366, 105706,\n",
       "       184505, 103007, 120002,  95240, 140358, 150940, 196585, 104197,\n",
       "        59439, 116911, 118693, 154843, 115858,  52560, 183466,  97890,\n",
       "        70105, 174027, 127772, 176750,  84511, 117991, 122778,  47731,\n",
       "       155186, 166489, 143127, 159272, 116175, 104269, 170822, 139115,\n",
       "       114142, 121949, 163607, 137031,  56054,  94854,  98449, 153633,\n",
       "        77392, 155891, 115908, 146356, 126670,  75839,  82765, 182540,\n",
       "       125802, 178530, 128467, 115356, 136951,  73471,  65798,  96012,\n",
       "       177947, 139670,  87666,  62228,  80934,  99567,  77053, 193352,\n",
       "       169164, 108295,  45497, 161123, 158773, 154559,  79954,  70471,\n",
       "        78732, 128144, 116248,  92597, 102546, 116510,  88094, 157427,\n",
       "       146973,  48858, 117143, 116843,  89291, 137995, 135526, 166948,\n",
       "        46181, 128225, 146342, 119388,  54968, 131141, 176165, 128566,\n",
       "        74449, 112027, 186548, 121345, 178642, 134103, 104764,  75199,\n",
       "        45345,  45973, 155351,  67506,  45969,  58345, 114321,  40261,\n",
       "       164512, 177228, 131510, 159350, 192498, 121009, 109695, 138006,\n",
       "       115340,  46179,  44868, 197109, 135726, 152121, 129827, 106297,\n",
       "        82263, 154216,  88052, 136817, 160421, 151325, 143616, 123599,\n",
       "        85410, 183279,  68835,  65981, 143864, 118607, 111372,  45210,\n",
       "       168292,  98600, 159050, 179637,  63095, 182390, 142346, 105620,\n",
       "       116817,  89068, 128429,  42988,  68748,  64901, 170570, 175151,\n",
       "        77526,  95530,  68295,  40783, 118615, 126226,  89708, 191297,\n",
       "        59287,  97528,  67336, 168726,  77269, 105069,  46119, 165777,\n",
       "       144280, 182752,  81646, 168935, 107644, 123069, 105054,  71063,\n",
       "       152421, 173027,  50146, 136662, 171471,  83790, 127075, 129203,\n",
       "       191018, 143979, 153407,  46866, 180618, 131453,  62888, 129402,\n",
       "       154554, 168548, 193629,  83708,  63525,  75205, 155562, 177331,\n",
       "        45519, 141641,  44198, 113546, 185330, 119978, 159589,  40883,\n",
       "       147243,  83300,  92138,  69430, 150016, 151127,  56863, 160288,\n",
       "        55042, 146837, 108511, 107957,  55791, 188608,  78867, 182912,\n",
       "        42626, 138878, 102819, 128589,  74456, 118172, 174673, 161045,\n",
       "        65901, 151869,  80699,  85402, 107647, 193647, 128425, 187768,\n",
       "       109080,  81401, 125339, 185105,  63519, 111989, 144259,  48133,\n",
       "       181131,  54762,  57409,  65297, 183123, 166464,  55874, 146840,\n",
       "       199943, 148623,  57579,  75765,  71415, 180086, 155065, 158082,\n",
       "        60567, 114661,  91870, 187262,  42553,  48443,  77106, 137375,\n",
       "       155291, 122784, 141141, 141720, 188804,  72749,  89423,  75837,\n",
       "        66854, 132568, 168495, 154836], dtype=int64)"
      ]
     },
     "execution_count": 53,
     "metadata": {},
     "output_type": "execute_result"
    }
   ],
   "source": [
    "import numpy as np\n",
    "a=np.array(y_test)\n",
    "a"
   ]
  },
  {
   "cell_type": "code",
   "execution_count": 55,
   "metadata": {},
   "outputs": [
    {
     "data": {
      "text/plain": [
       "array([117986.22536943, 123308.40564689, 116680.26257765, 123642.95950368,\n",
       "       127475.51563291, 119528.27521898, 120663.83054327, 123487.04617325,\n",
       "       120502.09315776, 123091.44604917, 125521.17109985, 126300.06558253,\n",
       "       118388.20160801, 120262.87920876, 124936.99260991, 122581.99315087,\n",
       "       126693.3141471 , 119564.05410702, 116727.94706419, 124985.1231807 ,\n",
       "       113002.07304237, 122850.46225912, 122017.98749078, 121785.99262132,\n",
       "       120898.09513021, 113349.9376841 , 124859.34452244, 122122.90576584,\n",
       "       126849.25211838, 120242.7963937 , 120853.00739739, 121056.77757586,\n",
       "       124892.13264756, 129191.83545963, 119987.12922517, 116343.0598029 ,\n",
       "       118592.69666799, 113991.37395898, 115902.78083231, 117533.48483369,\n",
       "       109234.22320865, 130349.65735656, 120769.78290175, 130795.31291269,\n",
       "       112366.14738792, 124249.49620774, 115916.32517772, 127329.97931888,\n",
       "       130132.36213392, 120511.76334521, 114134.25692685, 122437.4337034 ,\n",
       "       124369.12927191, 119590.58090901, 113394.71880747, 131014.81781837,\n",
       "       125257.88905744, 116620.53020974, 131593.44827261, 135548.52061625,\n",
       "       126576.75845864, 124401.35337463, 122045.28198541, 125409.38792697,\n",
       "       117824.63069317, 113045.95062   , 108228.30571862, 118149.00102839,\n",
       "       124044.21753392, 114624.74707814, 129447.92191318, 125444.57234787,\n",
       "       132401.48245681, 116575.58195594, 131121.04067254, 117146.59528463,\n",
       "       125887.98668246, 133302.50181768, 127384.8339404 , 127083.6775502 ,\n",
       "       129235.91409271, 122789.2982042 , 122902.516557  , 110455.4456061 ,\n",
       "       121087.17256113, 124748.44322294, 122702.88529512, 122487.36214182,\n",
       "       118642.74695553, 114835.93850603, 121815.55838019, 119405.10062864,\n",
       "       113948.02364599, 119175.8017728 , 122415.62704141, 115939.35035986,\n",
       "       114123.08549679, 121552.49949173, 114572.53543164, 119906.0610406 ,\n",
       "       127393.05425874, 121816.29780493, 123360.75795238, 123022.62717879,\n",
       "       124265.88396013, 118341.80274057, 122826.51632554, 122611.71885429,\n",
       "       124660.33203963, 122454.65119285, 110948.07645981, 126057.34620212,\n",
       "       119020.35148596, 131324.86115462, 120368.63152914, 116727.17512157,\n",
       "       118832.70328429, 125590.85218494, 127725.38340009, 129835.29083358,\n",
       "       120021.5628952 , 118053.87036136, 130955.91661143, 120883.42771176,\n",
       "       122782.50109736, 127240.82532625, 116885.62472553, 118966.51172021,\n",
       "       127303.44143436, 117175.84258983, 116143.75512005, 125521.14383641,\n",
       "       117555.06980362, 130149.74121512, 125024.62583476, 130091.67074512,\n",
       "       116112.88459599, 124518.23081539, 118461.21782575, 117677.92486283,\n",
       "       129786.33149676, 122980.45257452, 123201.36833812, 120429.69553656,\n",
       "       112718.44394819, 129956.46737316, 120430.34311714, 116182.99368373,\n",
       "       128244.97308052, 122194.39452986, 115402.97091961, 115263.37163064,\n",
       "       122026.06281385, 125853.41391777, 121314.55720471, 115445.81065326,\n",
       "       117764.35990907, 119108.07853637, 120220.00561202, 121040.37869433,\n",
       "       117501.60783078, 117574.05411264, 115786.79860551, 111787.09233942,\n",
       "       120553.68283934, 127443.7420582 , 118616.97043741, 123580.25647232,\n",
       "       125181.72779069, 118348.84906779, 122707.62613898, 119683.79666572,\n",
       "       126549.39014446, 124307.4019358 , 119308.05171914, 121897.90657748,\n",
       "       117969.44748159, 120568.75283236, 119306.66471796, 118472.41856697,\n",
       "       119224.32125595, 121328.92360597, 125066.43236079, 124710.5709974 ,\n",
       "       113406.21684601, 128796.12842886, 128070.11125401, 122369.78499649,\n",
       "       123356.98594675, 121054.93018113, 121957.04844634, 118772.91809019,\n",
       "       120081.78601854, 116456.38290336, 117355.2246162 , 119298.90759372,\n",
       "       122329.03976862, 117151.67492203, 119513.46507458, 116595.11346325,\n",
       "       120273.49970142, 119563.80127922, 113972.7593835 , 120434.44267155,\n",
       "       125276.33826608, 113413.33500813, 121997.64328321, 129559.97534139,\n",
       "       130315.49813752, 123628.76453269, 114478.30877436, 116997.59877162,\n",
       "       121631.22520047, 121663.14004462, 122475.6390319 , 124734.49411587,\n",
       "       120648.68779991, 124951.51195414, 116410.81312467, 129321.11817009,\n",
       "       124974.9634451 , 116975.20023447, 118248.42542051, 120544.62830765,\n",
       "       118312.99346999, 115510.17114697, 115220.62046721, 117149.7488699 ,\n",
       "       120237.5181115 , 122530.64203124, 112476.03206677, 127553.91943325,\n",
       "       123397.21288934, 116442.47035892, 127017.36530303, 131316.38442735,\n",
       "       120583.55190795, 126250.46721859, 118794.44837586, 125530.79129135,\n",
       "       113733.60134118, 121935.02277437, 128699.33980176, 127431.48586066,\n",
       "       119449.05593088, 118567.46031474, 127495.86207937, 119825.4209716 ,\n",
       "       121794.85648684, 111653.38852408, 124766.96659784, 125126.44230676,\n",
       "       118382.85917729, 126536.05809569, 128712.55134888, 119294.35714898,\n",
       "       121011.25297399, 112427.97072674, 114384.47073166, 113568.27172376,\n",
       "       116120.59619017, 118894.70560967, 121130.021448  , 120283.58516983,\n",
       "       117896.88389191, 123861.11751456, 123619.60903534, 126280.4393517 ,\n",
       "       119740.81381274, 120074.46715518, 121511.0387228 , 111814.55295538,\n",
       "       119918.49227819, 121946.94565634, 128056.10563628, 109853.45533349,\n",
       "       108334.582479  , 131424.90669876, 128192.33662934, 123635.7679009 ,\n",
       "       120304.11088945, 132263.54400799, 128203.24664802, 114023.52671469,\n",
       "       116964.00234362, 121027.05149259, 113889.16291009, 120260.85435892,\n",
       "       121596.22478916, 116884.27850083, 121982.78020389, 118172.08358842,\n",
       "       121568.18144943, 113231.55108119, 131792.77937193, 118282.70856201,\n",
       "       113272.316863  , 124942.48537471, 129390.53057243, 120122.34033665])"
      ]
     },
     "execution_count": 55,
     "metadata": {},
     "output_type": "execute_result"
    }
   ],
   "source": [
    "predicted=np.array(Lr.predict(x_test))\n",
    "predicted"
   ]
  },
  {
   "cell_type": "code",
   "execution_count": 59,
   "metadata": {},
   "outputs": [
    {
     "data": {
      "text/html": [
       "<div>\n",
       "<style scoped>\n",
       "    .dataframe tbody tr th:only-of-type {\n",
       "        vertical-align: middle;\n",
       "    }\n",
       "\n",
       "    .dataframe tbody tr th {\n",
       "        vertical-align: top;\n",
       "    }\n",
       "\n",
       "    .dataframe thead th {\n",
       "        text-align: right;\n",
       "    }\n",
       "</style>\n",
       "<table border=\"1\" class=\"dataframe\">\n",
       "  <thead>\n",
       "    <tr style=\"text-align: right;\">\n",
       "      <th></th>\n",
       "      <th>original</th>\n",
       "      <th>predicted</th>\n",
       "    </tr>\n",
       "  </thead>\n",
       "  <tbody>\n",
       "    <tr>\n",
       "      <th>0</th>\n",
       "      <td>176707</td>\n",
       "      <td>117986.225369</td>\n",
       "    </tr>\n",
       "    <tr>\n",
       "      <th>1</th>\n",
       "      <td>73397</td>\n",
       "      <td>123308.405647</td>\n",
       "    </tr>\n",
       "    <tr>\n",
       "      <th>2</th>\n",
       "      <td>49158</td>\n",
       "      <td>116680.262578</td>\n",
       "    </tr>\n",
       "    <tr>\n",
       "      <th>3</th>\n",
       "      <td>174547</td>\n",
       "      <td>123642.959504</td>\n",
       "    </tr>\n",
       "    <tr>\n",
       "      <th>4</th>\n",
       "      <td>131397</td>\n",
       "      <td>127475.515633</td>\n",
       "    </tr>\n",
       "    <tr>\n",
       "      <th>...</th>\n",
       "      <td>...</td>\n",
       "      <td>...</td>\n",
       "    </tr>\n",
       "    <tr>\n",
       "      <th>295</th>\n",
       "      <td>75837</td>\n",
       "      <td>118282.708562</td>\n",
       "    </tr>\n",
       "    <tr>\n",
       "      <th>296</th>\n",
       "      <td>66854</td>\n",
       "      <td>113272.316863</td>\n",
       "    </tr>\n",
       "    <tr>\n",
       "      <th>297</th>\n",
       "      <td>132568</td>\n",
       "      <td>124942.485375</td>\n",
       "    </tr>\n",
       "    <tr>\n",
       "      <th>298</th>\n",
       "      <td>168495</td>\n",
       "      <td>129390.530572</td>\n",
       "    </tr>\n",
       "    <tr>\n",
       "      <th>299</th>\n",
       "      <td>154836</td>\n",
       "      <td>120122.340337</td>\n",
       "    </tr>\n",
       "  </tbody>\n",
       "</table>\n",
       "<p>300 rows × 2 columns</p>\n",
       "</div>"
      ],
      "text/plain": [
       "     original      predicted\n",
       "0      176707  117986.225369\n",
       "1       73397  123308.405647\n",
       "2       49158  116680.262578\n",
       "3      174547  123642.959504\n",
       "4      131397  127475.515633\n",
       "..        ...            ...\n",
       "295     75837  118282.708562\n",
       "296     66854  113272.316863\n",
       "297    132568  124942.485375\n",
       "298    168495  129390.530572\n",
       "299    154836  120122.340337\n",
       "\n",
       "[300 rows x 2 columns]"
      ]
     },
     "execution_count": 59,
     "metadata": {},
     "output_type": "execute_result"
    }
   ],
   "source": [
    "df_model=pd.DataFrame({'original':a,'predicted':predicted})\n",
    "df_model"
   ]
  },
  {
   "cell_type": "code",
   "execution_count": null,
   "metadata": {},
   "outputs": [],
   "source": []
  },
  {
   "cell_type": "markdown",
   "metadata": {},
   "source": [
    "#### As the accuracy is not so good we can see variations in the predicted and actual values"
   ]
  },
  {
   "cell_type": "code",
   "execution_count": null,
   "metadata": {},
   "outputs": [],
   "source": []
  }
 ],
 "metadata": {
  "kernelspec": {
   "display_name": "Python 3",
   "language": "python",
   "name": "python3"
  },
  "language_info": {
   "codemirror_mode": {
    "name": "ipython",
    "version": 3
   },
   "file_extension": ".py",
   "mimetype": "text/x-python",
   "name": "python",
   "nbconvert_exporter": "python",
   "pygments_lexer": "ipython3",
   "version": "3.8.3"
  }
 },
 "nbformat": 4,
 "nbformat_minor": 4
}
